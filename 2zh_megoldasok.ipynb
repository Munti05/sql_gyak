{
    "metadata": {
        "kernelspec": {
            "name": "SQL",
            "display_name": "SQL",
            "language": "sql"
        },
        "language_info": {
            "name": "sql",
            "version": ""
        }
    },
    "nbformat_minor": 2,
    "nbformat": 4,
    "cells": [
        {
            "cell_type": "code",
            "source": [
                "-- 1-es feladat\r\n",
                "\r\n",
                "SELECT iif(GROUPING_ID(SZOBA_FK)=1, 'összesen', cast( SZOBA_FK as nvarchar(4))) as 'szobaszám',\r\n",
                "    iif(GROUPING_ID( YEAR(METTOL))=1 and grouping_id(SZOBA_FK)=0, 'szobák száma', cast( YEAR(METTOL) as nvarchar(4))) as 'év',\r\n",
                "    count(*) as 'foglalások száma'\r\n",
                "from Foglalas\r\n",
                "GROUP by rollup(SZOBA_FK, YEAR(METTOL))"
            ],
            "metadata": {
                "azdata_cell_guid": "c4696708-f512-4ca3-8012-bd783d8f6d4c",
                "language": "sql"
            },
            "outputs": [
                {
                    "output_type": "display_data",
                    "data": {
                        "text/html": "(513 rows affected)"
                    },
                    "metadata": {}
                },
                {
                    "output_type": "display_data",
                    "data": {
                        "text/html": "Total execution time: 00:00:00.018"
                    },
                    "metadata": {}
                },
                {
                    "output_type": "execute_result",
                    "metadata": {},
                    "execution_count": 15,
                    "data": {
                        "application/vnd.dataresource+json": {
                            "schema": {
                                "fields": [
                                    {
                                        "name": "szobaszám"
                                    },
                                    {
                                        "name": "év"
                                    },
                                    {
                                        "name": "foglalások száma"
                                    }
                                ]
                            },
                            "data": [
                                {
                                    "szobaszám": "1",
                                    "év": "2016",
                                    "foglalások száma": "8"
                                },
                                {
                                    "szobaszám": "1",
                                    "év": "szobák száma",
                                    "foglalások száma": "8"
                                },
                                {
                                    "szobaszám": "2",
                                    "év": "2016",
                                    "foglalások száma": "4"
                                },
                                {
                                    "szobaszám": "2",
                                    "év": "szobák száma",
                                    "foglalások száma": "4"
                                },
                                {
                                    "szobaszám": "3",
                                    "év": "2016",
                                    "foglalások száma": "6"
                                },
                                {
                                    "szobaszám": "3",
                                    "év": "2017",
                                    "foglalások száma": "2"
                                },
                                {
                                    "szobaszám": "3",
                                    "év": "szobák száma",
                                    "foglalások száma": "8"
                                },
                                {
                                    "szobaszám": "4",
                                    "év": "2016",
                                    "foglalások száma": "5"
                                },
                                {
                                    "szobaszám": "4",
                                    "év": "2017",
                                    "foglalások száma": "1"
                                },
                                {
                                    "szobaszám": "4",
                                    "év": "szobák száma",
                                    "foglalások száma": "6"
                                },
                                {
                                    "szobaszám": "5",
                                    "év": "2016",
                                    "foglalások száma": "4"
                                },
                                {
                                    "szobaszám": "5",
                                    "év": "szobák száma",
                                    "foglalások száma": "4"
                                },
                                {
                                    "szobaszám": "6",
                                    "év": "2016",
                                    "foglalások száma": "6"
                                },
                                {
                                    "szobaszám": "6",
                                    "év": "szobák száma",
                                    "foglalások száma": "6"
                                },
                                {
                                    "szobaszám": "7",
                                    "év": "2016",
                                    "foglalások száma": "6"
                                },
                                {
                                    "szobaszám": "7",
                                    "év": "szobák száma",
                                    "foglalások száma": "6"
                                },
                                {
                                    "szobaszám": "8",
                                    "év": "2016",
                                    "foglalások száma": "5"
                                },
                                {
                                    "szobaszám": "8",
                                    "év": "szobák száma",
                                    "foglalások száma": "5"
                                },
                                {
                                    "szobaszám": "9",
                                    "év": "2016",
                                    "foglalások száma": "4"
                                },
                                {
                                    "szobaszám": "9",
                                    "év": "2017",
                                    "foglalások száma": "2"
                                },
                                {
                                    "szobaszám": "9",
                                    "év": "szobák száma",
                                    "foglalások száma": "6"
                                },
                                {
                                    "szobaszám": "10",
                                    "év": "2016",
                                    "foglalások száma": "4"
                                },
                                {
                                    "szobaszám": "10",
                                    "év": "szobák száma",
                                    "foglalások száma": "4"
                                },
                                {
                                    "szobaszám": "11",
                                    "év": "2016",
                                    "foglalások száma": "3"
                                },
                                {
                                    "szobaszám": "11",
                                    "év": "2017",
                                    "foglalások száma": "1"
                                },
                                {
                                    "szobaszám": "11",
                                    "év": "szobák száma",
                                    "foglalások száma": "4"
                                },
                                {
                                    "szobaszám": "12",
                                    "év": "2016",
                                    "foglalások száma": "8"
                                },
                                {
                                    "szobaszám": "12",
                                    "év": "2017",
                                    "foglalások száma": "1"
                                },
                                {
                                    "szobaszám": "12",
                                    "év": "szobák száma",
                                    "foglalások száma": "9"
                                },
                                {
                                    "szobaszám": "13",
                                    "év": "2016",
                                    "foglalások száma": "3"
                                },
                                {
                                    "szobaszám": "13",
                                    "év": "2017",
                                    "foglalások száma": "1"
                                },
                                {
                                    "szobaszám": "13",
                                    "év": "szobák száma",
                                    "foglalások száma": "4"
                                },
                                {
                                    "szobaszám": "14",
                                    "év": "2016",
                                    "foglalások száma": "2"
                                },
                                {
                                    "szobaszám": "14",
                                    "év": "2017",
                                    "foglalások száma": "1"
                                },
                                {
                                    "szobaszám": "14",
                                    "év": "szobák száma",
                                    "foglalások száma": "3"
                                },
                                {
                                    "szobaszám": "15",
                                    "év": "2016",
                                    "foglalások száma": "4"
                                },
                                {
                                    "szobaszám": "15",
                                    "év": "2017",
                                    "foglalások száma": "2"
                                },
                                {
                                    "szobaszám": "15",
                                    "év": "szobák száma",
                                    "foglalások száma": "6"
                                },
                                {
                                    "szobaszám": "16",
                                    "év": "2016",
                                    "foglalások száma": "4"
                                },
                                {
                                    "szobaszám": "16",
                                    "év": "2017",
                                    "foglalások száma": "1"
                                },
                                {
                                    "szobaszám": "16",
                                    "év": "szobák száma",
                                    "foglalások száma": "5"
                                },
                                {
                                    "szobaszám": "17",
                                    "év": "2016",
                                    "foglalások száma": "5"
                                },
                                {
                                    "szobaszám": "17",
                                    "év": "2017",
                                    "foglalások száma": "1"
                                },
                                {
                                    "szobaszám": "17",
                                    "év": "szobák száma",
                                    "foglalások száma": "6"
                                },
                                {
                                    "szobaszám": "18",
                                    "év": "2016",
                                    "foglalások száma": "5"
                                },
                                {
                                    "szobaszám": "18",
                                    "év": "2017",
                                    "foglalások száma": "1"
                                },
                                {
                                    "szobaszám": "18",
                                    "év": "szobák száma",
                                    "foglalások száma": "6"
                                },
                                {
                                    "szobaszám": "19",
                                    "év": "2016",
                                    "foglalások száma": "5"
                                },
                                {
                                    "szobaszám": "19",
                                    "év": "2017",
                                    "foglalások száma": "1"
                                },
                                {
                                    "szobaszám": "19",
                                    "év": "szobák száma",
                                    "foglalások száma": "6"
                                },
                                {
                                    "szobaszám": "20",
                                    "év": "2016",
                                    "foglalások száma": "5"
                                },
                                {
                                    "szobaszám": "20",
                                    "év": "szobák száma",
                                    "foglalások száma": "5"
                                },
                                {
                                    "szobaszám": "21",
                                    "év": "2016",
                                    "foglalások száma": "4"
                                },
                                {
                                    "szobaszám": "21",
                                    "év": "szobák száma",
                                    "foglalások száma": "4"
                                },
                                {
                                    "szobaszám": "22",
                                    "év": "2016",
                                    "foglalások száma": "6"
                                },
                                {
                                    "szobaszám": "22",
                                    "év": "szobák száma",
                                    "foglalások száma": "6"
                                },
                                {
                                    "szobaszám": "23",
                                    "év": "2016",
                                    "foglalások száma": "3"
                                },
                                {
                                    "szobaszám": "23",
                                    "év": "szobák száma",
                                    "foglalások száma": "3"
                                },
                                {
                                    "szobaszám": "24",
                                    "év": "2016",
                                    "foglalások száma": "2"
                                },
                                {
                                    "szobaszám": "24",
                                    "év": "2017",
                                    "foglalások száma": "1"
                                },
                                {
                                    "szobaszám": "24",
                                    "év": "szobák száma",
                                    "foglalások száma": "3"
                                },
                                {
                                    "szobaszám": "25",
                                    "év": "2016",
                                    "foglalások száma": "2"
                                },
                                {
                                    "szobaszám": "25",
                                    "év": "szobák száma",
                                    "foglalások száma": "2"
                                },
                                {
                                    "szobaszám": "26",
                                    "év": "2016",
                                    "foglalások száma": "2"
                                },
                                {
                                    "szobaszám": "26",
                                    "év": "szobák száma",
                                    "foglalások száma": "2"
                                },
                                {
                                    "szobaszám": "27",
                                    "év": "2016",
                                    "foglalások száma": "6"
                                },
                                {
                                    "szobaszám": "27",
                                    "év": "2017",
                                    "foglalások száma": "1"
                                },
                                {
                                    "szobaszám": "27",
                                    "év": "szobák száma",
                                    "foglalások száma": "7"
                                },
                                {
                                    "szobaszám": "28",
                                    "év": "2016",
                                    "foglalások száma": "5"
                                },
                                {
                                    "szobaszám": "28",
                                    "év": "2017",
                                    "foglalások száma": "1"
                                },
                                {
                                    "szobaszám": "28",
                                    "év": "szobák száma",
                                    "foglalások száma": "6"
                                },
                                {
                                    "szobaszám": "29",
                                    "év": "2016",
                                    "foglalások száma": "5"
                                },
                                {
                                    "szobaszám": "29",
                                    "év": "2017",
                                    "foglalások száma": "1"
                                },
                                {
                                    "szobaszám": "29",
                                    "év": "szobák száma",
                                    "foglalások száma": "6"
                                },
                                {
                                    "szobaszám": "30",
                                    "év": "2016",
                                    "foglalások száma": "3"
                                },
                                {
                                    "szobaszám": "30",
                                    "év": "szobák száma",
                                    "foglalások száma": "3"
                                },
                                {
                                    "szobaszám": "31",
                                    "év": "2016",
                                    "foglalások száma": "3"
                                },
                                {
                                    "szobaszám": "31",
                                    "év": "szobák száma",
                                    "foglalások száma": "3"
                                },
                                {
                                    "szobaszám": "32",
                                    "év": "2016",
                                    "foglalások száma": "1"
                                },
                                {
                                    "szobaszám": "32",
                                    "év": "szobák száma",
                                    "foglalások száma": "1"
                                },
                                {
                                    "szobaszám": "33",
                                    "év": "2016",
                                    "foglalások száma": "6"
                                },
                                {
                                    "szobaszám": "33",
                                    "év": "szobák száma",
                                    "foglalások száma": "6"
                                },
                                {
                                    "szobaszám": "34",
                                    "év": "2016",
                                    "foglalások száma": "4"
                                },
                                {
                                    "szobaszám": "34",
                                    "év": "szobák száma",
                                    "foglalások száma": "4"
                                },
                                {
                                    "szobaszám": "35",
                                    "év": "2016",
                                    "foglalások száma": "6"
                                },
                                {
                                    "szobaszám": "35",
                                    "év": "2017",
                                    "foglalások száma": "3"
                                },
                                {
                                    "szobaszám": "35",
                                    "év": "szobák száma",
                                    "foglalások száma": "9"
                                },
                                {
                                    "szobaszám": "36",
                                    "év": "2016",
                                    "foglalások száma": "6"
                                },
                                {
                                    "szobaszám": "36",
                                    "év": "szobák száma",
                                    "foglalások száma": "6"
                                },
                                {
                                    "szobaszám": "37",
                                    "év": "2016",
                                    "foglalások száma": "3"
                                },
                                {
                                    "szobaszám": "37",
                                    "év": "szobák száma",
                                    "foglalások száma": "3"
                                },
                                {
                                    "szobaszám": "38",
                                    "év": "2016",
                                    "foglalások száma": "5"
                                },
                                {
                                    "szobaszám": "38",
                                    "év": "2017",
                                    "foglalások száma": "3"
                                },
                                {
                                    "szobaszám": "38",
                                    "év": "szobák száma",
                                    "foglalások száma": "8"
                                },
                                {
                                    "szobaszám": "39",
                                    "év": "2016",
                                    "foglalások száma": "4"
                                },
                                {
                                    "szobaszám": "39",
                                    "év": "2017",
                                    "foglalások száma": "3"
                                },
                                {
                                    "szobaszám": "39",
                                    "év": "szobák száma",
                                    "foglalások száma": "7"
                                },
                                {
                                    "szobaszám": "40",
                                    "év": "2016",
                                    "foglalások száma": "4"
                                },
                                {
                                    "szobaszám": "40",
                                    "év": "szobák száma",
                                    "foglalások száma": "4"
                                },
                                {
                                    "szobaszám": "41",
                                    "év": "2016",
                                    "foglalások száma": "2"
                                },
                                {
                                    "szobaszám": "41",
                                    "év": "szobák száma",
                                    "foglalások száma": "2"
                                },
                                {
                                    "szobaszám": "42",
                                    "év": "2016",
                                    "foglalások száma": "5"
                                },
                                {
                                    "szobaszám": "42",
                                    "év": "2017",
                                    "foglalások száma": "1"
                                },
                                {
                                    "szobaszám": "42",
                                    "év": "szobák száma",
                                    "foglalások száma": "6"
                                },
                                {
                                    "szobaszám": "43",
                                    "év": "2016",
                                    "foglalások száma": "6"
                                },
                                {
                                    "szobaszám": "43",
                                    "év": "2017",
                                    "foglalások száma": "2"
                                },
                                {
                                    "szobaszám": "43",
                                    "év": "szobák száma",
                                    "foglalások száma": "8"
                                },
                                {
                                    "szobaszám": "44",
                                    "év": "2016",
                                    "foglalások száma": "4"
                                },
                                {
                                    "szobaszám": "44",
                                    "év": "2017",
                                    "foglalások száma": "2"
                                },
                                {
                                    "szobaszám": "44",
                                    "év": "szobák száma",
                                    "foglalások száma": "6"
                                },
                                {
                                    "szobaszám": "45",
                                    "év": "2016",
                                    "foglalások száma": "5"
                                },
                                {
                                    "szobaszám": "45",
                                    "év": "szobák száma",
                                    "foglalások száma": "5"
                                },
                                {
                                    "szobaszám": "46",
                                    "év": "2016",
                                    "foglalások száma": "3"
                                },
                                {
                                    "szobaszám": "46",
                                    "év": "2017",
                                    "foglalások száma": "1"
                                },
                                {
                                    "szobaszám": "46",
                                    "év": "szobák száma",
                                    "foglalások száma": "4"
                                },
                                {
                                    "szobaszám": "47",
                                    "év": "2016",
                                    "foglalások száma": "2"
                                },
                                {
                                    "szobaszám": "47",
                                    "év": "szobák száma",
                                    "foglalások száma": "2"
                                },
                                {
                                    "szobaszám": "48",
                                    "év": "2016",
                                    "foglalások száma": "6"
                                },
                                {
                                    "szobaszám": "48",
                                    "év": "2017",
                                    "foglalások száma": "3"
                                },
                                {
                                    "szobaszám": "48",
                                    "év": "szobák száma",
                                    "foglalások száma": "9"
                                },
                                {
                                    "szobaszám": "49",
                                    "év": "2016",
                                    "foglalások száma": "6"
                                },
                                {
                                    "szobaszám": "49",
                                    "év": "2017",
                                    "foglalások száma": "1"
                                },
                                {
                                    "szobaszám": "49",
                                    "év": "szobák száma",
                                    "foglalások száma": "7"
                                },
                                {
                                    "szobaszám": "50",
                                    "év": "2016",
                                    "foglalások száma": "4"
                                },
                                {
                                    "szobaszám": "50",
                                    "év": "szobák száma",
                                    "foglalások száma": "4"
                                },
                                {
                                    "szobaszám": "51",
                                    "év": "2016",
                                    "foglalások száma": "3"
                                },
                                {
                                    "szobaszám": "51",
                                    "év": "2017",
                                    "foglalások száma": "2"
                                },
                                {
                                    "szobaszám": "51",
                                    "év": "szobák száma",
                                    "foglalások száma": "5"
                                },
                                {
                                    "szobaszám": "52",
                                    "év": "2016",
                                    "foglalások száma": "3"
                                },
                                {
                                    "szobaszám": "52",
                                    "év": "2017",
                                    "foglalások száma": "2"
                                },
                                {
                                    "szobaszám": "52",
                                    "év": "szobák száma",
                                    "foglalások száma": "5"
                                },
                                {
                                    "szobaszám": "53",
                                    "év": "2016",
                                    "foglalások száma": "2"
                                },
                                {
                                    "szobaszám": "53",
                                    "év": "szobák száma",
                                    "foglalások száma": "2"
                                },
                                {
                                    "szobaszám": "54",
                                    "év": "2016",
                                    "foglalások száma": "6"
                                },
                                {
                                    "szobaszám": "54",
                                    "év": "szobák száma",
                                    "foglalások száma": "6"
                                },
                                {
                                    "szobaszám": "55",
                                    "év": "2016",
                                    "foglalások száma": "6"
                                },
                                {
                                    "szobaszám": "55",
                                    "év": "2017",
                                    "foglalások száma": "2"
                                },
                                {
                                    "szobaszám": "55",
                                    "év": "szobák száma",
                                    "foglalások száma": "8"
                                },
                                {
                                    "szobaszám": "56",
                                    "év": "2016",
                                    "foglalások száma": "2"
                                },
                                {
                                    "szobaszám": "56",
                                    "év": "szobák száma",
                                    "foglalások száma": "2"
                                },
                                {
                                    "szobaszám": "57",
                                    "év": "2016",
                                    "foglalások száma": "2"
                                },
                                {
                                    "szobaszám": "57",
                                    "év": "2017",
                                    "foglalások száma": "2"
                                },
                                {
                                    "szobaszám": "57",
                                    "év": "szobák száma",
                                    "foglalások száma": "4"
                                },
                                {
                                    "szobaszám": "58",
                                    "év": "2016",
                                    "foglalások száma": "12"
                                },
                                {
                                    "szobaszám": "58",
                                    "év": "2017",
                                    "foglalások száma": "1"
                                },
                                {
                                    "szobaszám": "58",
                                    "év": "szobák száma",
                                    "foglalások száma": "13"
                                },
                                {
                                    "szobaszám": "59",
                                    "év": "2016",
                                    "foglalások száma": "6"
                                },
                                {
                                    "szobaszám": "59",
                                    "év": "2017",
                                    "foglalások száma": "1"
                                },
                                {
                                    "szobaszám": "59",
                                    "év": "szobák száma",
                                    "foglalások száma": "7"
                                },
                                {
                                    "szobaszám": "60",
                                    "év": "2016",
                                    "foglalások száma": "1"
                                },
                                {
                                    "szobaszám": "60",
                                    "év": "szobák száma",
                                    "foglalások száma": "1"
                                },
                                {
                                    "szobaszám": "61",
                                    "év": "2016",
                                    "foglalások száma": "4"
                                },
                                {
                                    "szobaszám": "61",
                                    "év": "2017",
                                    "foglalások száma": "1"
                                },
                                {
                                    "szobaszám": "61",
                                    "év": "szobák száma",
                                    "foglalások száma": "5"
                                },
                                {
                                    "szobaszám": "62",
                                    "év": "2016",
                                    "foglalások száma": "4"
                                },
                                {
                                    "szobaszám": "62",
                                    "év": "2017",
                                    "foglalások száma": "1"
                                },
                                {
                                    "szobaszám": "62",
                                    "év": "szobák száma",
                                    "foglalások száma": "5"
                                },
                                {
                                    "szobaszám": "63",
                                    "év": "2016",
                                    "foglalások száma": "4"
                                },
                                {
                                    "szobaszám": "63",
                                    "év": "szobák száma",
                                    "foglalások száma": "4"
                                },
                                {
                                    "szobaszám": "64",
                                    "év": "2016",
                                    "foglalások száma": "3"
                                },
                                {
                                    "szobaszám": "64",
                                    "év": "2017",
                                    "foglalások száma": "3"
                                },
                                {
                                    "szobaszám": "64",
                                    "év": "szobák száma",
                                    "foglalások száma": "6"
                                },
                                {
                                    "szobaszám": "65",
                                    "év": "2016",
                                    "foglalások száma": "1"
                                },
                                {
                                    "szobaszám": "65",
                                    "év": "szobák száma",
                                    "foglalások száma": "1"
                                },
                                {
                                    "szobaszám": "66",
                                    "év": "2016",
                                    "foglalások száma": "4"
                                },
                                {
                                    "szobaszám": "66",
                                    "év": "szobák száma",
                                    "foglalások száma": "4"
                                },
                                {
                                    "szobaszám": "67",
                                    "év": "2016",
                                    "foglalások száma": "4"
                                },
                                {
                                    "szobaszám": "67",
                                    "év": "2017",
                                    "foglalások száma": "2"
                                },
                                {
                                    "szobaszám": "67",
                                    "év": "szobák száma",
                                    "foglalások száma": "6"
                                },
                                {
                                    "szobaszám": "68",
                                    "év": "2016",
                                    "foglalások száma": "3"
                                },
                                {
                                    "szobaszám": "68",
                                    "év": "szobák száma",
                                    "foglalások száma": "3"
                                },
                                {
                                    "szobaszám": "69",
                                    "év": "2016",
                                    "foglalások száma": "4"
                                },
                                {
                                    "szobaszám": "69",
                                    "év": "szobák száma",
                                    "foglalások száma": "4"
                                },
                                {
                                    "szobaszám": "70",
                                    "év": "2016",
                                    "foglalások száma": "10"
                                },
                                {
                                    "szobaszám": "70",
                                    "év": "2017",
                                    "foglalások száma": "1"
                                },
                                {
                                    "szobaszám": "70",
                                    "év": "szobák száma",
                                    "foglalások száma": "11"
                                },
                                {
                                    "szobaszám": "71",
                                    "év": "2016",
                                    "foglalások száma": "3"
                                },
                                {
                                    "szobaszám": "71",
                                    "év": "szobák száma",
                                    "foglalások száma": "3"
                                },
                                {
                                    "szobaszám": "72",
                                    "év": "2016",
                                    "foglalások száma": "4"
                                },
                                {
                                    "szobaszám": "72",
                                    "év": "szobák száma",
                                    "foglalások száma": "4"
                                },
                                {
                                    "szobaszám": "73",
                                    "év": "2016",
                                    "foglalások száma": "4"
                                },
                                {
                                    "szobaszám": "73",
                                    "év": "szobák száma",
                                    "foglalások száma": "4"
                                },
                                {
                                    "szobaszám": "74",
                                    "év": "2016",
                                    "foglalások száma": "9"
                                },
                                {
                                    "szobaszám": "74",
                                    "év": "szobák száma",
                                    "foglalások száma": "9"
                                },
                                {
                                    "szobaszám": "75",
                                    "év": "2016",
                                    "foglalások száma": "1"
                                },
                                {
                                    "szobaszám": "75",
                                    "év": "2017",
                                    "foglalások száma": "2"
                                },
                                {
                                    "szobaszám": "75",
                                    "év": "szobák száma",
                                    "foglalások száma": "3"
                                },
                                {
                                    "szobaszám": "76",
                                    "év": "2016",
                                    "foglalások száma": "2"
                                },
                                {
                                    "szobaszám": "76",
                                    "év": "2017",
                                    "foglalások száma": "1"
                                },
                                {
                                    "szobaszám": "76",
                                    "év": "szobák száma",
                                    "foglalások száma": "3"
                                },
                                {
                                    "szobaszám": "77",
                                    "év": "2016",
                                    "foglalások száma": "4"
                                },
                                {
                                    "szobaszám": "77",
                                    "év": "2017",
                                    "foglalások száma": "2"
                                },
                                {
                                    "szobaszám": "77",
                                    "év": "szobák száma",
                                    "foglalások száma": "6"
                                },
                                {
                                    "szobaszám": "78",
                                    "év": "2016",
                                    "foglalások száma": "5"
                                },
                                {
                                    "szobaszám": "78",
                                    "év": "2017",
                                    "foglalások száma": "1"
                                },
                                {
                                    "szobaszám": "78",
                                    "év": "szobák száma",
                                    "foglalások száma": "6"
                                },
                                {
                                    "szobaszám": "79",
                                    "év": "2016",
                                    "foglalások száma": "4"
                                },
                                {
                                    "szobaszám": "79",
                                    "év": "2017",
                                    "foglalások száma": "1"
                                },
                                {
                                    "szobaszám": "79",
                                    "év": "szobák száma",
                                    "foglalások száma": "5"
                                },
                                {
                                    "szobaszám": "80",
                                    "év": "2016",
                                    "foglalások száma": "7"
                                },
                                {
                                    "szobaszám": "80",
                                    "év": "szobák száma",
                                    "foglalások száma": "7"
                                },
                                {
                                    "szobaszám": "81",
                                    "év": "2016",
                                    "foglalások száma": "1"
                                },
                                {
                                    "szobaszám": "81",
                                    "év": "2017",
                                    "foglalások száma": "4"
                                },
                                {
                                    "szobaszám": "81",
                                    "év": "szobák száma",
                                    "foglalások száma": "5"
                                },
                                {
                                    "szobaszám": "82",
                                    "év": "2016",
                                    "foglalások száma": "6"
                                },
                                {
                                    "szobaszám": "82",
                                    "év": "szobák száma",
                                    "foglalások száma": "6"
                                },
                                {
                                    "szobaszám": "83",
                                    "év": "2016",
                                    "foglalások száma": "8"
                                },
                                {
                                    "szobaszám": "83",
                                    "év": "szobák száma",
                                    "foglalások száma": "8"
                                },
                                {
                                    "szobaszám": "84",
                                    "év": "2016",
                                    "foglalások száma": "4"
                                },
                                {
                                    "szobaszám": "84",
                                    "év": "szobák száma",
                                    "foglalások száma": "4"
                                },
                                {
                                    "szobaszám": "85",
                                    "év": "2016",
                                    "foglalások száma": "3"
                                },
                                {
                                    "szobaszám": "85",
                                    "év": "2017",
                                    "foglalások száma": "1"
                                },
                                {
                                    "szobaszám": "85",
                                    "év": "szobák száma",
                                    "foglalások száma": "4"
                                },
                                {
                                    "szobaszám": "86",
                                    "év": "2016",
                                    "foglalások száma": "4"
                                },
                                {
                                    "szobaszám": "86",
                                    "év": "2017",
                                    "foglalások száma": "1"
                                },
                                {
                                    "szobaszám": "86",
                                    "év": "szobák száma",
                                    "foglalások száma": "5"
                                },
                                {
                                    "szobaszám": "87",
                                    "év": "2016",
                                    "foglalások száma": "4"
                                },
                                {
                                    "szobaszám": "87",
                                    "év": "2017",
                                    "foglalások száma": "1"
                                },
                                {
                                    "szobaszám": "87",
                                    "év": "szobák száma",
                                    "foglalások száma": "5"
                                },
                                {
                                    "szobaszám": "88",
                                    "év": "2016",
                                    "foglalások száma": "6"
                                },
                                {
                                    "szobaszám": "88",
                                    "év": "2017",
                                    "foglalások száma": "2"
                                },
                                {
                                    "szobaszám": "88",
                                    "év": "szobák száma",
                                    "foglalások száma": "8"
                                },
                                {
                                    "szobaszám": "89",
                                    "év": "2016",
                                    "foglalások száma": "7"
                                },
                                {
                                    "szobaszám": "89",
                                    "év": "2017",
                                    "foglalások száma": "1"
                                },
                                {
                                    "szobaszám": "89",
                                    "év": "szobák száma",
                                    "foglalások száma": "8"
                                },
                                {
                                    "szobaszám": "90",
                                    "év": "2016",
                                    "foglalások száma": "4"
                                },
                                {
                                    "szobaszám": "90",
                                    "év": "szobák száma",
                                    "foglalások száma": "4"
                                },
                                {
                                    "szobaszám": "91",
                                    "év": "2016",
                                    "foglalások száma": "4"
                                },
                                {
                                    "szobaszám": "91",
                                    "év": "szobák száma",
                                    "foglalások száma": "4"
                                },
                                {
                                    "szobaszám": "92",
                                    "év": "2016",
                                    "foglalások száma": "4"
                                },
                                {
                                    "szobaszám": "92",
                                    "év": "2017",
                                    "foglalások száma": "2"
                                },
                                {
                                    "szobaszám": "92",
                                    "év": "szobák száma",
                                    "foglalások száma": "6"
                                },
                                {
                                    "szobaszám": "93",
                                    "év": "2016",
                                    "foglalások száma": "5"
                                },
                                {
                                    "szobaszám": "93",
                                    "év": "szobák száma",
                                    "foglalások száma": "5"
                                },
                                {
                                    "szobaszám": "94",
                                    "év": "2016",
                                    "foglalások száma": "8"
                                },
                                {
                                    "szobaszám": "94",
                                    "év": "2017",
                                    "foglalások száma": "2"
                                },
                                {
                                    "szobaszám": "94",
                                    "év": "szobák száma",
                                    "foglalások száma": "10"
                                },
                                {
                                    "szobaszám": "95",
                                    "év": "2016",
                                    "foglalások száma": "3"
                                },
                                {
                                    "szobaszám": "95",
                                    "év": "2017",
                                    "foglalások száma": "1"
                                },
                                {
                                    "szobaszám": "95",
                                    "év": "szobák száma",
                                    "foglalások száma": "4"
                                },
                                {
                                    "szobaszám": "96",
                                    "év": "2016",
                                    "foglalások száma": "5"
                                },
                                {
                                    "szobaszám": "96",
                                    "év": "2017",
                                    "foglalások száma": "2"
                                },
                                {
                                    "szobaszám": "96",
                                    "év": "szobák száma",
                                    "foglalások száma": "7"
                                },
                                {
                                    "szobaszám": "97",
                                    "év": "2016",
                                    "foglalások száma": "5"
                                },
                                {
                                    "szobaszám": "97",
                                    "év": "2017",
                                    "foglalások száma": "2"
                                },
                                {
                                    "szobaszám": "97",
                                    "év": "szobák száma",
                                    "foglalások száma": "7"
                                },
                                {
                                    "szobaszám": "98",
                                    "év": "2016",
                                    "foglalások száma": "4"
                                },
                                {
                                    "szobaszám": "98",
                                    "év": "szobák száma",
                                    "foglalások száma": "4"
                                },
                                {
                                    "szobaszám": "99",
                                    "év": "2016",
                                    "foglalások száma": "4"
                                },
                                {
                                    "szobaszám": "99",
                                    "év": "2017",
                                    "foglalások száma": "1"
                                },
                                {
                                    "szobaszám": "99",
                                    "év": "szobák száma",
                                    "foglalások száma": "5"
                                },
                                {
                                    "szobaszám": "100",
                                    "év": "2016",
                                    "foglalások száma": "3"
                                },
                                {
                                    "szobaszám": "100",
                                    "év": "2017",
                                    "foglalások száma": "1"
                                },
                                {
                                    "szobaszám": "100",
                                    "év": "szobák száma",
                                    "foglalások száma": "4"
                                },
                                {
                                    "szobaszám": "101",
                                    "év": "2016",
                                    "foglalások száma": "2"
                                },
                                {
                                    "szobaszám": "101",
                                    "év": "2017",
                                    "foglalások száma": "1"
                                },
                                {
                                    "szobaszám": "101",
                                    "év": "szobák száma",
                                    "foglalások száma": "3"
                                },
                                {
                                    "szobaszám": "102",
                                    "év": "2016",
                                    "foglalások száma": "2"
                                },
                                {
                                    "szobaszám": "102",
                                    "év": "szobák száma",
                                    "foglalások száma": "2"
                                },
                                {
                                    "szobaszám": "103",
                                    "év": "2016",
                                    "foglalások száma": "3"
                                },
                                {
                                    "szobaszám": "103",
                                    "év": "2017",
                                    "foglalások száma": "1"
                                },
                                {
                                    "szobaszám": "103",
                                    "év": "szobák száma",
                                    "foglalások száma": "4"
                                },
                                {
                                    "szobaszám": "104",
                                    "év": "2016",
                                    "foglalások száma": "2"
                                },
                                {
                                    "szobaszám": "104",
                                    "év": "2017",
                                    "foglalások száma": "2"
                                },
                                {
                                    "szobaszám": "104",
                                    "év": "szobák száma",
                                    "foglalások száma": "4"
                                },
                                {
                                    "szobaszám": "105",
                                    "év": "2016",
                                    "foglalások száma": "1"
                                },
                                {
                                    "szobaszám": "105",
                                    "év": "2017",
                                    "foglalások száma": "1"
                                },
                                {
                                    "szobaszám": "105",
                                    "év": "szobák száma",
                                    "foglalások száma": "2"
                                },
                                {
                                    "szobaszám": "106",
                                    "év": "2016",
                                    "foglalások száma": "5"
                                },
                                {
                                    "szobaszám": "106",
                                    "év": "2017",
                                    "foglalások száma": "1"
                                },
                                {
                                    "szobaszám": "106",
                                    "év": "szobák száma",
                                    "foglalások száma": "6"
                                },
                                {
                                    "szobaszám": "107",
                                    "év": "2016",
                                    "foglalások száma": "3"
                                },
                                {
                                    "szobaszám": "107",
                                    "év": "2017",
                                    "foglalások száma": "2"
                                },
                                {
                                    "szobaszám": "107",
                                    "év": "szobák száma",
                                    "foglalások száma": "5"
                                },
                                {
                                    "szobaszám": "108",
                                    "év": "2016",
                                    "foglalások száma": "2"
                                },
                                {
                                    "szobaszám": "108",
                                    "év": "szobák száma",
                                    "foglalások száma": "2"
                                },
                                {
                                    "szobaszám": "109",
                                    "év": "2016",
                                    "foglalások száma": "6"
                                },
                                {
                                    "szobaszám": "109",
                                    "év": "2017",
                                    "foglalások száma": "1"
                                },
                                {
                                    "szobaszám": "109",
                                    "év": "szobák száma",
                                    "foglalások száma": "7"
                                },
                                {
                                    "szobaszám": "110",
                                    "év": "2016",
                                    "foglalások száma": "6"
                                },
                                {
                                    "szobaszám": "110",
                                    "év": "2017",
                                    "foglalások száma": "2"
                                },
                                {
                                    "szobaszám": "110",
                                    "év": "szobák száma",
                                    "foglalások száma": "8"
                                },
                                {
                                    "szobaszám": "111",
                                    "év": "2016",
                                    "foglalások száma": "5"
                                },
                                {
                                    "szobaszám": "111",
                                    "év": "szobák száma",
                                    "foglalások száma": "5"
                                },
                                {
                                    "szobaszám": "112",
                                    "év": "2016",
                                    "foglalások száma": "4"
                                },
                                {
                                    "szobaszám": "112",
                                    "év": "2017",
                                    "foglalások száma": "1"
                                },
                                {
                                    "szobaszám": "112",
                                    "év": "szobák száma",
                                    "foglalások száma": "5"
                                },
                                {
                                    "szobaszám": "113",
                                    "év": "2016",
                                    "foglalások száma": "3"
                                },
                                {
                                    "szobaszám": "113",
                                    "év": "2017",
                                    "foglalások száma": "2"
                                },
                                {
                                    "szobaszám": "113",
                                    "év": "szobák száma",
                                    "foglalások száma": "5"
                                },
                                {
                                    "szobaszám": "114",
                                    "év": "2016",
                                    "foglalások száma": "3"
                                },
                                {
                                    "szobaszám": "114",
                                    "év": "2017",
                                    "foglalások száma": "1"
                                },
                                {
                                    "szobaszám": "114",
                                    "év": "szobák száma",
                                    "foglalások száma": "4"
                                },
                                {
                                    "szobaszám": "115",
                                    "év": "2016",
                                    "foglalások száma": "5"
                                },
                                {
                                    "szobaszám": "115",
                                    "év": "2017",
                                    "foglalások száma": "2"
                                },
                                {
                                    "szobaszám": "115",
                                    "év": "szobák száma",
                                    "foglalások száma": "7"
                                },
                                {
                                    "szobaszám": "116",
                                    "év": "2017",
                                    "foglalások száma": "2"
                                },
                                {
                                    "szobaszám": "116",
                                    "év": "szobák száma",
                                    "foglalások száma": "2"
                                },
                                {
                                    "szobaszám": "117",
                                    "év": "2016",
                                    "foglalások száma": "7"
                                },
                                {
                                    "szobaszám": "117",
                                    "év": "2017",
                                    "foglalások száma": "1"
                                },
                                {
                                    "szobaszám": "117",
                                    "év": "szobák száma",
                                    "foglalások száma": "8"
                                },
                                {
                                    "szobaszám": "118",
                                    "év": "2016",
                                    "foglalások száma": "5"
                                },
                                {
                                    "szobaszám": "118",
                                    "év": "2017",
                                    "foglalások száma": "2"
                                },
                                {
                                    "szobaszám": "118",
                                    "év": "szobák száma",
                                    "foglalások száma": "7"
                                },
                                {
                                    "szobaszám": "119",
                                    "év": "2016",
                                    "foglalások száma": "3"
                                },
                                {
                                    "szobaszám": "119",
                                    "év": "2017",
                                    "foglalások száma": "2"
                                },
                                {
                                    "szobaszám": "119",
                                    "év": "szobák száma",
                                    "foglalások száma": "5"
                                },
                                {
                                    "szobaszám": "120",
                                    "év": "2016",
                                    "foglalások száma": "4"
                                },
                                {
                                    "szobaszám": "120",
                                    "év": "2017",
                                    "foglalások száma": "2"
                                },
                                {
                                    "szobaszám": "120",
                                    "év": "szobák száma",
                                    "foglalások száma": "6"
                                },
                                {
                                    "szobaszám": "121",
                                    "év": "2016",
                                    "foglalások száma": "8"
                                },
                                {
                                    "szobaszám": "121",
                                    "év": "szobák száma",
                                    "foglalások száma": "8"
                                },
                                {
                                    "szobaszám": "122",
                                    "év": "2016",
                                    "foglalások száma": "8"
                                },
                                {
                                    "szobaszám": "122",
                                    "év": "2017",
                                    "foglalások száma": "1"
                                },
                                {
                                    "szobaszám": "122",
                                    "év": "szobák száma",
                                    "foglalások száma": "9"
                                },
                                {
                                    "szobaszám": "123",
                                    "év": "2016",
                                    "foglalások száma": "5"
                                },
                                {
                                    "szobaszám": "123",
                                    "év": "szobák száma",
                                    "foglalások száma": "5"
                                },
                                {
                                    "szobaszám": "124",
                                    "év": "2016",
                                    "foglalások száma": "4"
                                },
                                {
                                    "szobaszám": "124",
                                    "év": "2017",
                                    "foglalások száma": "2"
                                },
                                {
                                    "szobaszám": "124",
                                    "év": "szobák száma",
                                    "foglalások száma": "6"
                                },
                                {
                                    "szobaszám": "125",
                                    "év": "2016",
                                    "foglalások száma": "1"
                                },
                                {
                                    "szobaszám": "125",
                                    "év": "szobák száma",
                                    "foglalások száma": "1"
                                },
                                {
                                    "szobaszám": "126",
                                    "év": "2016",
                                    "foglalások száma": "4"
                                },
                                {
                                    "szobaszám": "126",
                                    "év": "2017",
                                    "foglalások száma": "2"
                                },
                                {
                                    "szobaszám": "126",
                                    "év": "szobák száma",
                                    "foglalások száma": "6"
                                },
                                {
                                    "szobaszám": "127",
                                    "év": "2016",
                                    "foglalások száma": "6"
                                },
                                {
                                    "szobaszám": "127",
                                    "év": "2017",
                                    "foglalások száma": "1"
                                },
                                {
                                    "szobaszám": "127",
                                    "év": "szobák száma",
                                    "foglalások száma": "7"
                                },
                                {
                                    "szobaszám": "128",
                                    "év": "2016",
                                    "foglalások száma": "3"
                                },
                                {
                                    "szobaszám": "128",
                                    "év": "2017",
                                    "foglalások száma": "2"
                                },
                                {
                                    "szobaszám": "128",
                                    "év": "szobák száma",
                                    "foglalások száma": "5"
                                },
                                {
                                    "szobaszám": "129",
                                    "év": "2016",
                                    "foglalások száma": "2"
                                },
                                {
                                    "szobaszám": "129",
                                    "év": "2017",
                                    "foglalások száma": "2"
                                },
                                {
                                    "szobaszám": "129",
                                    "év": "szobák száma",
                                    "foglalások száma": "4"
                                },
                                {
                                    "szobaszám": "130",
                                    "év": "2016",
                                    "foglalások száma": "5"
                                },
                                {
                                    "szobaszám": "130",
                                    "év": "2017",
                                    "foglalások száma": "1"
                                },
                                {
                                    "szobaszám": "130",
                                    "év": "szobák száma",
                                    "foglalások száma": "6"
                                },
                                {
                                    "szobaszám": "131",
                                    "év": "2016",
                                    "foglalások száma": "4"
                                },
                                {
                                    "szobaszám": "131",
                                    "év": "2017",
                                    "foglalások száma": "1"
                                },
                                {
                                    "szobaszám": "131",
                                    "év": "szobák száma",
                                    "foglalások száma": "5"
                                },
                                {
                                    "szobaszám": "132",
                                    "év": "2016",
                                    "foglalások száma": "5"
                                },
                                {
                                    "szobaszám": "132",
                                    "év": "2017",
                                    "foglalások száma": "1"
                                },
                                {
                                    "szobaszám": "132",
                                    "év": "szobák száma",
                                    "foglalások száma": "6"
                                },
                                {
                                    "szobaszám": "133",
                                    "év": "2016",
                                    "foglalások száma": "5"
                                },
                                {
                                    "szobaszám": "133",
                                    "év": "2017",
                                    "foglalások száma": "1"
                                },
                                {
                                    "szobaszám": "133",
                                    "év": "szobák száma",
                                    "foglalások száma": "6"
                                },
                                {
                                    "szobaszám": "134",
                                    "év": "2016",
                                    "foglalások száma": "5"
                                },
                                {
                                    "szobaszám": "134",
                                    "év": "2017",
                                    "foglalások száma": "1"
                                },
                                {
                                    "szobaszám": "134",
                                    "év": "szobák száma",
                                    "foglalások száma": "6"
                                },
                                {
                                    "szobaszám": "135",
                                    "év": "2016",
                                    "foglalások száma": "3"
                                },
                                {
                                    "szobaszám": "135",
                                    "év": "szobák száma",
                                    "foglalások száma": "3"
                                },
                                {
                                    "szobaszám": "136",
                                    "év": "2016",
                                    "foglalások száma": "3"
                                },
                                {
                                    "szobaszám": "136",
                                    "év": "szobák száma",
                                    "foglalások száma": "3"
                                },
                                {
                                    "szobaszám": "137",
                                    "év": "2016",
                                    "foglalások száma": "6"
                                },
                                {
                                    "szobaszám": "137",
                                    "év": "szobák száma",
                                    "foglalások száma": "6"
                                },
                                {
                                    "szobaszám": "138",
                                    "év": "2016",
                                    "foglalások száma": "7"
                                },
                                {
                                    "szobaszám": "138",
                                    "év": "szobák száma",
                                    "foglalások száma": "7"
                                },
                                {
                                    "szobaszám": "139",
                                    "év": "2016",
                                    "foglalások száma": "5"
                                },
                                {
                                    "szobaszám": "139",
                                    "év": "2017",
                                    "foglalások száma": "2"
                                },
                                {
                                    "szobaszám": "139",
                                    "év": "szobák száma",
                                    "foglalások száma": "7"
                                },
                                {
                                    "szobaszám": "140",
                                    "év": "2016",
                                    "foglalások száma": "8"
                                },
                                {
                                    "szobaszám": "140",
                                    "év": "szobák száma",
                                    "foglalások száma": "8"
                                },
                                {
                                    "szobaszám": "141",
                                    "év": "2016",
                                    "foglalások száma": "6"
                                },
                                {
                                    "szobaszám": "141",
                                    "év": "szobák száma",
                                    "foglalások száma": "6"
                                },
                                {
                                    "szobaszám": "142",
                                    "év": "2016",
                                    "foglalások száma": "1"
                                },
                                {
                                    "szobaszám": "142",
                                    "év": "2017",
                                    "foglalások száma": "1"
                                },
                                {
                                    "szobaszám": "142",
                                    "év": "szobák száma",
                                    "foglalások száma": "2"
                                },
                                {
                                    "szobaszám": "143",
                                    "év": "2016",
                                    "foglalások száma": "6"
                                },
                                {
                                    "szobaszám": "143",
                                    "év": "2017",
                                    "foglalások száma": "1"
                                },
                                {
                                    "szobaszám": "143",
                                    "év": "szobák száma",
                                    "foglalások száma": "7"
                                },
                                {
                                    "szobaszám": "144",
                                    "év": "2016",
                                    "foglalások száma": "4"
                                },
                                {
                                    "szobaszám": "144",
                                    "év": "2017",
                                    "foglalások száma": "1"
                                },
                                {
                                    "szobaszám": "144",
                                    "év": "szobák száma",
                                    "foglalások száma": "5"
                                },
                                {
                                    "szobaszám": "145",
                                    "év": "2016",
                                    "foglalások száma": "5"
                                },
                                {
                                    "szobaszám": "145",
                                    "év": "2017",
                                    "foglalások száma": "1"
                                },
                                {
                                    "szobaszám": "145",
                                    "év": "szobák száma",
                                    "foglalások száma": "6"
                                },
                                {
                                    "szobaszám": "146",
                                    "év": "2016",
                                    "foglalások száma": "5"
                                },
                                {
                                    "szobaszám": "146",
                                    "év": "2017",
                                    "foglalások száma": "1"
                                },
                                {
                                    "szobaszám": "146",
                                    "év": "szobák száma",
                                    "foglalások száma": "6"
                                },
                                {
                                    "szobaszám": "147",
                                    "év": "2016",
                                    "foglalások száma": "1"
                                },
                                {
                                    "szobaszám": "147",
                                    "év": "szobák száma",
                                    "foglalások száma": "1"
                                },
                                {
                                    "szobaszám": "148",
                                    "év": "2016",
                                    "foglalások száma": "5"
                                },
                                {
                                    "szobaszám": "148",
                                    "év": "2017",
                                    "foglalások száma": "1"
                                },
                                {
                                    "szobaszám": "148",
                                    "év": "szobák száma",
                                    "foglalások száma": "6"
                                },
                                {
                                    "szobaszám": "149",
                                    "év": "2016",
                                    "foglalások száma": "6"
                                },
                                {
                                    "szobaszám": "149",
                                    "év": "2017",
                                    "foglalások száma": "1"
                                },
                                {
                                    "szobaszám": "149",
                                    "év": "szobák száma",
                                    "foglalások száma": "7"
                                },
                                {
                                    "szobaszám": "150",
                                    "év": "2016",
                                    "foglalások száma": "5"
                                },
                                {
                                    "szobaszám": "150",
                                    "év": "2017",
                                    "foglalások száma": "1"
                                },
                                {
                                    "szobaszám": "150",
                                    "év": "szobák száma",
                                    "foglalások száma": "6"
                                },
                                {
                                    "szobaszám": "151",
                                    "év": "2016",
                                    "foglalások száma": "3"
                                },
                                {
                                    "szobaszám": "151",
                                    "év": "szobák száma",
                                    "foglalások száma": "3"
                                },
                                {
                                    "szobaszám": "152",
                                    "év": "2016",
                                    "foglalások száma": "3"
                                },
                                {
                                    "szobaszám": "152",
                                    "év": "2017",
                                    "foglalások száma": "1"
                                },
                                {
                                    "szobaszám": "152",
                                    "év": "szobák száma",
                                    "foglalások száma": "4"
                                },
                                {
                                    "szobaszám": "153",
                                    "év": "2016",
                                    "foglalások száma": "2"
                                },
                                {
                                    "szobaszám": "153",
                                    "év": "2017",
                                    "foglalások száma": "3"
                                },
                                {
                                    "szobaszám": "153",
                                    "év": "szobák száma",
                                    "foglalások száma": "5"
                                },
                                {
                                    "szobaszám": "154",
                                    "év": "2016",
                                    "foglalások száma": "4"
                                },
                                {
                                    "szobaszám": "154",
                                    "év": "2017",
                                    "foglalások száma": "1"
                                },
                                {
                                    "szobaszám": "154",
                                    "év": "szobák száma",
                                    "foglalások száma": "5"
                                },
                                {
                                    "szobaszám": "155",
                                    "év": "2016",
                                    "foglalások száma": "4"
                                },
                                {
                                    "szobaszám": "155",
                                    "év": "2017",
                                    "foglalások száma": "1"
                                },
                                {
                                    "szobaszám": "155",
                                    "év": "szobák száma",
                                    "foglalások száma": "5"
                                },
                                {
                                    "szobaszám": "156",
                                    "év": "2016",
                                    "foglalások száma": "4"
                                },
                                {
                                    "szobaszám": "156",
                                    "év": "2017",
                                    "foglalások száma": "3"
                                },
                                {
                                    "szobaszám": "156",
                                    "év": "szobák száma",
                                    "foglalások száma": "7"
                                },
                                {
                                    "szobaszám": "157",
                                    "év": "2016",
                                    "foglalások száma": "4"
                                },
                                {
                                    "szobaszám": "157",
                                    "év": "2017",
                                    "foglalások száma": "1"
                                },
                                {
                                    "szobaszám": "157",
                                    "év": "szobák száma",
                                    "foglalások száma": "5"
                                },
                                {
                                    "szobaszám": "158",
                                    "év": "2016",
                                    "foglalások száma": "3"
                                },
                                {
                                    "szobaszám": "158",
                                    "év": "szobák száma",
                                    "foglalások száma": "3"
                                },
                                {
                                    "szobaszám": "160",
                                    "év": "2016",
                                    "foglalások száma": "4"
                                },
                                {
                                    "szobaszám": "160",
                                    "év": "2017",
                                    "foglalások száma": "1"
                                },
                                {
                                    "szobaszám": "160",
                                    "év": "szobák száma",
                                    "foglalások száma": "5"
                                },
                                {
                                    "szobaszám": "161",
                                    "év": "2016",
                                    "foglalások száma": "5"
                                },
                                {
                                    "szobaszám": "161",
                                    "év": "2017",
                                    "foglalások száma": "1"
                                },
                                {
                                    "szobaszám": "161",
                                    "év": "szobák száma",
                                    "foglalások száma": "6"
                                },
                                {
                                    "szobaszám": "162",
                                    "év": "2016",
                                    "foglalások száma": "3"
                                },
                                {
                                    "szobaszám": "162",
                                    "év": "szobák száma",
                                    "foglalások száma": "3"
                                },
                                {
                                    "szobaszám": "163",
                                    "év": "2016",
                                    "foglalások száma": "6"
                                },
                                {
                                    "szobaszám": "163",
                                    "év": "2017",
                                    "foglalások száma": "1"
                                },
                                {
                                    "szobaszám": "163",
                                    "év": "szobák száma",
                                    "foglalások száma": "7"
                                },
                                {
                                    "szobaszám": "164",
                                    "év": "2016",
                                    "foglalások száma": "5"
                                },
                                {
                                    "szobaszám": "164",
                                    "év": "szobák száma",
                                    "foglalások száma": "5"
                                },
                                {
                                    "szobaszám": "165",
                                    "év": "2016",
                                    "foglalások száma": "7"
                                },
                                {
                                    "szobaszám": "165",
                                    "év": "szobák száma",
                                    "foglalások száma": "7"
                                },
                                {
                                    "szobaszám": "166",
                                    "év": "2016",
                                    "foglalások száma": "2"
                                },
                                {
                                    "szobaszám": "166",
                                    "év": "2017",
                                    "foglalások száma": "1"
                                },
                                {
                                    "szobaszám": "166",
                                    "év": "szobák száma",
                                    "foglalások száma": "3"
                                },
                                {
                                    "szobaszám": "167",
                                    "év": "2016",
                                    "foglalások száma": "1"
                                },
                                {
                                    "szobaszám": "167",
                                    "év": "2017",
                                    "foglalások száma": "1"
                                },
                                {
                                    "szobaszám": "167",
                                    "év": "szobák száma",
                                    "foglalások száma": "2"
                                },
                                {
                                    "szobaszám": "168",
                                    "év": "2016",
                                    "foglalások száma": "5"
                                },
                                {
                                    "szobaszám": "168",
                                    "év": "szobák száma",
                                    "foglalások száma": "5"
                                },
                                {
                                    "szobaszám": "169",
                                    "év": "2016",
                                    "foglalások száma": "5"
                                },
                                {
                                    "szobaszám": "169",
                                    "év": "2017",
                                    "foglalások száma": "1"
                                },
                                {
                                    "szobaszám": "169",
                                    "év": "szobák száma",
                                    "foglalások száma": "6"
                                },
                                {
                                    "szobaszám": "170",
                                    "év": "2016",
                                    "foglalások száma": "5"
                                },
                                {
                                    "szobaszám": "170",
                                    "év": "szobák száma",
                                    "foglalások száma": "5"
                                },
                                {
                                    "szobaszám": "171",
                                    "év": "2016",
                                    "foglalások száma": "4"
                                },
                                {
                                    "szobaszám": "171",
                                    "év": "2017",
                                    "foglalások száma": "1"
                                },
                                {
                                    "szobaszám": "171",
                                    "év": "szobák száma",
                                    "foglalások száma": "5"
                                },
                                {
                                    "szobaszám": "172",
                                    "év": "2016",
                                    "foglalások száma": "7"
                                },
                                {
                                    "szobaszám": "172",
                                    "év": "2017",
                                    "foglalások száma": "2"
                                },
                                {
                                    "szobaszám": "172",
                                    "év": "szobák száma",
                                    "foglalások száma": "9"
                                },
                                {
                                    "szobaszám": "173",
                                    "év": "2016",
                                    "foglalások száma": "3"
                                },
                                {
                                    "szobaszám": "173",
                                    "év": "2017",
                                    "foglalások száma": "1"
                                },
                                {
                                    "szobaszám": "173",
                                    "év": "szobák száma",
                                    "foglalások száma": "4"
                                },
                                {
                                    "szobaszám": "174",
                                    "év": "2016",
                                    "foglalások száma": "4"
                                },
                                {
                                    "szobaszám": "174",
                                    "év": "szobák száma",
                                    "foglalások száma": "4"
                                },
                                {
                                    "szobaszám": "175",
                                    "év": "2016",
                                    "foglalások száma": "5"
                                },
                                {
                                    "szobaszám": "175",
                                    "év": "szobák száma",
                                    "foglalások száma": "5"
                                },
                                {
                                    "szobaszám": "176",
                                    "év": "2016",
                                    "foglalások száma": "4"
                                },
                                {
                                    "szobaszám": "176",
                                    "év": "2017",
                                    "foglalások száma": "2"
                                },
                                {
                                    "szobaszám": "176",
                                    "év": "szobák száma",
                                    "foglalások száma": "6"
                                },
                                {
                                    "szobaszám": "177",
                                    "év": "2016",
                                    "foglalások száma": "3"
                                },
                                {
                                    "szobaszám": "177",
                                    "év": "2017",
                                    "foglalások száma": "1"
                                },
                                {
                                    "szobaszám": "177",
                                    "év": "szobák száma",
                                    "foglalások száma": "4"
                                },
                                {
                                    "szobaszám": "178",
                                    "év": "2016",
                                    "foglalások száma": "4"
                                },
                                {
                                    "szobaszám": "178",
                                    "év": "szobák száma",
                                    "foglalások száma": "4"
                                },
                                {
                                    "szobaszám": "179",
                                    "év": "2016",
                                    "foglalások száma": "2"
                                },
                                {
                                    "szobaszám": "179",
                                    "év": "2017",
                                    "foglalások száma": "1"
                                },
                                {
                                    "szobaszám": "179",
                                    "év": "szobák száma",
                                    "foglalások száma": "3"
                                },
                                {
                                    "szobaszám": "180",
                                    "év": "2016",
                                    "foglalások száma": "1"
                                },
                                {
                                    "szobaszám": "180",
                                    "év": "2017",
                                    "foglalások száma": "2"
                                },
                                {
                                    "szobaszám": "180",
                                    "év": "szobák száma",
                                    "foglalások száma": "3"
                                },
                                {
                                    "szobaszám": "181",
                                    "év": "2016",
                                    "foglalások száma": "6"
                                },
                                {
                                    "szobaszám": "181",
                                    "év": "szobák száma",
                                    "foglalások száma": "6"
                                },
                                {
                                    "szobaszám": "182",
                                    "év": "2016",
                                    "foglalások száma": "10"
                                },
                                {
                                    "szobaszám": "182",
                                    "év": "2017",
                                    "foglalások száma": "2"
                                },
                                {
                                    "szobaszám": "182",
                                    "év": "szobák száma",
                                    "foglalások száma": "12"
                                },
                                {
                                    "szobaszám": "183",
                                    "év": "2016",
                                    "foglalások száma": "3"
                                },
                                {
                                    "szobaszám": "183",
                                    "év": "2017",
                                    "foglalások száma": "1"
                                },
                                {
                                    "szobaszám": "183",
                                    "év": "szobák száma",
                                    "foglalások száma": "4"
                                },
                                {
                                    "szobaszám": "184",
                                    "év": "2016",
                                    "foglalások száma": "4"
                                },
                                {
                                    "szobaszám": "184",
                                    "év": "szobák száma",
                                    "foglalások száma": "4"
                                },
                                {
                                    "szobaszám": "185",
                                    "év": "2016",
                                    "foglalások száma": "10"
                                },
                                {
                                    "szobaszám": "185",
                                    "év": "2017",
                                    "foglalások száma": "2"
                                },
                                {
                                    "szobaszám": "185",
                                    "év": "szobák száma",
                                    "foglalások száma": "12"
                                },
                                {
                                    "szobaszám": "186",
                                    "év": "2016",
                                    "foglalások száma": "3"
                                },
                                {
                                    "szobaszám": "186",
                                    "év": "2017",
                                    "foglalások száma": "1"
                                },
                                {
                                    "szobaszám": "186",
                                    "év": "szobák száma",
                                    "foglalások száma": "4"
                                },
                                {
                                    "szobaszám": "187",
                                    "év": "2016",
                                    "foglalások száma": "7"
                                },
                                {
                                    "szobaszám": "187",
                                    "év": "szobák száma",
                                    "foglalások száma": "7"
                                },
                                {
                                    "szobaszám": "188",
                                    "év": "2016",
                                    "foglalások száma": "6"
                                },
                                {
                                    "szobaszám": "188",
                                    "év": "szobák száma",
                                    "foglalások száma": "6"
                                },
                                {
                                    "szobaszám": "189",
                                    "év": "2016",
                                    "foglalások száma": "3"
                                },
                                {
                                    "szobaszám": "189",
                                    "év": "2017",
                                    "foglalások száma": "2"
                                },
                                {
                                    "szobaszám": "189",
                                    "év": "szobák száma",
                                    "foglalások száma": "5"
                                },
                                {
                                    "szobaszám": "190",
                                    "év": "2016",
                                    "foglalások száma": "4"
                                },
                                {
                                    "szobaszám": "190",
                                    "év": "2017",
                                    "foglalások száma": "1"
                                },
                                {
                                    "szobaszám": "190",
                                    "év": "szobák száma",
                                    "foglalások száma": "5"
                                },
                                {
                                    "szobaszám": "191",
                                    "év": "2016",
                                    "foglalások száma": "3"
                                },
                                {
                                    "szobaszám": "191",
                                    "év": "2017",
                                    "foglalások száma": "2"
                                },
                                {
                                    "szobaszám": "191",
                                    "év": "szobák száma",
                                    "foglalások száma": "5"
                                },
                                {
                                    "szobaszám": "192",
                                    "év": "2016",
                                    "foglalások száma": "2"
                                },
                                {
                                    "szobaszám": "192",
                                    "év": "szobák száma",
                                    "foglalások száma": "2"
                                },
                                {
                                    "szobaszám": "193",
                                    "év": "2016",
                                    "foglalások száma": "7"
                                },
                                {
                                    "szobaszám": "193",
                                    "év": "szobák száma",
                                    "foglalások száma": "7"
                                },
                                {
                                    "szobaszám": "194",
                                    "év": "2016",
                                    "foglalások száma": "1"
                                },
                                {
                                    "szobaszám": "194",
                                    "év": "szobák száma",
                                    "foglalások száma": "1"
                                },
                                {
                                    "szobaszám": "195",
                                    "év": "2016",
                                    "foglalások száma": "4"
                                },
                                {
                                    "szobaszám": "195",
                                    "év": "2017",
                                    "foglalások száma": "2"
                                },
                                {
                                    "szobaszám": "195",
                                    "év": "szobák száma",
                                    "foglalások száma": "6"
                                },
                                {
                                    "szobaszám": "196",
                                    "év": "2016",
                                    "foglalások száma": "4"
                                },
                                {
                                    "szobaszám": "196",
                                    "év": "szobák száma",
                                    "foglalások száma": "4"
                                },
                                {
                                    "szobaszám": "197",
                                    "év": "2016",
                                    "foglalások száma": "6"
                                },
                                {
                                    "szobaszám": "197",
                                    "év": "szobák száma",
                                    "foglalások száma": "6"
                                },
                                {
                                    "szobaszám": "198",
                                    "év": "2016",
                                    "foglalások száma": "7"
                                },
                                {
                                    "szobaszám": "198",
                                    "év": "2017",
                                    "foglalások száma": "1"
                                },
                                {
                                    "szobaszám": "198",
                                    "év": "szobák száma",
                                    "foglalások száma": "8"
                                },
                                {
                                    "szobaszám": "összesen",
                                    "év": "NULL",
                                    "foglalások száma": "1027"
                                }
                            ]
                        },
                        "text/html": [
                            "<table>",
                            "<tr><th>szobaszám</th><th>év</th><th>foglalások száma</th></tr>",
                            "<tr><td>1</td><td>2016</td><td>8</td></tr>",
                            "<tr><td>1</td><td>szobák száma</td><td>8</td></tr>",
                            "<tr><td>2</td><td>2016</td><td>4</td></tr>",
                            "<tr><td>2</td><td>szobák száma</td><td>4</td></tr>",
                            "<tr><td>3</td><td>2016</td><td>6</td></tr>",
                            "<tr><td>3</td><td>2017</td><td>2</td></tr>",
                            "<tr><td>3</td><td>szobák száma</td><td>8</td></tr>",
                            "<tr><td>4</td><td>2016</td><td>5</td></tr>",
                            "<tr><td>4</td><td>2017</td><td>1</td></tr>",
                            "<tr><td>4</td><td>szobák száma</td><td>6</td></tr>",
                            "<tr><td>5</td><td>2016</td><td>4</td></tr>",
                            "<tr><td>5</td><td>szobák száma</td><td>4</td></tr>",
                            "<tr><td>6</td><td>2016</td><td>6</td></tr>",
                            "<tr><td>6</td><td>szobák száma</td><td>6</td></tr>",
                            "<tr><td>7</td><td>2016</td><td>6</td></tr>",
                            "<tr><td>7</td><td>szobák száma</td><td>6</td></tr>",
                            "<tr><td>8</td><td>2016</td><td>5</td></tr>",
                            "<tr><td>8</td><td>szobák száma</td><td>5</td></tr>",
                            "<tr><td>9</td><td>2016</td><td>4</td></tr>",
                            "<tr><td>9</td><td>2017</td><td>2</td></tr>",
                            "<tr><td>9</td><td>szobák száma</td><td>6</td></tr>",
                            "<tr><td>10</td><td>2016</td><td>4</td></tr>",
                            "<tr><td>10</td><td>szobák száma</td><td>4</td></tr>",
                            "<tr><td>11</td><td>2016</td><td>3</td></tr>",
                            "<tr><td>11</td><td>2017</td><td>1</td></tr>",
                            "<tr><td>11</td><td>szobák száma</td><td>4</td></tr>",
                            "<tr><td>12</td><td>2016</td><td>8</td></tr>",
                            "<tr><td>12</td><td>2017</td><td>1</td></tr>",
                            "<tr><td>12</td><td>szobák száma</td><td>9</td></tr>",
                            "<tr><td>13</td><td>2016</td><td>3</td></tr>",
                            "<tr><td>13</td><td>2017</td><td>1</td></tr>",
                            "<tr><td>13</td><td>szobák száma</td><td>4</td></tr>",
                            "<tr><td>14</td><td>2016</td><td>2</td></tr>",
                            "<tr><td>14</td><td>2017</td><td>1</td></tr>",
                            "<tr><td>14</td><td>szobák száma</td><td>3</td></tr>",
                            "<tr><td>15</td><td>2016</td><td>4</td></tr>",
                            "<tr><td>15</td><td>2017</td><td>2</td></tr>",
                            "<tr><td>15</td><td>szobák száma</td><td>6</td></tr>",
                            "<tr><td>16</td><td>2016</td><td>4</td></tr>",
                            "<tr><td>16</td><td>2017</td><td>1</td></tr>",
                            "<tr><td>16</td><td>szobák száma</td><td>5</td></tr>",
                            "<tr><td>17</td><td>2016</td><td>5</td></tr>",
                            "<tr><td>17</td><td>2017</td><td>1</td></tr>",
                            "<tr><td>17</td><td>szobák száma</td><td>6</td></tr>",
                            "<tr><td>18</td><td>2016</td><td>5</td></tr>",
                            "<tr><td>18</td><td>2017</td><td>1</td></tr>",
                            "<tr><td>18</td><td>szobák száma</td><td>6</td></tr>",
                            "<tr><td>19</td><td>2016</td><td>5</td></tr>",
                            "<tr><td>19</td><td>2017</td><td>1</td></tr>",
                            "<tr><td>19</td><td>szobák száma</td><td>6</td></tr>",
                            "<tr><td>20</td><td>2016</td><td>5</td></tr>",
                            "<tr><td>20</td><td>szobák száma</td><td>5</td></tr>",
                            "<tr><td>21</td><td>2016</td><td>4</td></tr>",
                            "<tr><td>21</td><td>szobák száma</td><td>4</td></tr>",
                            "<tr><td>22</td><td>2016</td><td>6</td></tr>",
                            "<tr><td>22</td><td>szobák száma</td><td>6</td></tr>",
                            "<tr><td>23</td><td>2016</td><td>3</td></tr>",
                            "<tr><td>23</td><td>szobák száma</td><td>3</td></tr>",
                            "<tr><td>24</td><td>2016</td><td>2</td></tr>",
                            "<tr><td>24</td><td>2017</td><td>1</td></tr>",
                            "<tr><td>24</td><td>szobák száma</td><td>3</td></tr>",
                            "<tr><td>25</td><td>2016</td><td>2</td></tr>",
                            "<tr><td>25</td><td>szobák száma</td><td>2</td></tr>",
                            "<tr><td>26</td><td>2016</td><td>2</td></tr>",
                            "<tr><td>26</td><td>szobák száma</td><td>2</td></tr>",
                            "<tr><td>27</td><td>2016</td><td>6</td></tr>",
                            "<tr><td>27</td><td>2017</td><td>1</td></tr>",
                            "<tr><td>27</td><td>szobák száma</td><td>7</td></tr>",
                            "<tr><td>28</td><td>2016</td><td>5</td></tr>",
                            "<tr><td>28</td><td>2017</td><td>1</td></tr>",
                            "<tr><td>28</td><td>szobák száma</td><td>6</td></tr>",
                            "<tr><td>29</td><td>2016</td><td>5</td></tr>",
                            "<tr><td>29</td><td>2017</td><td>1</td></tr>",
                            "<tr><td>29</td><td>szobák száma</td><td>6</td></tr>",
                            "<tr><td>30</td><td>2016</td><td>3</td></tr>",
                            "<tr><td>30</td><td>szobák száma</td><td>3</td></tr>",
                            "<tr><td>31</td><td>2016</td><td>3</td></tr>",
                            "<tr><td>31</td><td>szobák száma</td><td>3</td></tr>",
                            "<tr><td>32</td><td>2016</td><td>1</td></tr>",
                            "<tr><td>32</td><td>szobák száma</td><td>1</td></tr>",
                            "<tr><td>33</td><td>2016</td><td>6</td></tr>",
                            "<tr><td>33</td><td>szobák száma</td><td>6</td></tr>",
                            "<tr><td>34</td><td>2016</td><td>4</td></tr>",
                            "<tr><td>34</td><td>szobák száma</td><td>4</td></tr>",
                            "<tr><td>35</td><td>2016</td><td>6</td></tr>",
                            "<tr><td>35</td><td>2017</td><td>3</td></tr>",
                            "<tr><td>35</td><td>szobák száma</td><td>9</td></tr>",
                            "<tr><td>36</td><td>2016</td><td>6</td></tr>",
                            "<tr><td>36</td><td>szobák száma</td><td>6</td></tr>",
                            "<tr><td>37</td><td>2016</td><td>3</td></tr>",
                            "<tr><td>37</td><td>szobák száma</td><td>3</td></tr>",
                            "<tr><td>38</td><td>2016</td><td>5</td></tr>",
                            "<tr><td>38</td><td>2017</td><td>3</td></tr>",
                            "<tr><td>38</td><td>szobák száma</td><td>8</td></tr>",
                            "<tr><td>39</td><td>2016</td><td>4</td></tr>",
                            "<tr><td>39</td><td>2017</td><td>3</td></tr>",
                            "<tr><td>39</td><td>szobák száma</td><td>7</td></tr>",
                            "<tr><td>40</td><td>2016</td><td>4</td></tr>",
                            "<tr><td>40</td><td>szobák száma</td><td>4</td></tr>",
                            "<tr><td>41</td><td>2016</td><td>2</td></tr>",
                            "<tr><td>41</td><td>szobák száma</td><td>2</td></tr>",
                            "<tr><td>42</td><td>2016</td><td>5</td></tr>",
                            "<tr><td>42</td><td>2017</td><td>1</td></tr>",
                            "<tr><td>42</td><td>szobák száma</td><td>6</td></tr>",
                            "<tr><td>43</td><td>2016</td><td>6</td></tr>",
                            "<tr><td>43</td><td>2017</td><td>2</td></tr>",
                            "<tr><td>43</td><td>szobák száma</td><td>8</td></tr>",
                            "<tr><td>44</td><td>2016</td><td>4</td></tr>",
                            "<tr><td>44</td><td>2017</td><td>2</td></tr>",
                            "<tr><td>44</td><td>szobák száma</td><td>6</td></tr>",
                            "<tr><td>45</td><td>2016</td><td>5</td></tr>",
                            "<tr><td>45</td><td>szobák száma</td><td>5</td></tr>",
                            "<tr><td>46</td><td>2016</td><td>3</td></tr>",
                            "<tr><td>46</td><td>2017</td><td>1</td></tr>",
                            "<tr><td>46</td><td>szobák száma</td><td>4</td></tr>",
                            "<tr><td>47</td><td>2016</td><td>2</td></tr>",
                            "<tr><td>47</td><td>szobák száma</td><td>2</td></tr>",
                            "<tr><td>48</td><td>2016</td><td>6</td></tr>",
                            "<tr><td>48</td><td>2017</td><td>3</td></tr>",
                            "<tr><td>48</td><td>szobák száma</td><td>9</td></tr>",
                            "<tr><td>49</td><td>2016</td><td>6</td></tr>",
                            "<tr><td>49</td><td>2017</td><td>1</td></tr>",
                            "<tr><td>49</td><td>szobák száma</td><td>7</td></tr>",
                            "<tr><td>50</td><td>2016</td><td>4</td></tr>",
                            "<tr><td>50</td><td>szobák száma</td><td>4</td></tr>",
                            "<tr><td>51</td><td>2016</td><td>3</td></tr>",
                            "<tr><td>51</td><td>2017</td><td>2</td></tr>",
                            "<tr><td>51</td><td>szobák száma</td><td>5</td></tr>",
                            "<tr><td>52</td><td>2016</td><td>3</td></tr>",
                            "<tr><td>52</td><td>2017</td><td>2</td></tr>",
                            "<tr><td>52</td><td>szobák száma</td><td>5</td></tr>",
                            "<tr><td>53</td><td>2016</td><td>2</td></tr>",
                            "<tr><td>53</td><td>szobák száma</td><td>2</td></tr>",
                            "<tr><td>54</td><td>2016</td><td>6</td></tr>",
                            "<tr><td>54</td><td>szobák száma</td><td>6</td></tr>",
                            "<tr><td>55</td><td>2016</td><td>6</td></tr>",
                            "<tr><td>55</td><td>2017</td><td>2</td></tr>",
                            "<tr><td>55</td><td>szobák száma</td><td>8</td></tr>",
                            "<tr><td>56</td><td>2016</td><td>2</td></tr>",
                            "<tr><td>56</td><td>szobák száma</td><td>2</td></tr>",
                            "<tr><td>57</td><td>2016</td><td>2</td></tr>",
                            "<tr><td>57</td><td>2017</td><td>2</td></tr>",
                            "<tr><td>57</td><td>szobák száma</td><td>4</td></tr>",
                            "<tr><td>58</td><td>2016</td><td>12</td></tr>",
                            "<tr><td>58</td><td>2017</td><td>1</td></tr>",
                            "<tr><td>58</td><td>szobák száma</td><td>13</td></tr>",
                            "<tr><td>59</td><td>2016</td><td>6</td></tr>",
                            "<tr><td>59</td><td>2017</td><td>1</td></tr>",
                            "<tr><td>59</td><td>szobák száma</td><td>7</td></tr>",
                            "<tr><td>60</td><td>2016</td><td>1</td></tr>",
                            "<tr><td>60</td><td>szobák száma</td><td>1</td></tr>",
                            "<tr><td>61</td><td>2016</td><td>4</td></tr>",
                            "<tr><td>61</td><td>2017</td><td>1</td></tr>",
                            "<tr><td>61</td><td>szobák száma</td><td>5</td></tr>",
                            "<tr><td>62</td><td>2016</td><td>4</td></tr>",
                            "<tr><td>62</td><td>2017</td><td>1</td></tr>",
                            "<tr><td>62</td><td>szobák száma</td><td>5</td></tr>",
                            "<tr><td>63</td><td>2016</td><td>4</td></tr>",
                            "<tr><td>63</td><td>szobák száma</td><td>4</td></tr>",
                            "<tr><td>64</td><td>2016</td><td>3</td></tr>",
                            "<tr><td>64</td><td>2017</td><td>3</td></tr>",
                            "<tr><td>64</td><td>szobák száma</td><td>6</td></tr>",
                            "<tr><td>65</td><td>2016</td><td>1</td></tr>",
                            "<tr><td>65</td><td>szobák száma</td><td>1</td></tr>",
                            "<tr><td>66</td><td>2016</td><td>4</td></tr>",
                            "<tr><td>66</td><td>szobák száma</td><td>4</td></tr>",
                            "<tr><td>67</td><td>2016</td><td>4</td></tr>",
                            "<tr><td>67</td><td>2017</td><td>2</td></tr>",
                            "<tr><td>67</td><td>szobák száma</td><td>6</td></tr>",
                            "<tr><td>68</td><td>2016</td><td>3</td></tr>",
                            "<tr><td>68</td><td>szobák száma</td><td>3</td></tr>",
                            "<tr><td>69</td><td>2016</td><td>4</td></tr>",
                            "<tr><td>69</td><td>szobák száma</td><td>4</td></tr>",
                            "<tr><td>70</td><td>2016</td><td>10</td></tr>",
                            "<tr><td>70</td><td>2017</td><td>1</td></tr>",
                            "<tr><td>70</td><td>szobák száma</td><td>11</td></tr>",
                            "<tr><td>71</td><td>2016</td><td>3</td></tr>",
                            "<tr><td>71</td><td>szobák száma</td><td>3</td></tr>",
                            "<tr><td>72</td><td>2016</td><td>4</td></tr>",
                            "<tr><td>72</td><td>szobák száma</td><td>4</td></tr>",
                            "<tr><td>73</td><td>2016</td><td>4</td></tr>",
                            "<tr><td>73</td><td>szobák száma</td><td>4</td></tr>",
                            "<tr><td>74</td><td>2016</td><td>9</td></tr>",
                            "<tr><td>74</td><td>szobák száma</td><td>9</td></tr>",
                            "<tr><td>75</td><td>2016</td><td>1</td></tr>",
                            "<tr><td>75</td><td>2017</td><td>2</td></tr>",
                            "<tr><td>75</td><td>szobák száma</td><td>3</td></tr>",
                            "<tr><td>76</td><td>2016</td><td>2</td></tr>",
                            "<tr><td>76</td><td>2017</td><td>1</td></tr>",
                            "<tr><td>76</td><td>szobák száma</td><td>3</td></tr>",
                            "<tr><td>77</td><td>2016</td><td>4</td></tr>",
                            "<tr><td>77</td><td>2017</td><td>2</td></tr>",
                            "<tr><td>77</td><td>szobák száma</td><td>6</td></tr>",
                            "<tr><td>78</td><td>2016</td><td>5</td></tr>",
                            "<tr><td>78</td><td>2017</td><td>1</td></tr>",
                            "<tr><td>78</td><td>szobák száma</td><td>6</td></tr>",
                            "<tr><td>79</td><td>2016</td><td>4</td></tr>",
                            "<tr><td>79</td><td>2017</td><td>1</td></tr>",
                            "<tr><td>79</td><td>szobák száma</td><td>5</td></tr>",
                            "<tr><td>80</td><td>2016</td><td>7</td></tr>",
                            "<tr><td>80</td><td>szobák száma</td><td>7</td></tr>",
                            "<tr><td>81</td><td>2016</td><td>1</td></tr>",
                            "<tr><td>81</td><td>2017</td><td>4</td></tr>",
                            "<tr><td>81</td><td>szobák száma</td><td>5</td></tr>",
                            "<tr><td>82</td><td>2016</td><td>6</td></tr>",
                            "<tr><td>82</td><td>szobák száma</td><td>6</td></tr>",
                            "<tr><td>83</td><td>2016</td><td>8</td></tr>",
                            "<tr><td>83</td><td>szobák száma</td><td>8</td></tr>",
                            "<tr><td>84</td><td>2016</td><td>4</td></tr>",
                            "<tr><td>84</td><td>szobák száma</td><td>4</td></tr>",
                            "<tr><td>85</td><td>2016</td><td>3</td></tr>",
                            "<tr><td>85</td><td>2017</td><td>1</td></tr>",
                            "<tr><td>85</td><td>szobák száma</td><td>4</td></tr>",
                            "<tr><td>86</td><td>2016</td><td>4</td></tr>",
                            "<tr><td>86</td><td>2017</td><td>1</td></tr>",
                            "<tr><td>86</td><td>szobák száma</td><td>5</td></tr>",
                            "<tr><td>87</td><td>2016</td><td>4</td></tr>",
                            "<tr><td>87</td><td>2017</td><td>1</td></tr>",
                            "<tr><td>87</td><td>szobák száma</td><td>5</td></tr>",
                            "<tr><td>88</td><td>2016</td><td>6</td></tr>",
                            "<tr><td>88</td><td>2017</td><td>2</td></tr>",
                            "<tr><td>88</td><td>szobák száma</td><td>8</td></tr>",
                            "<tr><td>89</td><td>2016</td><td>7</td></tr>",
                            "<tr><td>89</td><td>2017</td><td>1</td></tr>",
                            "<tr><td>89</td><td>szobák száma</td><td>8</td></tr>",
                            "<tr><td>90</td><td>2016</td><td>4</td></tr>",
                            "<tr><td>90</td><td>szobák száma</td><td>4</td></tr>",
                            "<tr><td>91</td><td>2016</td><td>4</td></tr>",
                            "<tr><td>91</td><td>szobák száma</td><td>4</td></tr>",
                            "<tr><td>92</td><td>2016</td><td>4</td></tr>",
                            "<tr><td>92</td><td>2017</td><td>2</td></tr>",
                            "<tr><td>92</td><td>szobák száma</td><td>6</td></tr>",
                            "<tr><td>93</td><td>2016</td><td>5</td></tr>",
                            "<tr><td>93</td><td>szobák száma</td><td>5</td></tr>",
                            "<tr><td>94</td><td>2016</td><td>8</td></tr>",
                            "<tr><td>94</td><td>2017</td><td>2</td></tr>",
                            "<tr><td>94</td><td>szobák száma</td><td>10</td></tr>",
                            "<tr><td>95</td><td>2016</td><td>3</td></tr>",
                            "<tr><td>95</td><td>2017</td><td>1</td></tr>",
                            "<tr><td>95</td><td>szobák száma</td><td>4</td></tr>",
                            "<tr><td>96</td><td>2016</td><td>5</td></tr>",
                            "<tr><td>96</td><td>2017</td><td>2</td></tr>",
                            "<tr><td>96</td><td>szobák száma</td><td>7</td></tr>",
                            "<tr><td>97</td><td>2016</td><td>5</td></tr>",
                            "<tr><td>97</td><td>2017</td><td>2</td></tr>",
                            "<tr><td>97</td><td>szobák száma</td><td>7</td></tr>",
                            "<tr><td>98</td><td>2016</td><td>4</td></tr>",
                            "<tr><td>98</td><td>szobák száma</td><td>4</td></tr>",
                            "<tr><td>99</td><td>2016</td><td>4</td></tr>",
                            "<tr><td>99</td><td>2017</td><td>1</td></tr>",
                            "<tr><td>99</td><td>szobák száma</td><td>5</td></tr>",
                            "<tr><td>100</td><td>2016</td><td>3</td></tr>",
                            "<tr><td>100</td><td>2017</td><td>1</td></tr>",
                            "<tr><td>100</td><td>szobák száma</td><td>4</td></tr>",
                            "<tr><td>101</td><td>2016</td><td>2</td></tr>",
                            "<tr><td>101</td><td>2017</td><td>1</td></tr>",
                            "<tr><td>101</td><td>szobák száma</td><td>3</td></tr>",
                            "<tr><td>102</td><td>2016</td><td>2</td></tr>",
                            "<tr><td>102</td><td>szobák száma</td><td>2</td></tr>",
                            "<tr><td>103</td><td>2016</td><td>3</td></tr>",
                            "<tr><td>103</td><td>2017</td><td>1</td></tr>",
                            "<tr><td>103</td><td>szobák száma</td><td>4</td></tr>",
                            "<tr><td>104</td><td>2016</td><td>2</td></tr>",
                            "<tr><td>104</td><td>2017</td><td>2</td></tr>",
                            "<tr><td>104</td><td>szobák száma</td><td>4</td></tr>",
                            "<tr><td>105</td><td>2016</td><td>1</td></tr>",
                            "<tr><td>105</td><td>2017</td><td>1</td></tr>",
                            "<tr><td>105</td><td>szobák száma</td><td>2</td></tr>",
                            "<tr><td>106</td><td>2016</td><td>5</td></tr>",
                            "<tr><td>106</td><td>2017</td><td>1</td></tr>",
                            "<tr><td>106</td><td>szobák száma</td><td>6</td></tr>",
                            "<tr><td>107</td><td>2016</td><td>3</td></tr>",
                            "<tr><td>107</td><td>2017</td><td>2</td></tr>",
                            "<tr><td>107</td><td>szobák száma</td><td>5</td></tr>",
                            "<tr><td>108</td><td>2016</td><td>2</td></tr>",
                            "<tr><td>108</td><td>szobák száma</td><td>2</td></tr>",
                            "<tr><td>109</td><td>2016</td><td>6</td></tr>",
                            "<tr><td>109</td><td>2017</td><td>1</td></tr>",
                            "<tr><td>109</td><td>szobák száma</td><td>7</td></tr>",
                            "<tr><td>110</td><td>2016</td><td>6</td></tr>",
                            "<tr><td>110</td><td>2017</td><td>2</td></tr>",
                            "<tr><td>110</td><td>szobák száma</td><td>8</td></tr>",
                            "<tr><td>111</td><td>2016</td><td>5</td></tr>",
                            "<tr><td>111</td><td>szobák száma</td><td>5</td></tr>",
                            "<tr><td>112</td><td>2016</td><td>4</td></tr>",
                            "<tr><td>112</td><td>2017</td><td>1</td></tr>",
                            "<tr><td>112</td><td>szobák száma</td><td>5</td></tr>",
                            "<tr><td>113</td><td>2016</td><td>3</td></tr>",
                            "<tr><td>113</td><td>2017</td><td>2</td></tr>",
                            "<tr><td>113</td><td>szobák száma</td><td>5</td></tr>",
                            "<tr><td>114</td><td>2016</td><td>3</td></tr>",
                            "<tr><td>114</td><td>2017</td><td>1</td></tr>",
                            "<tr><td>114</td><td>szobák száma</td><td>4</td></tr>",
                            "<tr><td>115</td><td>2016</td><td>5</td></tr>",
                            "<tr><td>115</td><td>2017</td><td>2</td></tr>",
                            "<tr><td>115</td><td>szobák száma</td><td>7</td></tr>",
                            "<tr><td>116</td><td>2017</td><td>2</td></tr>",
                            "<tr><td>116</td><td>szobák száma</td><td>2</td></tr>",
                            "<tr><td>117</td><td>2016</td><td>7</td></tr>",
                            "<tr><td>117</td><td>2017</td><td>1</td></tr>",
                            "<tr><td>117</td><td>szobák száma</td><td>8</td></tr>",
                            "<tr><td>118</td><td>2016</td><td>5</td></tr>",
                            "<tr><td>118</td><td>2017</td><td>2</td></tr>",
                            "<tr><td>118</td><td>szobák száma</td><td>7</td></tr>",
                            "<tr><td>119</td><td>2016</td><td>3</td></tr>",
                            "<tr><td>119</td><td>2017</td><td>2</td></tr>",
                            "<tr><td>119</td><td>szobák száma</td><td>5</td></tr>",
                            "<tr><td>120</td><td>2016</td><td>4</td></tr>",
                            "<tr><td>120</td><td>2017</td><td>2</td></tr>",
                            "<tr><td>120</td><td>szobák száma</td><td>6</td></tr>",
                            "<tr><td>121</td><td>2016</td><td>8</td></tr>",
                            "<tr><td>121</td><td>szobák száma</td><td>8</td></tr>",
                            "<tr><td>122</td><td>2016</td><td>8</td></tr>",
                            "<tr><td>122</td><td>2017</td><td>1</td></tr>",
                            "<tr><td>122</td><td>szobák száma</td><td>9</td></tr>",
                            "<tr><td>123</td><td>2016</td><td>5</td></tr>",
                            "<tr><td>123</td><td>szobák száma</td><td>5</td></tr>",
                            "<tr><td>124</td><td>2016</td><td>4</td></tr>",
                            "<tr><td>124</td><td>2017</td><td>2</td></tr>",
                            "<tr><td>124</td><td>szobák száma</td><td>6</td></tr>",
                            "<tr><td>125</td><td>2016</td><td>1</td></tr>",
                            "<tr><td>125</td><td>szobák száma</td><td>1</td></tr>",
                            "<tr><td>126</td><td>2016</td><td>4</td></tr>",
                            "<tr><td>126</td><td>2017</td><td>2</td></tr>",
                            "<tr><td>126</td><td>szobák száma</td><td>6</td></tr>",
                            "<tr><td>127</td><td>2016</td><td>6</td></tr>",
                            "<tr><td>127</td><td>2017</td><td>1</td></tr>",
                            "<tr><td>127</td><td>szobák száma</td><td>7</td></tr>",
                            "<tr><td>128</td><td>2016</td><td>3</td></tr>",
                            "<tr><td>128</td><td>2017</td><td>2</td></tr>",
                            "<tr><td>128</td><td>szobák száma</td><td>5</td></tr>",
                            "<tr><td>129</td><td>2016</td><td>2</td></tr>",
                            "<tr><td>129</td><td>2017</td><td>2</td></tr>",
                            "<tr><td>129</td><td>szobák száma</td><td>4</td></tr>",
                            "<tr><td>130</td><td>2016</td><td>5</td></tr>",
                            "<tr><td>130</td><td>2017</td><td>1</td></tr>",
                            "<tr><td>130</td><td>szobák száma</td><td>6</td></tr>",
                            "<tr><td>131</td><td>2016</td><td>4</td></tr>",
                            "<tr><td>131</td><td>2017</td><td>1</td></tr>",
                            "<tr><td>131</td><td>szobák száma</td><td>5</td></tr>",
                            "<tr><td>132</td><td>2016</td><td>5</td></tr>",
                            "<tr><td>132</td><td>2017</td><td>1</td></tr>",
                            "<tr><td>132</td><td>szobák száma</td><td>6</td></tr>",
                            "<tr><td>133</td><td>2016</td><td>5</td></tr>",
                            "<tr><td>133</td><td>2017</td><td>1</td></tr>",
                            "<tr><td>133</td><td>szobák száma</td><td>6</td></tr>",
                            "<tr><td>134</td><td>2016</td><td>5</td></tr>",
                            "<tr><td>134</td><td>2017</td><td>1</td></tr>",
                            "<tr><td>134</td><td>szobák száma</td><td>6</td></tr>",
                            "<tr><td>135</td><td>2016</td><td>3</td></tr>",
                            "<tr><td>135</td><td>szobák száma</td><td>3</td></tr>",
                            "<tr><td>136</td><td>2016</td><td>3</td></tr>",
                            "<tr><td>136</td><td>szobák száma</td><td>3</td></tr>",
                            "<tr><td>137</td><td>2016</td><td>6</td></tr>",
                            "<tr><td>137</td><td>szobák száma</td><td>6</td></tr>",
                            "<tr><td>138</td><td>2016</td><td>7</td></tr>",
                            "<tr><td>138</td><td>szobák száma</td><td>7</td></tr>",
                            "<tr><td>139</td><td>2016</td><td>5</td></tr>",
                            "<tr><td>139</td><td>2017</td><td>2</td></tr>",
                            "<tr><td>139</td><td>szobák száma</td><td>7</td></tr>",
                            "<tr><td>140</td><td>2016</td><td>8</td></tr>",
                            "<tr><td>140</td><td>szobák száma</td><td>8</td></tr>",
                            "<tr><td>141</td><td>2016</td><td>6</td></tr>",
                            "<tr><td>141</td><td>szobák száma</td><td>6</td></tr>",
                            "<tr><td>142</td><td>2016</td><td>1</td></tr>",
                            "<tr><td>142</td><td>2017</td><td>1</td></tr>",
                            "<tr><td>142</td><td>szobák száma</td><td>2</td></tr>",
                            "<tr><td>143</td><td>2016</td><td>6</td></tr>",
                            "<tr><td>143</td><td>2017</td><td>1</td></tr>",
                            "<tr><td>143</td><td>szobák száma</td><td>7</td></tr>",
                            "<tr><td>144</td><td>2016</td><td>4</td></tr>",
                            "<tr><td>144</td><td>2017</td><td>1</td></tr>",
                            "<tr><td>144</td><td>szobák száma</td><td>5</td></tr>",
                            "<tr><td>145</td><td>2016</td><td>5</td></tr>",
                            "<tr><td>145</td><td>2017</td><td>1</td></tr>",
                            "<tr><td>145</td><td>szobák száma</td><td>6</td></tr>",
                            "<tr><td>146</td><td>2016</td><td>5</td></tr>",
                            "<tr><td>146</td><td>2017</td><td>1</td></tr>",
                            "<tr><td>146</td><td>szobák száma</td><td>6</td></tr>",
                            "<tr><td>147</td><td>2016</td><td>1</td></tr>",
                            "<tr><td>147</td><td>szobák száma</td><td>1</td></tr>",
                            "<tr><td>148</td><td>2016</td><td>5</td></tr>",
                            "<tr><td>148</td><td>2017</td><td>1</td></tr>",
                            "<tr><td>148</td><td>szobák száma</td><td>6</td></tr>",
                            "<tr><td>149</td><td>2016</td><td>6</td></tr>",
                            "<tr><td>149</td><td>2017</td><td>1</td></tr>",
                            "<tr><td>149</td><td>szobák száma</td><td>7</td></tr>",
                            "<tr><td>150</td><td>2016</td><td>5</td></tr>",
                            "<tr><td>150</td><td>2017</td><td>1</td></tr>",
                            "<tr><td>150</td><td>szobák száma</td><td>6</td></tr>",
                            "<tr><td>151</td><td>2016</td><td>3</td></tr>",
                            "<tr><td>151</td><td>szobák száma</td><td>3</td></tr>",
                            "<tr><td>152</td><td>2016</td><td>3</td></tr>",
                            "<tr><td>152</td><td>2017</td><td>1</td></tr>",
                            "<tr><td>152</td><td>szobák száma</td><td>4</td></tr>",
                            "<tr><td>153</td><td>2016</td><td>2</td></tr>",
                            "<tr><td>153</td><td>2017</td><td>3</td></tr>",
                            "<tr><td>153</td><td>szobák száma</td><td>5</td></tr>",
                            "<tr><td>154</td><td>2016</td><td>4</td></tr>",
                            "<tr><td>154</td><td>2017</td><td>1</td></tr>",
                            "<tr><td>154</td><td>szobák száma</td><td>5</td></tr>",
                            "<tr><td>155</td><td>2016</td><td>4</td></tr>",
                            "<tr><td>155</td><td>2017</td><td>1</td></tr>",
                            "<tr><td>155</td><td>szobák száma</td><td>5</td></tr>",
                            "<tr><td>156</td><td>2016</td><td>4</td></tr>",
                            "<tr><td>156</td><td>2017</td><td>3</td></tr>",
                            "<tr><td>156</td><td>szobák száma</td><td>7</td></tr>",
                            "<tr><td>157</td><td>2016</td><td>4</td></tr>",
                            "<tr><td>157</td><td>2017</td><td>1</td></tr>",
                            "<tr><td>157</td><td>szobák száma</td><td>5</td></tr>",
                            "<tr><td>158</td><td>2016</td><td>3</td></tr>",
                            "<tr><td>158</td><td>szobák száma</td><td>3</td></tr>",
                            "<tr><td>160</td><td>2016</td><td>4</td></tr>",
                            "<tr><td>160</td><td>2017</td><td>1</td></tr>",
                            "<tr><td>160</td><td>szobák száma</td><td>5</td></tr>",
                            "<tr><td>161</td><td>2016</td><td>5</td></tr>",
                            "<tr><td>161</td><td>2017</td><td>1</td></tr>",
                            "<tr><td>161</td><td>szobák száma</td><td>6</td></tr>",
                            "<tr><td>162</td><td>2016</td><td>3</td></tr>",
                            "<tr><td>162</td><td>szobák száma</td><td>3</td></tr>",
                            "<tr><td>163</td><td>2016</td><td>6</td></tr>",
                            "<tr><td>163</td><td>2017</td><td>1</td></tr>",
                            "<tr><td>163</td><td>szobák száma</td><td>7</td></tr>",
                            "<tr><td>164</td><td>2016</td><td>5</td></tr>",
                            "<tr><td>164</td><td>szobák száma</td><td>5</td></tr>",
                            "<tr><td>165</td><td>2016</td><td>7</td></tr>",
                            "<tr><td>165</td><td>szobák száma</td><td>7</td></tr>",
                            "<tr><td>166</td><td>2016</td><td>2</td></tr>",
                            "<tr><td>166</td><td>2017</td><td>1</td></tr>",
                            "<tr><td>166</td><td>szobák száma</td><td>3</td></tr>",
                            "<tr><td>167</td><td>2016</td><td>1</td></tr>",
                            "<tr><td>167</td><td>2017</td><td>1</td></tr>",
                            "<tr><td>167</td><td>szobák száma</td><td>2</td></tr>",
                            "<tr><td>168</td><td>2016</td><td>5</td></tr>",
                            "<tr><td>168</td><td>szobák száma</td><td>5</td></tr>",
                            "<tr><td>169</td><td>2016</td><td>5</td></tr>",
                            "<tr><td>169</td><td>2017</td><td>1</td></tr>",
                            "<tr><td>169</td><td>szobák száma</td><td>6</td></tr>",
                            "<tr><td>170</td><td>2016</td><td>5</td></tr>",
                            "<tr><td>170</td><td>szobák száma</td><td>5</td></tr>",
                            "<tr><td>171</td><td>2016</td><td>4</td></tr>",
                            "<tr><td>171</td><td>2017</td><td>1</td></tr>",
                            "<tr><td>171</td><td>szobák száma</td><td>5</td></tr>",
                            "<tr><td>172</td><td>2016</td><td>7</td></tr>",
                            "<tr><td>172</td><td>2017</td><td>2</td></tr>",
                            "<tr><td>172</td><td>szobák száma</td><td>9</td></tr>",
                            "<tr><td>173</td><td>2016</td><td>3</td></tr>",
                            "<tr><td>173</td><td>2017</td><td>1</td></tr>",
                            "<tr><td>173</td><td>szobák száma</td><td>4</td></tr>",
                            "<tr><td>174</td><td>2016</td><td>4</td></tr>",
                            "<tr><td>174</td><td>szobák száma</td><td>4</td></tr>",
                            "<tr><td>175</td><td>2016</td><td>5</td></tr>",
                            "<tr><td>175</td><td>szobák száma</td><td>5</td></tr>",
                            "<tr><td>176</td><td>2016</td><td>4</td></tr>",
                            "<tr><td>176</td><td>2017</td><td>2</td></tr>",
                            "<tr><td>176</td><td>szobák száma</td><td>6</td></tr>",
                            "<tr><td>177</td><td>2016</td><td>3</td></tr>",
                            "<tr><td>177</td><td>2017</td><td>1</td></tr>",
                            "<tr><td>177</td><td>szobák száma</td><td>4</td></tr>",
                            "<tr><td>178</td><td>2016</td><td>4</td></tr>",
                            "<tr><td>178</td><td>szobák száma</td><td>4</td></tr>",
                            "<tr><td>179</td><td>2016</td><td>2</td></tr>",
                            "<tr><td>179</td><td>2017</td><td>1</td></tr>",
                            "<tr><td>179</td><td>szobák száma</td><td>3</td></tr>",
                            "<tr><td>180</td><td>2016</td><td>1</td></tr>",
                            "<tr><td>180</td><td>2017</td><td>2</td></tr>",
                            "<tr><td>180</td><td>szobák száma</td><td>3</td></tr>",
                            "<tr><td>181</td><td>2016</td><td>6</td></tr>",
                            "<tr><td>181</td><td>szobák száma</td><td>6</td></tr>",
                            "<tr><td>182</td><td>2016</td><td>10</td></tr>",
                            "<tr><td>182</td><td>2017</td><td>2</td></tr>",
                            "<tr><td>182</td><td>szobák száma</td><td>12</td></tr>",
                            "<tr><td>183</td><td>2016</td><td>3</td></tr>",
                            "<tr><td>183</td><td>2017</td><td>1</td></tr>",
                            "<tr><td>183</td><td>szobák száma</td><td>4</td></tr>",
                            "<tr><td>184</td><td>2016</td><td>4</td></tr>",
                            "<tr><td>184</td><td>szobák száma</td><td>4</td></tr>",
                            "<tr><td>185</td><td>2016</td><td>10</td></tr>",
                            "<tr><td>185</td><td>2017</td><td>2</td></tr>",
                            "<tr><td>185</td><td>szobák száma</td><td>12</td></tr>",
                            "<tr><td>186</td><td>2016</td><td>3</td></tr>",
                            "<tr><td>186</td><td>2017</td><td>1</td></tr>",
                            "<tr><td>186</td><td>szobák száma</td><td>4</td></tr>",
                            "<tr><td>187</td><td>2016</td><td>7</td></tr>",
                            "<tr><td>187</td><td>szobák száma</td><td>7</td></tr>",
                            "<tr><td>188</td><td>2016</td><td>6</td></tr>",
                            "<tr><td>188</td><td>szobák száma</td><td>6</td></tr>",
                            "<tr><td>189</td><td>2016</td><td>3</td></tr>",
                            "<tr><td>189</td><td>2017</td><td>2</td></tr>",
                            "<tr><td>189</td><td>szobák száma</td><td>5</td></tr>",
                            "<tr><td>190</td><td>2016</td><td>4</td></tr>",
                            "<tr><td>190</td><td>2017</td><td>1</td></tr>",
                            "<tr><td>190</td><td>szobák száma</td><td>5</td></tr>",
                            "<tr><td>191</td><td>2016</td><td>3</td></tr>",
                            "<tr><td>191</td><td>2017</td><td>2</td></tr>",
                            "<tr><td>191</td><td>szobák száma</td><td>5</td></tr>",
                            "<tr><td>192</td><td>2016</td><td>2</td></tr>",
                            "<tr><td>192</td><td>szobák száma</td><td>2</td></tr>",
                            "<tr><td>193</td><td>2016</td><td>7</td></tr>",
                            "<tr><td>193</td><td>szobák száma</td><td>7</td></tr>",
                            "<tr><td>194</td><td>2016</td><td>1</td></tr>",
                            "<tr><td>194</td><td>szobák száma</td><td>1</td></tr>",
                            "<tr><td>195</td><td>2016</td><td>4</td></tr>",
                            "<tr><td>195</td><td>2017</td><td>2</td></tr>",
                            "<tr><td>195</td><td>szobák száma</td><td>6</td></tr>",
                            "<tr><td>196</td><td>2016</td><td>4</td></tr>",
                            "<tr><td>196</td><td>szobák száma</td><td>4</td></tr>",
                            "<tr><td>197</td><td>2016</td><td>6</td></tr>",
                            "<tr><td>197</td><td>szobák száma</td><td>6</td></tr>",
                            "<tr><td>198</td><td>2016</td><td>7</td></tr>",
                            "<tr><td>198</td><td>2017</td><td>1</td></tr>",
                            "<tr><td>198</td><td>szobák száma</td><td>8</td></tr>",
                            "<tr><td>összesen</td><td>NULL</td><td>1027</td></tr>",
                            "</table>"
                        ]
                    }
                }
            ],
            "execution_count": 15
        },
        {
            "cell_type": "code",
            "source": [
                "-- 2-es feladat\r\n",
                "\r\n",
                "Select sz.SZOBA_ID, sz.FEROHELY,\r\n",
                "        DENSE_RANK() over(order by count(*) desc, sz.FEROHELY) as 'helyezés'\r\n",
                "from Szoba sz join Foglalas f on f.SZOBA_FK = sz.SZOBA_ID\r\n",
                "GROUP by sz.SZOBA_ID, sz.FEROHELY"
            ],
            "metadata": {
                "language": "sql",
                "azdata_cell_guid": "a661b8b9-c625-4b06-8cc3-7bb37807698d"
            },
            "outputs": [
                {
                    "output_type": "display_data",
                    "data": {
                        "text/html": "(197 rows affected)"
                    },
                    "metadata": {}
                },
                {
                    "output_type": "display_data",
                    "data": {
                        "text/html": "Total execution time: 00:00:00.015"
                    },
                    "metadata": {}
                },
                {
                    "output_type": "execute_result",
                    "metadata": {},
                    "execution_count": 14,
                    "data": {
                        "application/vnd.dataresource+json": {
                            "schema": {
                                "fields": [
                                    {
                                        "name": "SZOBA_ID"
                                    },
                                    {
                                        "name": "FEROHELY"
                                    },
                                    {
                                        "name": "helyezés"
                                    }
                                ]
                            },
                            "data": [
                                {
                                    "SZOBA_ID": "58",
                                    "FEROHELY": "2",
                                    "helyezés": "1"
                                },
                                {
                                    "SZOBA_ID": "182",
                                    "FEROHELY": "2",
                                    "helyezés": "2"
                                },
                                {
                                    "SZOBA_ID": "185",
                                    "FEROHELY": "3",
                                    "helyezés": "3"
                                },
                                {
                                    "SZOBA_ID": "70",
                                    "FEROHELY": "2",
                                    "helyezés": "4"
                                },
                                {
                                    "SZOBA_ID": "94",
                                    "FEROHELY": "2",
                                    "helyezés": "5"
                                },
                                {
                                    "SZOBA_ID": "12",
                                    "FEROHELY": "2",
                                    "helyezés": "6"
                                },
                                {
                                    "SZOBA_ID": "172",
                                    "FEROHELY": "2",
                                    "helyezés": "6"
                                },
                                {
                                    "SZOBA_ID": "35",
                                    "FEROHELY": "3",
                                    "helyezés": "7"
                                },
                                {
                                    "SZOBA_ID": "48",
                                    "FEROHELY": "3",
                                    "helyezés": "7"
                                },
                                {
                                    "SZOBA_ID": "74",
                                    "FEROHELY": "3",
                                    "helyezés": "7"
                                },
                                {
                                    "SZOBA_ID": "122",
                                    "FEROHELY": "3",
                                    "helyezés": "7"
                                },
                                {
                                    "SZOBA_ID": "121",
                                    "FEROHELY": "2",
                                    "helyezés": "8"
                                },
                                {
                                    "SZOBA_ID": "140",
                                    "FEROHELY": "2",
                                    "helyezés": "8"
                                },
                                {
                                    "SZOBA_ID": "110",
                                    "FEROHELY": "2",
                                    "helyezés": "8"
                                },
                                {
                                    "SZOBA_ID": "55",
                                    "FEROHELY": "2",
                                    "helyezés": "8"
                                },
                                {
                                    "SZOBA_ID": "38",
                                    "FEROHELY": "2",
                                    "helyezés": "8"
                                },
                                {
                                    "SZOBA_ID": "1",
                                    "FEROHELY": "3",
                                    "helyezés": "9"
                                },
                                {
                                    "SZOBA_ID": "3",
                                    "FEROHELY": "3",
                                    "helyezés": "9"
                                },
                                {
                                    "SZOBA_ID": "43",
                                    "FEROHELY": "3",
                                    "helyezés": "9"
                                },
                                {
                                    "SZOBA_ID": "83",
                                    "FEROHELY": "3",
                                    "helyezés": "9"
                                },
                                {
                                    "SZOBA_ID": "88",
                                    "FEROHELY": "3",
                                    "helyezés": "9"
                                },
                                {
                                    "SZOBA_ID": "89",
                                    "FEROHELY": "3",
                                    "helyezés": "9"
                                },
                                {
                                    "SZOBA_ID": "117",
                                    "FEROHELY": "3",
                                    "helyezés": "9"
                                },
                                {
                                    "SZOBA_ID": "198",
                                    "FEROHELY": "3",
                                    "helyezés": "9"
                                },
                                {
                                    "SZOBA_ID": "149",
                                    "FEROHELY": "2",
                                    "helyezés": "10"
                                },
                                {
                                    "SZOBA_ID": "156",
                                    "FEROHELY": "2",
                                    "helyezés": "10"
                                },
                                {
                                    "SZOBA_ID": "163",
                                    "FEROHELY": "2",
                                    "helyezés": "10"
                                },
                                {
                                    "SZOBA_ID": "165",
                                    "FEROHELY": "2",
                                    "helyezés": "10"
                                },
                                {
                                    "SZOBA_ID": "118",
                                    "FEROHELY": "2",
                                    "helyezés": "10"
                                },
                                {
                                    "SZOBA_ID": "109",
                                    "FEROHELY": "2",
                                    "helyezés": "10"
                                },
                                {
                                    "SZOBA_ID": "127",
                                    "FEROHELY": "2",
                                    "helyezés": "10"
                                },
                                {
                                    "SZOBA_ID": "139",
                                    "FEROHELY": "2",
                                    "helyezés": "10"
                                },
                                {
                                    "SZOBA_ID": "80",
                                    "FEROHELY": "2",
                                    "helyezés": "10"
                                },
                                {
                                    "SZOBA_ID": "59",
                                    "FEROHELY": "2",
                                    "helyezés": "10"
                                },
                                {
                                    "SZOBA_ID": "39",
                                    "FEROHELY": "2",
                                    "helyezés": "10"
                                },
                                {
                                    "SZOBA_ID": "27",
                                    "FEROHELY": "3",
                                    "helyezés": "11"
                                },
                                {
                                    "SZOBA_ID": "49",
                                    "FEROHELY": "3",
                                    "helyezés": "11"
                                },
                                {
                                    "SZOBA_ID": "96",
                                    "FEROHELY": "3",
                                    "helyezés": "11"
                                },
                                {
                                    "SZOBA_ID": "97",
                                    "FEROHELY": "3",
                                    "helyezés": "11"
                                },
                                {
                                    "SZOBA_ID": "138",
                                    "FEROHELY": "3",
                                    "helyezés": "11"
                                },
                                {
                                    "SZOBA_ID": "143",
                                    "FEROHELY": "3",
                                    "helyezés": "11"
                                },
                                {
                                    "SZOBA_ID": "115",
                                    "FEROHELY": "3",
                                    "helyezés": "11"
                                },
                                {
                                    "SZOBA_ID": "187",
                                    "FEROHELY": "3",
                                    "helyezés": "11"
                                },
                                {
                                    "SZOBA_ID": "193",
                                    "FEROHELY": "3",
                                    "helyezés": "11"
                                },
                                {
                                    "SZOBA_ID": "195",
                                    "FEROHELY": "2",
                                    "helyezés": "12"
                                },
                                {
                                    "SZOBA_ID": "161",
                                    "FEROHELY": "2",
                                    "helyezés": "12"
                                },
                                {
                                    "SZOBA_ID": "150",
                                    "FEROHELY": "2",
                                    "helyezés": "12"
                                },
                                {
                                    "SZOBA_ID": "148",
                                    "FEROHELY": "2",
                                    "helyezés": "12"
                                },
                                {
                                    "SZOBA_ID": "169",
                                    "FEROHELY": "2",
                                    "helyezés": "12"
                                },
                                {
                                    "SZOBA_ID": "106",
                                    "FEROHELY": "2",
                                    "helyezés": "12"
                                },
                                {
                                    "SZOBA_ID": "126",
                                    "FEROHELY": "2",
                                    "helyezés": "12"
                                },
                                {
                                    "SZOBA_ID": "145",
                                    "FEROHELY": "2",
                                    "helyezés": "12"
                                },
                                {
                                    "SZOBA_ID": "141",
                                    "FEROHELY": "2",
                                    "helyezés": "12"
                                },
                                {
                                    "SZOBA_ID": "130",
                                    "FEROHELY": "2",
                                    "helyezés": "12"
                                },
                                {
                                    "SZOBA_ID": "137",
                                    "FEROHELY": "2",
                                    "helyezés": "12"
                                },
                                {
                                    "SZOBA_ID": "78",
                                    "FEROHELY": "2",
                                    "helyezés": "12"
                                },
                                {
                                    "SZOBA_ID": "42",
                                    "FEROHELY": "2",
                                    "helyezés": "12"
                                },
                                {
                                    "SZOBA_ID": "64",
                                    "FEROHELY": "2",
                                    "helyezés": "12"
                                },
                                {
                                    "SZOBA_ID": "67",
                                    "FEROHELY": "2",
                                    "helyezés": "12"
                                },
                                {
                                    "SZOBA_ID": "28",
                                    "FEROHELY": "2",
                                    "helyezés": "12"
                                },
                                {
                                    "SZOBA_ID": "29",
                                    "FEROHELY": "2",
                                    "helyezés": "12"
                                },
                                {
                                    "SZOBA_ID": "19",
                                    "FEROHELY": "2",
                                    "helyezés": "12"
                                },
                                {
                                    "SZOBA_ID": "33",
                                    "FEROHELY": "2",
                                    "helyezés": "12"
                                },
                                {
                                    "SZOBA_ID": "4",
                                    "FEROHELY": "2",
                                    "helyezés": "12"
                                },
                                {
                                    "SZOBA_ID": "7",
                                    "FEROHELY": "2",
                                    "helyezés": "12"
                                },
                                {
                                    "SZOBA_ID": "15",
                                    "FEROHELY": "2",
                                    "helyezés": "12"
                                },
                                {
                                    "SZOBA_ID": "17",
                                    "FEROHELY": "3",
                                    "helyezés": "13"
                                },
                                {
                                    "SZOBA_ID": "18",
                                    "FEROHELY": "3",
                                    "helyezés": "13"
                                },
                                {
                                    "SZOBA_ID": "6",
                                    "FEROHELY": "3",
                                    "helyezés": "13"
                                },
                                {
                                    "SZOBA_ID": "9",
                                    "FEROHELY": "3",
                                    "helyezés": "13"
                                },
                                {
                                    "SZOBA_ID": "22",
                                    "FEROHELY": "3",
                                    "helyezés": "13"
                                },
                                {
                                    "SZOBA_ID": "36",
                                    "FEROHELY": "3",
                                    "helyezés": "13"
                                },
                                {
                                    "SZOBA_ID": "44",
                                    "FEROHELY": "3",
                                    "helyezés": "13"
                                },
                                {
                                    "SZOBA_ID": "54",
                                    "FEROHELY": "3",
                                    "helyezés": "13"
                                },
                                {
                                    "SZOBA_ID": "77",
                                    "FEROHELY": "3",
                                    "helyezés": "13"
                                },
                                {
                                    "SZOBA_ID": "82",
                                    "FEROHELY": "3",
                                    "helyezés": "13"
                                },
                                {
                                    "SZOBA_ID": "92",
                                    "FEROHELY": "3",
                                    "helyezés": "13"
                                },
                                {
                                    "SZOBA_ID": "132",
                                    "FEROHELY": "3",
                                    "helyezés": "13"
                                },
                                {
                                    "SZOBA_ID": "133",
                                    "FEROHELY": "3",
                                    "helyezés": "13"
                                },
                                {
                                    "SZOBA_ID": "134",
                                    "FEROHELY": "3",
                                    "helyezés": "13"
                                },
                                {
                                    "SZOBA_ID": "146",
                                    "FEROHELY": "3",
                                    "helyezés": "13"
                                },
                                {
                                    "SZOBA_ID": "124",
                                    "FEROHELY": "3",
                                    "helyezés": "13"
                                },
                                {
                                    "SZOBA_ID": "120",
                                    "FEROHELY": "3",
                                    "helyezés": "13"
                                },
                                {
                                    "SZOBA_ID": "176",
                                    "FEROHELY": "3",
                                    "helyezés": "13"
                                },
                                {
                                    "SZOBA_ID": "181",
                                    "FEROHELY": "3",
                                    "helyezés": "13"
                                },
                                {
                                    "SZOBA_ID": "188",
                                    "FEROHELY": "3",
                                    "helyezés": "13"
                                },
                                {
                                    "SZOBA_ID": "197",
                                    "FEROHELY": "3",
                                    "helyezés": "13"
                                },
                                {
                                    "SZOBA_ID": "189",
                                    "FEROHELY": "2",
                                    "helyezés": "14"
                                },
                                {
                                    "SZOBA_ID": "190",
                                    "FEROHELY": "2",
                                    "helyezés": "14"
                                },
                                {
                                    "SZOBA_ID": "191",
                                    "FEROHELY": "2",
                                    "helyezés": "14"
                                },
                                {
                                    "SZOBA_ID": "168",
                                    "FEROHELY": "2",
                                    "helyezés": "14"
                                },
                                {
                                    "SZOBA_ID": "175",
                                    "FEROHELY": "2",
                                    "helyezés": "14"
                                },
                                {
                                    "SZOBA_ID": "170",
                                    "FEROHELY": "2",
                                    "helyezés": "14"
                                },
                                {
                                    "SZOBA_ID": "171",
                                    "FEROHELY": "2",
                                    "helyezés": "14"
                                },
                                {
                                    "SZOBA_ID": "157",
                                    "FEROHELY": "2",
                                    "helyezés": "14"
                                },
                                {
                                    "SZOBA_ID": "154",
                                    "FEROHELY": "2",
                                    "helyezés": "14"
                                },
                                {
                                    "SZOBA_ID": "164",
                                    "FEROHELY": "2",
                                    "helyezés": "14"
                                },
                                {
                                    "SZOBA_ID": "119",
                                    "FEROHELY": "2",
                                    "helyezés": "14"
                                },
                                {
                                    "SZOBA_ID": "107",
                                    "FEROHELY": "2",
                                    "helyezés": "14"
                                },
                                {
                                    "SZOBA_ID": "128",
                                    "FEROHELY": "2",
                                    "helyezés": "14"
                                },
                                {
                                    "SZOBA_ID": "131",
                                    "FEROHELY": "2",
                                    "helyezés": "14"
                                },
                                {
                                    "SZOBA_ID": "99",
                                    "FEROHELY": "2",
                                    "helyezés": "14"
                                },
                                {
                                    "SZOBA_ID": "111",
                                    "FEROHELY": "2",
                                    "helyezés": "14"
                                },
                                {
                                    "SZOBA_ID": "81",
                                    "FEROHELY": "2",
                                    "helyezés": "14"
                                },
                                {
                                    "SZOBA_ID": "86",
                                    "FEROHELY": "2",
                                    "helyezés": "14"
                                },
                                {
                                    "SZOBA_ID": "52",
                                    "FEROHELY": "2",
                                    "helyezés": "14"
                                },
                                {
                                    "SZOBA_ID": "45",
                                    "FEROHELY": "2",
                                    "helyezés": "14"
                                },
                                {
                                    "SZOBA_ID": "62",
                                    "FEROHELY": "2",
                                    "helyezés": "14"
                                },
                                {
                                    "SZOBA_ID": "61",
                                    "FEROHELY": "3",
                                    "helyezés": "15"
                                },
                                {
                                    "SZOBA_ID": "51",
                                    "FEROHELY": "3",
                                    "helyezés": "15"
                                },
                                {
                                    "SZOBA_ID": "20",
                                    "FEROHELY": "3",
                                    "helyezés": "15"
                                },
                                {
                                    "SZOBA_ID": "8",
                                    "FEROHELY": "3",
                                    "helyezés": "15"
                                },
                                {
                                    "SZOBA_ID": "16",
                                    "FEROHELY": "3",
                                    "helyezés": "15"
                                },
                                {
                                    "SZOBA_ID": "87",
                                    "FEROHELY": "3",
                                    "helyezés": "15"
                                },
                                {
                                    "SZOBA_ID": "79",
                                    "FEROHELY": "3",
                                    "helyezés": "15"
                                },
                                {
                                    "SZOBA_ID": "112",
                                    "FEROHELY": "3",
                                    "helyezés": "15"
                                },
                                {
                                    "SZOBA_ID": "113",
                                    "FEROHELY": "3",
                                    "helyezés": "15"
                                },
                                {
                                    "SZOBA_ID": "93",
                                    "FEROHELY": "3",
                                    "helyezés": "15"
                                },
                                {
                                    "SZOBA_ID": "144",
                                    "FEROHELY": "3",
                                    "helyezés": "15"
                                },
                                {
                                    "SZOBA_ID": "123",
                                    "FEROHELY": "3",
                                    "helyezés": "15"
                                },
                                {
                                    "SZOBA_ID": "153",
                                    "FEROHELY": "3",
                                    "helyezés": "15"
                                },
                                {
                                    "SZOBA_ID": "160",
                                    "FEROHELY": "3",
                                    "helyezés": "15"
                                },
                                {
                                    "SZOBA_ID": "155",
                                    "FEROHELY": "3",
                                    "helyezés": "15"
                                },
                                {
                                    "SZOBA_ID": "152",
                                    "FEROHELY": "2",
                                    "helyezés": "16"
                                },
                                {
                                    "SZOBA_ID": "173",
                                    "FEROHELY": "2",
                                    "helyezés": "16"
                                },
                                {
                                    "SZOBA_ID": "174",
                                    "FEROHELY": "2",
                                    "helyezés": "16"
                                },
                                {
                                    "SZOBA_ID": "186",
                                    "FEROHELY": "2",
                                    "helyezés": "16"
                                },
                                {
                                    "SZOBA_ID": "196",
                                    "FEROHELY": "2",
                                    "helyezés": "16"
                                },
                                {
                                    "SZOBA_ID": "184",
                                    "FEROHELY": "2",
                                    "helyezés": "16"
                                },
                                {
                                    "SZOBA_ID": "129",
                                    "FEROHELY": "2",
                                    "helyezés": "16"
                                },
                                {
                                    "SZOBA_ID": "100",
                                    "FEROHELY": "2",
                                    "helyezés": "16"
                                },
                                {
                                    "SZOBA_ID": "114",
                                    "FEROHELY": "2",
                                    "helyezés": "16"
                                },
                                {
                                    "SZOBA_ID": "98",
                                    "FEROHELY": "2",
                                    "helyezés": "16"
                                },
                                {
                                    "SZOBA_ID": "103",
                                    "FEROHELY": "2",
                                    "helyezés": "16"
                                },
                                {
                                    "SZOBA_ID": "85",
                                    "FEROHELY": "2",
                                    "helyezés": "16"
                                },
                                {
                                    "SZOBA_ID": "91",
                                    "FEROHELY": "2",
                                    "helyezés": "16"
                                },
                                {
                                    "SZOBA_ID": "11",
                                    "FEROHELY": "2",
                                    "helyezés": "16"
                                },
                                {
                                    "SZOBA_ID": "5",
                                    "FEROHELY": "2",
                                    "helyezés": "16"
                                },
                                {
                                    "SZOBA_ID": "21",
                                    "FEROHELY": "2",
                                    "helyezés": "16"
                                },
                                {
                                    "SZOBA_ID": "50",
                                    "FEROHELY": "2",
                                    "helyezés": "16"
                                },
                                {
                                    "SZOBA_ID": "57",
                                    "FEROHELY": "2",
                                    "helyezés": "16"
                                },
                                {
                                    "SZOBA_ID": "63",
                                    "FEROHELY": "2",
                                    "helyezés": "16"
                                },
                                {
                                    "SZOBA_ID": "72",
                                    "FEROHELY": "2",
                                    "helyezés": "16"
                                },
                                {
                                    "SZOBA_ID": "73",
                                    "FEROHELY": "2",
                                    "helyezés": "16"
                                },
                                {
                                    "SZOBA_ID": "66",
                                    "FEROHELY": "3",
                                    "helyezés": "17"
                                },
                                {
                                    "SZOBA_ID": "69",
                                    "FEROHELY": "3",
                                    "helyezés": "17"
                                },
                                {
                                    "SZOBA_ID": "46",
                                    "FEROHELY": "3",
                                    "helyezés": "17"
                                },
                                {
                                    "SZOBA_ID": "34",
                                    "FEROHELY": "3",
                                    "helyezés": "17"
                                },
                                {
                                    "SZOBA_ID": "40",
                                    "FEROHELY": "3",
                                    "helyezés": "17"
                                },
                                {
                                    "SZOBA_ID": "2",
                                    "FEROHELY": "3",
                                    "helyezés": "17"
                                },
                                {
                                    "SZOBA_ID": "10",
                                    "FEROHELY": "3",
                                    "helyezés": "17"
                                },
                                {
                                    "SZOBA_ID": "13",
                                    "FEROHELY": "3",
                                    "helyezés": "17"
                                },
                                {
                                    "SZOBA_ID": "90",
                                    "FEROHELY": "3",
                                    "helyezés": "17"
                                },
                                {
                                    "SZOBA_ID": "84",
                                    "FEROHELY": "3",
                                    "helyezés": "17"
                                },
                                {
                                    "SZOBA_ID": "104",
                                    "FEROHELY": "3",
                                    "helyezés": "17"
                                },
                                {
                                    "SZOBA_ID": "95",
                                    "FEROHELY": "3",
                                    "helyezés": "17"
                                },
                                {
                                    "SZOBA_ID": "183",
                                    "FEROHELY": "3",
                                    "helyezés": "17"
                                },
                                {
                                    "SZOBA_ID": "177",
                                    "FEROHELY": "3",
                                    "helyezés": "17"
                                },
                                {
                                    "SZOBA_ID": "178",
                                    "FEROHELY": "3",
                                    "helyezés": "17"
                                },
                                {
                                    "SZOBA_ID": "180",
                                    "FEROHELY": "2",
                                    "helyezés": "18"
                                },
                                {
                                    "SZOBA_ID": "151",
                                    "FEROHELY": "2",
                                    "helyezés": "18"
                                },
                                {
                                    "SZOBA_ID": "158",
                                    "FEROHELY": "2",
                                    "helyezés": "18"
                                },
                                {
                                    "SZOBA_ID": "166",
                                    "FEROHELY": "2",
                                    "helyezés": "18"
                                },
                                {
                                    "SZOBA_ID": "101",
                                    "FEROHELY": "2",
                                    "helyezés": "18"
                                },
                                {
                                    "SZOBA_ID": "75",
                                    "FEROHELY": "2",
                                    "helyezés": "18"
                                },
                                {
                                    "SZOBA_ID": "76",
                                    "FEROHELY": "2",
                                    "helyezés": "18"
                                },
                                {
                                    "SZOBA_ID": "136",
                                    "FEROHELY": "2",
                                    "helyezés": "18"
                                },
                                {
                                    "SZOBA_ID": "23",
                                    "FEROHELY": "2",
                                    "helyezés": "18"
                                },
                                {
                                    "SZOBA_ID": "37",
                                    "FEROHELY": "2",
                                    "helyezés": "18"
                                },
                                {
                                    "SZOBA_ID": "68",
                                    "FEROHELY": "2",
                                    "helyezés": "18"
                                },
                                {
                                    "SZOBA_ID": "71",
                                    "FEROHELY": "3",
                                    "helyezés": "19"
                                },
                                {
                                    "SZOBA_ID": "30",
                                    "FEROHELY": "3",
                                    "helyezés": "19"
                                },
                                {
                                    "SZOBA_ID": "31",
                                    "FEROHELY": "3",
                                    "helyezés": "19"
                                },
                                {
                                    "SZOBA_ID": "14",
                                    "FEROHELY": "3",
                                    "helyezés": "19"
                                },
                                {
                                    "SZOBA_ID": "135",
                                    "FEROHELY": "3",
                                    "helyezés": "19"
                                },
                                {
                                    "SZOBA_ID": "162",
                                    "FEROHELY": "3",
                                    "helyezés": "19"
                                },
                                {
                                    "SZOBA_ID": "179",
                                    "FEROHELY": "3",
                                    "helyezés": "19"
                                },
                                {
                                    "SZOBA_ID": "24",
                                    "FEROHELY": "4",
                                    "helyezés": "20"
                                },
                                {
                                    "SZOBA_ID": "26",
                                    "FEROHELY": "2",
                                    "helyezés": "21"
                                },
                                {
                                    "SZOBA_ID": "47",
                                    "FEROHELY": "2",
                                    "helyezés": "21"
                                },
                                {
                                    "SZOBA_ID": "53",
                                    "FEROHELY": "2",
                                    "helyezés": "21"
                                },
                                {
                                    "SZOBA_ID": "56",
                                    "FEROHELY": "2",
                                    "helyezés": "21"
                                },
                                {
                                    "SZOBA_ID": "108",
                                    "FEROHELY": "2",
                                    "helyezés": "21"
                                },
                                {
                                    "SZOBA_ID": "102",
                                    "FEROHELY": "2",
                                    "helyezés": "21"
                                },
                                {
                                    "SZOBA_ID": "105",
                                    "FEROHELY": "2",
                                    "helyezés": "21"
                                },
                                {
                                    "SZOBA_ID": "192",
                                    "FEROHELY": "2",
                                    "helyezés": "21"
                                },
                                {
                                    "SZOBA_ID": "167",
                                    "FEROHELY": "3",
                                    "helyezés": "22"
                                },
                                {
                                    "SZOBA_ID": "116",
                                    "FEROHELY": "3",
                                    "helyezés": "22"
                                },
                                {
                                    "SZOBA_ID": "142",
                                    "FEROHELY": "3",
                                    "helyezés": "22"
                                },
                                {
                                    "SZOBA_ID": "25",
                                    "FEROHELY": "3",
                                    "helyezés": "22"
                                },
                                {
                                    "SZOBA_ID": "41",
                                    "FEROHELY": "3",
                                    "helyezés": "22"
                                },
                                {
                                    "SZOBA_ID": "32",
                                    "FEROHELY": "2",
                                    "helyezés": "23"
                                },
                                {
                                    "SZOBA_ID": "65",
                                    "FEROHELY": "2",
                                    "helyezés": "23"
                                },
                                {
                                    "SZOBA_ID": "147",
                                    "FEROHELY": "2",
                                    "helyezés": "23"
                                },
                                {
                                    "SZOBA_ID": "125",
                                    "FEROHELY": "2",
                                    "helyezés": "23"
                                },
                                {
                                    "SZOBA_ID": "194",
                                    "FEROHELY": "2",
                                    "helyezés": "23"
                                },
                                {
                                    "SZOBA_ID": "60",
                                    "FEROHELY": "3",
                                    "helyezés": "24"
                                }
                            ]
                        },
                        "text/html": [
                            "<table>",
                            "<tr><th>SZOBA_ID</th><th>FEROHELY</th><th>helyezés</th></tr>",
                            "<tr><td>58</td><td>2</td><td>1</td></tr>",
                            "<tr><td>182</td><td>2</td><td>2</td></tr>",
                            "<tr><td>185</td><td>3</td><td>3</td></tr>",
                            "<tr><td>70</td><td>2</td><td>4</td></tr>",
                            "<tr><td>94</td><td>2</td><td>5</td></tr>",
                            "<tr><td>12</td><td>2</td><td>6</td></tr>",
                            "<tr><td>172</td><td>2</td><td>6</td></tr>",
                            "<tr><td>35</td><td>3</td><td>7</td></tr>",
                            "<tr><td>48</td><td>3</td><td>7</td></tr>",
                            "<tr><td>74</td><td>3</td><td>7</td></tr>",
                            "<tr><td>122</td><td>3</td><td>7</td></tr>",
                            "<tr><td>121</td><td>2</td><td>8</td></tr>",
                            "<tr><td>140</td><td>2</td><td>8</td></tr>",
                            "<tr><td>110</td><td>2</td><td>8</td></tr>",
                            "<tr><td>55</td><td>2</td><td>8</td></tr>",
                            "<tr><td>38</td><td>2</td><td>8</td></tr>",
                            "<tr><td>1</td><td>3</td><td>9</td></tr>",
                            "<tr><td>3</td><td>3</td><td>9</td></tr>",
                            "<tr><td>43</td><td>3</td><td>9</td></tr>",
                            "<tr><td>83</td><td>3</td><td>9</td></tr>",
                            "<tr><td>88</td><td>3</td><td>9</td></tr>",
                            "<tr><td>89</td><td>3</td><td>9</td></tr>",
                            "<tr><td>117</td><td>3</td><td>9</td></tr>",
                            "<tr><td>198</td><td>3</td><td>9</td></tr>",
                            "<tr><td>149</td><td>2</td><td>10</td></tr>",
                            "<tr><td>156</td><td>2</td><td>10</td></tr>",
                            "<tr><td>163</td><td>2</td><td>10</td></tr>",
                            "<tr><td>165</td><td>2</td><td>10</td></tr>",
                            "<tr><td>118</td><td>2</td><td>10</td></tr>",
                            "<tr><td>109</td><td>2</td><td>10</td></tr>",
                            "<tr><td>127</td><td>2</td><td>10</td></tr>",
                            "<tr><td>139</td><td>2</td><td>10</td></tr>",
                            "<tr><td>80</td><td>2</td><td>10</td></tr>",
                            "<tr><td>59</td><td>2</td><td>10</td></tr>",
                            "<tr><td>39</td><td>2</td><td>10</td></tr>",
                            "<tr><td>27</td><td>3</td><td>11</td></tr>",
                            "<tr><td>49</td><td>3</td><td>11</td></tr>",
                            "<tr><td>96</td><td>3</td><td>11</td></tr>",
                            "<tr><td>97</td><td>3</td><td>11</td></tr>",
                            "<tr><td>138</td><td>3</td><td>11</td></tr>",
                            "<tr><td>143</td><td>3</td><td>11</td></tr>",
                            "<tr><td>115</td><td>3</td><td>11</td></tr>",
                            "<tr><td>187</td><td>3</td><td>11</td></tr>",
                            "<tr><td>193</td><td>3</td><td>11</td></tr>",
                            "<tr><td>195</td><td>2</td><td>12</td></tr>",
                            "<tr><td>161</td><td>2</td><td>12</td></tr>",
                            "<tr><td>150</td><td>2</td><td>12</td></tr>",
                            "<tr><td>148</td><td>2</td><td>12</td></tr>",
                            "<tr><td>169</td><td>2</td><td>12</td></tr>",
                            "<tr><td>106</td><td>2</td><td>12</td></tr>",
                            "<tr><td>126</td><td>2</td><td>12</td></tr>",
                            "<tr><td>145</td><td>2</td><td>12</td></tr>",
                            "<tr><td>141</td><td>2</td><td>12</td></tr>",
                            "<tr><td>130</td><td>2</td><td>12</td></tr>",
                            "<tr><td>137</td><td>2</td><td>12</td></tr>",
                            "<tr><td>78</td><td>2</td><td>12</td></tr>",
                            "<tr><td>42</td><td>2</td><td>12</td></tr>",
                            "<tr><td>64</td><td>2</td><td>12</td></tr>",
                            "<tr><td>67</td><td>2</td><td>12</td></tr>",
                            "<tr><td>28</td><td>2</td><td>12</td></tr>",
                            "<tr><td>29</td><td>2</td><td>12</td></tr>",
                            "<tr><td>19</td><td>2</td><td>12</td></tr>",
                            "<tr><td>33</td><td>2</td><td>12</td></tr>",
                            "<tr><td>4</td><td>2</td><td>12</td></tr>",
                            "<tr><td>7</td><td>2</td><td>12</td></tr>",
                            "<tr><td>15</td><td>2</td><td>12</td></tr>",
                            "<tr><td>17</td><td>3</td><td>13</td></tr>",
                            "<tr><td>18</td><td>3</td><td>13</td></tr>",
                            "<tr><td>6</td><td>3</td><td>13</td></tr>",
                            "<tr><td>9</td><td>3</td><td>13</td></tr>",
                            "<tr><td>22</td><td>3</td><td>13</td></tr>",
                            "<tr><td>36</td><td>3</td><td>13</td></tr>",
                            "<tr><td>44</td><td>3</td><td>13</td></tr>",
                            "<tr><td>54</td><td>3</td><td>13</td></tr>",
                            "<tr><td>77</td><td>3</td><td>13</td></tr>",
                            "<tr><td>82</td><td>3</td><td>13</td></tr>",
                            "<tr><td>92</td><td>3</td><td>13</td></tr>",
                            "<tr><td>132</td><td>3</td><td>13</td></tr>",
                            "<tr><td>133</td><td>3</td><td>13</td></tr>",
                            "<tr><td>134</td><td>3</td><td>13</td></tr>",
                            "<tr><td>146</td><td>3</td><td>13</td></tr>",
                            "<tr><td>124</td><td>3</td><td>13</td></tr>",
                            "<tr><td>120</td><td>3</td><td>13</td></tr>",
                            "<tr><td>176</td><td>3</td><td>13</td></tr>",
                            "<tr><td>181</td><td>3</td><td>13</td></tr>",
                            "<tr><td>188</td><td>3</td><td>13</td></tr>",
                            "<tr><td>197</td><td>3</td><td>13</td></tr>",
                            "<tr><td>189</td><td>2</td><td>14</td></tr>",
                            "<tr><td>190</td><td>2</td><td>14</td></tr>",
                            "<tr><td>191</td><td>2</td><td>14</td></tr>",
                            "<tr><td>168</td><td>2</td><td>14</td></tr>",
                            "<tr><td>175</td><td>2</td><td>14</td></tr>",
                            "<tr><td>170</td><td>2</td><td>14</td></tr>",
                            "<tr><td>171</td><td>2</td><td>14</td></tr>",
                            "<tr><td>157</td><td>2</td><td>14</td></tr>",
                            "<tr><td>154</td><td>2</td><td>14</td></tr>",
                            "<tr><td>164</td><td>2</td><td>14</td></tr>",
                            "<tr><td>119</td><td>2</td><td>14</td></tr>",
                            "<tr><td>107</td><td>2</td><td>14</td></tr>",
                            "<tr><td>128</td><td>2</td><td>14</td></tr>",
                            "<tr><td>131</td><td>2</td><td>14</td></tr>",
                            "<tr><td>99</td><td>2</td><td>14</td></tr>",
                            "<tr><td>111</td><td>2</td><td>14</td></tr>",
                            "<tr><td>81</td><td>2</td><td>14</td></tr>",
                            "<tr><td>86</td><td>2</td><td>14</td></tr>",
                            "<tr><td>52</td><td>2</td><td>14</td></tr>",
                            "<tr><td>45</td><td>2</td><td>14</td></tr>",
                            "<tr><td>62</td><td>2</td><td>14</td></tr>",
                            "<tr><td>61</td><td>3</td><td>15</td></tr>",
                            "<tr><td>51</td><td>3</td><td>15</td></tr>",
                            "<tr><td>20</td><td>3</td><td>15</td></tr>",
                            "<tr><td>8</td><td>3</td><td>15</td></tr>",
                            "<tr><td>16</td><td>3</td><td>15</td></tr>",
                            "<tr><td>87</td><td>3</td><td>15</td></tr>",
                            "<tr><td>79</td><td>3</td><td>15</td></tr>",
                            "<tr><td>112</td><td>3</td><td>15</td></tr>",
                            "<tr><td>113</td><td>3</td><td>15</td></tr>",
                            "<tr><td>93</td><td>3</td><td>15</td></tr>",
                            "<tr><td>144</td><td>3</td><td>15</td></tr>",
                            "<tr><td>123</td><td>3</td><td>15</td></tr>",
                            "<tr><td>153</td><td>3</td><td>15</td></tr>",
                            "<tr><td>160</td><td>3</td><td>15</td></tr>",
                            "<tr><td>155</td><td>3</td><td>15</td></tr>",
                            "<tr><td>152</td><td>2</td><td>16</td></tr>",
                            "<tr><td>173</td><td>2</td><td>16</td></tr>",
                            "<tr><td>174</td><td>2</td><td>16</td></tr>",
                            "<tr><td>186</td><td>2</td><td>16</td></tr>",
                            "<tr><td>196</td><td>2</td><td>16</td></tr>",
                            "<tr><td>184</td><td>2</td><td>16</td></tr>",
                            "<tr><td>129</td><td>2</td><td>16</td></tr>",
                            "<tr><td>100</td><td>2</td><td>16</td></tr>",
                            "<tr><td>114</td><td>2</td><td>16</td></tr>",
                            "<tr><td>98</td><td>2</td><td>16</td></tr>",
                            "<tr><td>103</td><td>2</td><td>16</td></tr>",
                            "<tr><td>85</td><td>2</td><td>16</td></tr>",
                            "<tr><td>91</td><td>2</td><td>16</td></tr>",
                            "<tr><td>11</td><td>2</td><td>16</td></tr>",
                            "<tr><td>5</td><td>2</td><td>16</td></tr>",
                            "<tr><td>21</td><td>2</td><td>16</td></tr>",
                            "<tr><td>50</td><td>2</td><td>16</td></tr>",
                            "<tr><td>57</td><td>2</td><td>16</td></tr>",
                            "<tr><td>63</td><td>2</td><td>16</td></tr>",
                            "<tr><td>72</td><td>2</td><td>16</td></tr>",
                            "<tr><td>73</td><td>2</td><td>16</td></tr>",
                            "<tr><td>66</td><td>3</td><td>17</td></tr>",
                            "<tr><td>69</td><td>3</td><td>17</td></tr>",
                            "<tr><td>46</td><td>3</td><td>17</td></tr>",
                            "<tr><td>34</td><td>3</td><td>17</td></tr>",
                            "<tr><td>40</td><td>3</td><td>17</td></tr>",
                            "<tr><td>2</td><td>3</td><td>17</td></tr>",
                            "<tr><td>10</td><td>3</td><td>17</td></tr>",
                            "<tr><td>13</td><td>3</td><td>17</td></tr>",
                            "<tr><td>90</td><td>3</td><td>17</td></tr>",
                            "<tr><td>84</td><td>3</td><td>17</td></tr>",
                            "<tr><td>104</td><td>3</td><td>17</td></tr>",
                            "<tr><td>95</td><td>3</td><td>17</td></tr>",
                            "<tr><td>183</td><td>3</td><td>17</td></tr>",
                            "<tr><td>177</td><td>3</td><td>17</td></tr>",
                            "<tr><td>178</td><td>3</td><td>17</td></tr>",
                            "<tr><td>180</td><td>2</td><td>18</td></tr>",
                            "<tr><td>151</td><td>2</td><td>18</td></tr>",
                            "<tr><td>158</td><td>2</td><td>18</td></tr>",
                            "<tr><td>166</td><td>2</td><td>18</td></tr>",
                            "<tr><td>101</td><td>2</td><td>18</td></tr>",
                            "<tr><td>75</td><td>2</td><td>18</td></tr>",
                            "<tr><td>76</td><td>2</td><td>18</td></tr>",
                            "<tr><td>136</td><td>2</td><td>18</td></tr>",
                            "<tr><td>23</td><td>2</td><td>18</td></tr>",
                            "<tr><td>37</td><td>2</td><td>18</td></tr>",
                            "<tr><td>68</td><td>2</td><td>18</td></tr>",
                            "<tr><td>71</td><td>3</td><td>19</td></tr>",
                            "<tr><td>30</td><td>3</td><td>19</td></tr>",
                            "<tr><td>31</td><td>3</td><td>19</td></tr>",
                            "<tr><td>14</td><td>3</td><td>19</td></tr>",
                            "<tr><td>135</td><td>3</td><td>19</td></tr>",
                            "<tr><td>162</td><td>3</td><td>19</td></tr>",
                            "<tr><td>179</td><td>3</td><td>19</td></tr>",
                            "<tr><td>24</td><td>4</td><td>20</td></tr>",
                            "<tr><td>26</td><td>2</td><td>21</td></tr>",
                            "<tr><td>47</td><td>2</td><td>21</td></tr>",
                            "<tr><td>53</td><td>2</td><td>21</td></tr>",
                            "<tr><td>56</td><td>2</td><td>21</td></tr>",
                            "<tr><td>108</td><td>2</td><td>21</td></tr>",
                            "<tr><td>102</td><td>2</td><td>21</td></tr>",
                            "<tr><td>105</td><td>2</td><td>21</td></tr>",
                            "<tr><td>192</td><td>2</td><td>21</td></tr>",
                            "<tr><td>167</td><td>3</td><td>22</td></tr>",
                            "<tr><td>116</td><td>3</td><td>22</td></tr>",
                            "<tr><td>142</td><td>3</td><td>22</td></tr>",
                            "<tr><td>25</td><td>3</td><td>22</td></tr>",
                            "<tr><td>41</td><td>3</td><td>22</td></tr>",
                            "<tr><td>32</td><td>2</td><td>23</td></tr>",
                            "<tr><td>65</td><td>2</td><td>23</td></tr>",
                            "<tr><td>147</td><td>2</td><td>23</td></tr>",
                            "<tr><td>125</td><td>2</td><td>23</td></tr>",
                            "<tr><td>194</td><td>2</td><td>23</td></tr>",
                            "<tr><td>60</td><td>3</td><td>24</td></tr>",
                            "</table>"
                        ]
                    }
                }
            ],
            "execution_count": 14
        },
        {
            "cell_type": "code",
            "source": [
                "-- 3-as feladat\r\n",
                "\r\n",
                "select NEV\r\n",
                "from vendeg\r\n",
                "where usernev not in (\r\n",
                "    select UGYFEL_FK\r\n",
                "    from Foglalas\r\n",
                ")\r\n",
                "or usernev in(\r\n",
                "    select UGYFEL_FK\r\n",
                "    from Foglalas\r\n",
                "    GROUP by UGYFEL_FK\r\n",
                "    having max(DATEDIFF(day,METTOL,meddig))<3\r\n",
                ")\r\n",
                "\r\n",
                "\r\n",
                "\r\n",
                ""
            ],
            "metadata": {
                "language": "sql",
                "azdata_cell_guid": "4c8e3c80-0c64-49ca-bbec-643f68fba8fd"
            },
            "outputs": [
                {
                    "output_type": "display_data",
                    "data": {
                        "text/html": "(9 rows affected)"
                    },
                    "metadata": {}
                },
                {
                    "output_type": "display_data",
                    "data": {
                        "text/html": "Total execution time: 00:00:00.020"
                    },
                    "metadata": {}
                },
                {
                    "output_type": "execute_result",
                    "metadata": {},
                    "execution_count": 28,
                    "data": {
                        "application/vnd.dataresource+json": {
                            "schema": {
                                "fields": [
                                    {
                                        "name": "NEV"
                                    }
                                ]
                            },
                            "data": [
                                {
                                    "NEV": "Szomor Andrea"
                                },
                                {
                                    "NEV": "Szűcs Annamária"
                                },
                                {
                                    "NEV": "Szöllősi Gábor"
                                },
                                {
                                    "NEV": "Búza Imre"
                                },
                                {
                                    "NEV": "Gondos Miklós"
                                },
                                {
                                    "NEV": "Bodor Szabolcs"
                                },
                                {
                                    "NEV": "Papós Tímea"
                                },
                                {
                                    "NEV": "Keresztúri Viktor"
                                },
                                {
                                    "NEV": "Molnár Zsófi"
                                }
                            ]
                        },
                        "text/html": [
                            "<table>",
                            "<tr><th>NEV</th></tr>",
                            "<tr><td>Szomor Andrea</td></tr>",
                            "<tr><td>Szűcs Annamária</td></tr>",
                            "<tr><td>Szöllősi Gábor</td></tr>",
                            "<tr><td>Búza Imre</td></tr>",
                            "<tr><td>Gondos Miklós</td></tr>",
                            "<tr><td>Bodor Szabolcs</td></tr>",
                            "<tr><td>Papós Tímea</td></tr>",
                            "<tr><td>Keresztúri Viktor</td></tr>",
                            "<tr><td>Molnár Zsófi</td></tr>",
                            "</table>"
                        ]
                    }
                }
            ],
            "execution_count": 28
        }
    ]
}