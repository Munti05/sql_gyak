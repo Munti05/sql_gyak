{
    "metadata": {
        "kernelspec": {
            "name": "SQL",
            "display_name": "SQL",
            "language": "sql"
        },
        "language_info": {
            "name": "sql",
            "version": ""
        },
        "extensions": {
            "azuredatastudio": {
                "version": 1,
                "views": []
            }
        }
    },
    "nbformat_minor": 2,
    "nbformat": 4,
    "cells": [
        {
            "cell_type": "markdown",
            "source": [
                "1. <span style=\"color:rgb(36, 41, 47);font-family:-apple-system, BlinkMacSystemFont, &quot;Segoe UI&quot;, Helvetica, Arial, sans-serif, &quot;Apple Color Emoji&quot;, &quot;Segoe UI Emoji&quot;;font-size:16px;\">Készítsünk lekérdezést, amely listázza, hogy mely napokon hány db kölcsönzés történt!</span>\n",
                "\n",
                "<span style=\"font-size: 16px;\">a.&nbsp;</span> Az oszlopok neve legyen 'Dátum' és 'Kölcsönzések száma'  \n",
                "b. A listát rendezzük a kölcsönzés dátuma szerint csökkenő sorrendbe!"
            ],
            "metadata": {
                "azdata_cell_guid": "77f2d5b3-38e9-41cc-893f-f5afd02b97ef"
            },
            "attachments": {}
        },
        {
            "cell_type": "code",
            "source": [
                "SELECT ki_datum, COUNT(*)\r\n",
                "FROM kolcsonzesek\r\n",
                "GROUP BY ki_datum"
            ],
            "metadata": {
                "azdata_cell_guid": "bd3cef1a-4e6e-4ece-9dc3-aaa9d2b5d66d",
                "language": "sql"
            },
            "outputs": [
                {
                    "output_type": "display_data",
                    "data": {
                        "text/html": "(3 rows affected)"
                    },
                    "metadata": {}
                },
                {
                    "output_type": "display_data",
                    "data": {
                        "text/html": "Total execution time: 00:00:00.094"
                    },
                    "metadata": {}
                },
                {
                    "output_type": "execute_result",
                    "execution_count": 1,
                    "data": {
                        "application/vnd.dataresource+json": {
                            "schema": {
                                "fields": [
                                    {
                                        "name": "ki_datum"
                                    },
                                    {
                                        "name": "(No column name)"
                                    }
                                ]
                            },
                            "data": [
                                {
                                    "ki_datum": "2003-12-11",
                                    "(No column name)": "3"
                                },
                                {
                                    "ki_datum": "2006-10-01",
                                    "(No column name)": "1"
                                },
                                {
                                    "ki_datum": "2006-10-02",
                                    "(No column name)": "1"
                                }
                            ]
                        },
                        "text/html": "<table><tr><th>ki_datum</th><th>(No column name)</th></tr><tr><td>2003-12-11</td><td>3</td></tr><tr><td>2006-10-01</td><td>1</td></tr><tr><td>2006-10-02</td><td>1</td></tr></table>"
                    },
                    "metadata": {}
                }
            ],
            "execution_count": 1
        },
        {
            "cell_type": "markdown",
            "source": [
                "2. <span style=\"font-weight: 600; color: rgb(36, 41, 47); font-family: -apple-system, BlinkMacSystemFont, &quot;Segoe UI&quot;, Helvetica, Arial, sans-serif, &quot;Apple Color Emoji&quot;, &quot;Segoe UI Emoji&quot;; font-size: 16px;\">Mennyi a dvd-k átlagos ára stílusonkénti bontásban?</span>\n",
                "\n",
                "1. Csak azokat a stílusokat vegyük figyelembe, ahol az átlagos ár 4500 Ft feletti!\n",
                "2. Az oszlopokat nevezzük el értelemszerűen!\n",
                "3. A listát rendezzük átlagos ár szerint csökkenő sorrendbe!"
            ],
            "metadata": {
                "azdata_cell_guid": "88f5b4bb-f4c1-4bad-a0c7-b2592687b422"
            },
            "attachments": {}
        },
        {
            "cell_type": "code",
            "source": [
                "SELECT stilus,\r\n",
                "        AVG(nettoar)\r\n",
                "FROM dvd\r\n",
                "GROUP BY stilus\r\n",
                "HAVING AVG(nettoar) > 4500\r\n",
                "ORDER BY AVG(nettoar) DESC"
            ],
            "metadata": {
                "azdata_cell_guid": "e9de5726-f036-4fb9-8c33-a873955ed886",
                "language": "sql"
            },
            "outputs": [
                {
                    "output_type": "display_data",
                    "data": {
                        "text/html": "(30 rows affected)"
                    },
                    "metadata": {}
                },
                {
                    "output_type": "display_data",
                    "data": {
                        "text/html": "Total execution time: 00:00:00.025"
                    },
                    "metadata": {}
                },
                {
                    "output_type": "execute_result",
                    "execution_count": 2,
                    "data": {
                        "application/vnd.dataresource+json": {
                            "schema": {
                                "fields": [
                                    {
                                        "name": "stilus"
                                    },
                                    {
                                        "name": "(No column name)"
                                    }
                                ]
                            },
                            "data": [
                                {
                                    "stilus": "ásványtan",
                                    "(No column name)": "5624"
                                },
                                {
                                    "stilus": "játék (rodeó)",
                                    "(No column name)": "5591"
                                },
                                {
                                    "stilus": "humor",
                                    "(No column name)": "5573"
                                },
                                {
                                    "stilus": "környezetvédelem",
                                    "(No column name)": "5508"
                                },
                                {
                                    "stilus": "kresz",
                                    "(No column name)": "5476"
                                },
                                {
                                    "stilus": "játék (jégkorong)",
                                    "(No column name)": "5242"
                                },
                                {
                                    "stilus": "színház",
                                    "(No column name)": "5158"
                                },
                                {
                                    "stilus": "múvészet",
                                    "(No column name)": "5118"
                                },
                                {
                                    "stilus": "kémia",
                                    "(No column name)": "5094"
                                },
                                {
                                    "stilus": "fordító program",
                                    "(No column name)": "5036"
                                },
                                {
                                    "stilus": "kerttervező",
                                    "(No column name)": "4951"
                                },
                                {
                                    "stilus": "művészet",
                                    "(No column name)": "4939,25"
                                },
                                {
                                    "stilus": "festészet",
                                    "(No column name)": "4901"
                                },
                                {
                                    "stilus": "zene",
                                    "(No column name)": "4855,333333333333"
                                },
                                {
                                    "stilus": "játék",
                                    "(No column name)": "4850,466666666666"
                                },
                                {
                                    "stilus": "játék (labdarúgás)",
                                    "(No column name)": "4817,333333333333"
                                },
                                {
                                    "stilus": "állattan",
                                    "(No column name)": "4783,666666666667"
                                },
                                {
                                    "stilus": "nyelvtan",
                                    "(No column name)": "4770,666666666667"
                                },
                                {
                                    "stilus": "fizika",
                                    "(No column name)": "4769"
                                },
                                {
                                    "stilus": "nyelvtanító",
                                    "(No column name)": "4759,476190476191"
                                },
                                {
                                    "stilus": "csillagászat",
                                    "(No column name)": "4733,571428571428"
                                },
                                {
                                    "stilus": "ismeretterjesztő",
                                    "(No column name)": "4726,673913043478"
                                },
                                {
                                    "stilus": "irodalom, nyelv",
                                    "(No column name)": "4704"
                                },
                                {
                                    "stilus": "gasztronómia",
                                    "(No column name)": "4691"
                                },
                                {
                                    "stilus": "történelem",
                                    "(No column name)": "4655,731707317073"
                                },
                                {
                                    "stilus": "szótár",
                                    "(No column name)": "4624,428571428572"
                                },
                                {
                                    "stilus": "sport",
                                    "(No column name)": "4607"
                                },
                                {
                                    "stilus": "földrajz",
                                    "(No column name)": "4580,0625"
                                },
                                {
                                    "stilus": "matematika",
                                    "(No column name)": "4520,777777777777"
                                },
                                {
                                    "stilus": "felvételi",
                                    "(No column name)": "4501,333333333333"
                                }
                            ]
                        },
                        "text/html": "<table><tr><th>stilus</th><th>(No column name)</th></tr><tr><td>ásványtan</td><td>5624</td></tr><tr><td>játék (rodeó)</td><td>5591</td></tr><tr><td>humor</td><td>5573</td></tr><tr><td>környezetvédelem</td><td>5508</td></tr><tr><td>kresz</td><td>5476</td></tr><tr><td>játék (jégkorong)</td><td>5242</td></tr><tr><td>színház</td><td>5158</td></tr><tr><td>múvészet</td><td>5118</td></tr><tr><td>kémia</td><td>5094</td></tr><tr><td>fordító program</td><td>5036</td></tr><tr><td>kerttervező</td><td>4951</td></tr><tr><td>művészet</td><td>4939,25</td></tr><tr><td>festészet</td><td>4901</td></tr><tr><td>zene</td><td>4855,333333333333</td></tr><tr><td>játék</td><td>4850,466666666666</td></tr><tr><td>játék (labdarúgás)</td><td>4817,333333333333</td></tr><tr><td>állattan</td><td>4783,666666666667</td></tr><tr><td>nyelvtan</td><td>4770,666666666667</td></tr><tr><td>fizika</td><td>4769</td></tr><tr><td>nyelvtanító</td><td>4759,476190476191</td></tr><tr><td>csillagászat</td><td>4733,571428571428</td></tr><tr><td>ismeretterjesztő</td><td>4726,673913043478</td></tr><tr><td>irodalom, nyelv</td><td>4704</td></tr><tr><td>gasztronómia</td><td>4691</td></tr><tr><td>történelem</td><td>4655,731707317073</td></tr><tr><td>szótár</td><td>4624,428571428572</td></tr><tr><td>sport</td><td>4607</td></tr><tr><td>földrajz</td><td>4580,0625</td></tr><tr><td>matematika</td><td>4520,777777777777</td></tr><tr><td>felvételi</td><td>4501,333333333333</td></tr></table>"
                    },
                    "metadata": {}
                }
            ],
            "execution_count": 2
        },
        {
            "cell_type": "markdown",
            "source": [
                "3. <span style=\"color:rgb(36, 41, 47);font-family:-apple-system, BlinkMacSystemFont, &quot;Segoe UI&quot;, Helvetica, Arial, sans-serif, &quot;Apple Color Emoji&quot;, &quot;Segoe UI Emoji&quot;;font-size:16px;\">Listázzuk nyelvenkénti, azon belül stílusonkénti bontásban, hogy mennyi a dvd-k legkisebb és legnagyobb ára!&nbsp;</span> \n",
                "\n",
                "<span style=\"font-size: 16px;\">a. Az oszlopok neve legyen 'Nyelv', 'Stílus', 'MinÁr' és 'MaxÁr'!<br>b.&nbsp;</span> A listából hagyjuk ki azokat a sorokat, ahol a nyelv vagy a stílus nincs megadva!  \n",
                "c. Szintén hagyjuk ki azokat a csoportokat, ahol a csoport elemszáma 3-nál kisebb!"
            ],
            "metadata": {
                "azdata_cell_guid": "9e7249de-1b59-43d8-84b1-26fa7d81fc5a"
            },
            "attachments": {}
        },
        {
            "cell_type": "code",
            "source": [
                "SELECT lang as 'Nyelv', stilus as 'Stilus', MAX(nettoar) as ' MaxAr', MIN(nettoar) as ' MinAr'\r\n",
                "FROM dvd\r\n",
                "GROUP BY lang, stilus\r\n",
                "HAVING lang is not null and stilus is not null and count(*)>3\r\n",
                ""
            ],
            "metadata": {
                "azdata_cell_guid": "6405d3e8-a9b1-45d7-aa76-3b1e785ef6cc",
                "language": "sql"
            },
            "outputs": [
                {
                    "output_type": "display_data",
                    "data": {
                        "text/html": "(19 rows affected)"
                    },
                    "metadata": {}
                },
                {
                    "output_type": "display_data",
                    "data": {
                        "text/html": "Total execution time: 00:00:00.214"
                    },
                    "metadata": {}
                },
                {
                    "output_type": "execute_result",
                    "metadata": {},
                    "execution_count": 14,
                    "data": {
                        "application/vnd.dataresource+json": {
                            "schema": {
                                "fields": [
                                    {
                                        "name": "Nyelv"
                                    },
                                    {
                                        "name": "Stilus"
                                    },
                                    {
                                        "name": " MaxAr"
                                    },
                                    {
                                        "name": " MinAr"
                                    }
                                ]
                            },
                            "data": [
                                {
                                    "Nyelv": "1",
                                    "Stilus": "biológia",
                                    " MaxAr": "5543",
                                    " MinAr": "3482"
                                },
                                {
                                    "Nyelv": "1",
                                    "Stilus": "csillagászat",
                                    " MaxAr": "5992",
                                    " MinAr": "3582"
                                },
                                {
                                    "Nyelv": "1",
                                    "Stilus": "felvételi",
                                    " MaxAr": "5955",
                                    " MinAr": "3215"
                                },
                                {
                                    "Nyelv": "1",
                                    "Stilus": "földrajz",
                                    " MaxAr": "6065",
                                    " MinAr": "3123"
                                },
                                {
                                    "Nyelv": "1",
                                    "Stilus": "gasztronómia",
                                    " MaxAr": "5706",
                                    " MinAr": "3258"
                                },
                                {
                                    "Nyelv": "1",
                                    "Stilus": "irodalom",
                                    " MaxAr": "5654",
                                    " MinAr": "3391"
                                },
                                {
                                    "Nyelv": "1",
                                    "Stilus": "ismeretterjesztő",
                                    " MaxAr": "6072",
                                    " MinAr": "3256"
                                },
                                {
                                    "Nyelv": "1",
                                    "Stilus": "játék",
                                    " MaxAr": "6078",
                                    " MinAr": "3110"
                                },
                                {
                                    "Nyelv": "2",
                                    "Stilus": "játék",
                                    " MaxAr": "6062",
                                    " MinAr": "3144"
                                },
                                {
                                    "Nyelv": "2",
                                    "Stilus": "játék (autóverseny)",
                                    " MaxAr": "5005",
                                    " MinAr": "3106"
                                },
                                {
                                    "Nyelv": "1",
                                    "Stilus": "matematika",
                                    " MaxAr": "5995",
                                    " MinAr": "3105"
                                },
                                {
                                    "Nyelv": "1",
                                    "Stilus": "művészet",
                                    " MaxAr": "6098",
                                    " MinAr": "3490"
                                },
                                {
                                    "Nyelv": "2",
                                    "Stilus": "nyelvtanító",
                                    " MaxAr": "6068",
                                    " MinAr": "3115"
                                },
                                {
                                    "Nyelv": "3",
                                    "Stilus": "nyelvtanító",
                                    " MaxAr": "5990",
                                    " MinAr": "3313"
                                },
                                {
                                    "Nyelv": "4",
                                    "Stilus": "nyelvtanító",
                                    " MaxAr": "6082",
                                    " MinAr": "3419"
                                },
                                {
                                    "Nyelv": "6",
                                    "Stilus": "nyelvtanító",
                                    " MaxAr": "5882",
                                    " MinAr": "3775"
                                },
                                {
                                    "Nyelv": "7",
                                    "Stilus": "nyelvtanító",
                                    " MaxAr": "5619",
                                    " MinAr": "3770"
                                },
                                {
                                    "Nyelv": "1",
                                    "Stilus": "történelem",
                                    " MaxAr": "6084",
                                    " MinAr": "3122"
                                },
                                {
                                    "Nyelv": "1",
                                    "Stilus": "zene",
                                    " MaxAr": "5730",
                                    " MinAr": "3391"
                                }
                            ]
                        },
                        "text/html": [
                            "<table>",
                            "<tr><th>Nyelv</th><th>Stilus</th><th> MaxAr</th><th> MinAr</th></tr>",
                            "<tr><td>1</td><td>biológia</td><td>5543</td><td>3482</td></tr>",
                            "<tr><td>1</td><td>csillagászat</td><td>5992</td><td>3582</td></tr>",
                            "<tr><td>1</td><td>felvételi</td><td>5955</td><td>3215</td></tr>",
                            "<tr><td>1</td><td>földrajz</td><td>6065</td><td>3123</td></tr>",
                            "<tr><td>1</td><td>gasztronómia</td><td>5706</td><td>3258</td></tr>",
                            "<tr><td>1</td><td>irodalom</td><td>5654</td><td>3391</td></tr>",
                            "<tr><td>1</td><td>ismeretterjesztő</td><td>6072</td><td>3256</td></tr>",
                            "<tr><td>1</td><td>játék</td><td>6078</td><td>3110</td></tr>",
                            "<tr><td>2</td><td>játék</td><td>6062</td><td>3144</td></tr>",
                            "<tr><td>2</td><td>játék (autóverseny)</td><td>5005</td><td>3106</td></tr>",
                            "<tr><td>1</td><td>matematika</td><td>5995</td><td>3105</td></tr>",
                            "<tr><td>1</td><td>művészet</td><td>6098</td><td>3490</td></tr>",
                            "<tr><td>2</td><td>nyelvtanító</td><td>6068</td><td>3115</td></tr>",
                            "<tr><td>3</td><td>nyelvtanító</td><td>5990</td><td>3313</td></tr>",
                            "<tr><td>4</td><td>nyelvtanító</td><td>6082</td><td>3419</td></tr>",
                            "<tr><td>6</td><td>nyelvtanító</td><td>5882</td><td>3775</td></tr>",
                            "<tr><td>7</td><td>nyelvtanító</td><td>5619</td><td>3770</td></tr>",
                            "<tr><td>1</td><td>történelem</td><td>6084</td><td>3122</td></tr>",
                            "<tr><td>1</td><td>zene</td><td>5730</td><td>3391</td></tr>",
                            "</table>"
                        ]
                    }
                }
            ],
            "execution_count": 14
        },
        {
            "cell_type": "markdown",
            "source": [
                "4. <span style=\"color: rgb(36, 41, 47); font-family: -apple-system, BlinkMacSystemFont, &quot;Segoe UI&quot;, Helvetica, Arial, sans-serif, &quot;Apple Color Emoji&quot;, &quot;Segoe UI Emoji&quot;; font-size: 16px;\">Készítsünk listát, amely a csoportokat hoz létre aszerint, hogy a mai naptól számítva hány nap telt el a kölcsönzés kezdete óta. A lista jelenítse meg csoportonkénti bontásban a kikölcsönzött dvd-k számát!</span>\n",
                "\n",
                "1. Az oszlopokat nevezzük el értelemszerűen!\n",
                "2. A listát rendezzük az eltelt napok száma szerint csökkenő sorrendbe!"
            ],
            "metadata": {
                "azdata_cell_guid": "6478e469-c094-472c-a772-ccd5b5c61516"
            },
            "attachments": {}
        },
        {
            "cell_type": "code",
            "source": [
                "SELECT DATEDIFF(day,ki_datum,GETDATE()) as 'KolcsonzestolElteltNapokSzama', count(*) as 'AdottNapKolcsonzottDVDk'\r\n",
                "FROM kolcsonzesek\r\n",
                "GROUP BY ki_datum\r\n",
                "order by ki_datum DESC"
            ],
            "metadata": {
                "azdata_cell_guid": "02031ea2-3838-458d-839c-228e3b362b61",
                "language": "sql"
            },
            "outputs": [
                {
                    "output_type": "display_data",
                    "data": {
                        "text/html": "(3 rows affected)"
                    },
                    "metadata": {}
                },
                {
                    "output_type": "display_data",
                    "data": {
                        "text/html": "Total execution time: 00:00:00.076"
                    },
                    "metadata": {}
                },
                {
                    "output_type": "execute_result",
                    "metadata": {},
                    "execution_count": 22,
                    "data": {
                        "application/vnd.dataresource+json": {
                            "schema": {
                                "fields": [
                                    {
                                        "name": "KolcsonzestolElteltNapokSzama"
                                    },
                                    {
                                        "name": "AdottNapKolcsonzottDVDk"
                                    }
                                ]
                            },
                            "data": [
                                {
                                    "KolcsonzestolElteltNapokSzama": "6354",
                                    "AdottNapKolcsonzottDVDk": "1"
                                },
                                {
                                    "KolcsonzestolElteltNapokSzama": "6355",
                                    "AdottNapKolcsonzottDVDk": "1"
                                },
                                {
                                    "KolcsonzestolElteltNapokSzama": "7380",
                                    "AdottNapKolcsonzottDVDk": "3"
                                }
                            ]
                        },
                        "text/html": [
                            "<table>",
                            "<tr><th>KolcsonzestolElteltNapokSzama</th><th>AdottNapKolcsonzottDVDk</th></tr>",
                            "<tr><td>6354</td><td>1</td></tr>",
                            "<tr><td>6355</td><td>1</td></tr>",
                            "<tr><td>7380</td><td>3</td></tr>",
                            "</table>"
                        ]
                    }
                }
            ],
            "execution_count": 22
        },
        {
            "cell_type": "markdown",
            "source": [
                "5. <span style=\"color: rgb(36, 41, 47); font-family: -apple-system, BlinkMacSystemFont, &quot;Segoe UI&quot;, Helvetica, Arial, sans-serif, &quot;Apple Color Emoji&quot;, &quot;Segoe UI Emoji&quot;; font-size: 16px;\">A kölcsönző tulajdonosa elhatározza, hogy ezentúl kerekebb árakat alkalmaz. Ezért minden dvd árát 1000 Ft-ra kerekíti. Készítsünk lekérdezést, amely megmutatja, hogy melyik 1000 Ft-ra kerekített ár szerint, azon belül stílus szerint hány db dvd összesen raktáron! **</span>\n",
                "\n",
                "1. Csak olyan csoportokat listázzunk, ahol a raktárkészlet legalább 30!\n",
                "2. A listát rendezzük kerekített ár szerint, azon belül raktárkészlet szerint növekvő sorrendbe!"
            ],
            "metadata": {
                "azdata_cell_guid": "9edbbaf9-c276-4898-9a01-e1b2993c089f"
            },
            "attachments": {}
        },
        {
            "cell_type": "code",
            "source": [
                "SELECT ROUND(nettoar, -3) as 'kerekitettAr', stilus, sum([raktár készlet]) as 'db'\r\n",
                "from dvd\r\n",
                "group by ROUND(nettoar, -3), stilus\r\n",
                "HAVING sum([raktár készlet])> 30\r\n",
                "order by 1,3 DESC"
            ],
            "metadata": {
                "azdata_cell_guid": "5ad5fdcb-2878-4111-861a-833bcd50e935",
                "language": "sql",
                "tags": []
            },
            "outputs": [
                {
                    "output_type": "display_data",
                    "data": {
                        "text/html": "(19 rows affected)"
                    },
                    "metadata": {}
                },
                {
                    "output_type": "display_data",
                    "data": {
                        "text/html": "Total execution time: 00:00:00.048"
                    },
                    "metadata": {}
                },
                {
                    "output_type": "execute_result",
                    "metadata": {},
                    "execution_count": 81,
                    "data": {
                        "application/vnd.dataresource+json": {
                            "schema": {
                                "fields": [
                                    {
                                        "name": "kerekitettAr"
                                    },
                                    {
                                        "name": "stilus"
                                    },
                                    {
                                        "name": "db"
                                    }
                                ]
                            },
                            "data": [
                                {
                                    "kerekitettAr": "3000",
                                    "stilus": "ismeretterjesztő",
                                    "db": "70"
                                },
                                {
                                    "kerekitettAr": "3000",
                                    "stilus": "játék",
                                    "db": "40"
                                },
                                {
                                    "kerekitettAr": "3000",
                                    "stilus": "történelem",
                                    "db": "40"
                                },
                                {
                                    "kerekitettAr": "4000",
                                    "stilus": "játék",
                                    "db": "180"
                                },
                                {
                                    "kerekitettAr": "4000",
                                    "stilus": "történelem",
                                    "db": "160"
                                },
                                {
                                    "kerekitettAr": "4000",
                                    "stilus": "nyelvtanító",
                                    "db": "140"
                                },
                                {
                                    "kerekitettAr": "4000",
                                    "stilus": "ismeretterjesztő",
                                    "db": "130"
                                },
                                {
                                    "kerekitettAr": "4000",
                                    "stilus": "irodalom",
                                    "db": "90"
                                },
                                {
                                    "kerekitettAr": "4000",
                                    "stilus": "földrajz",
                                    "db": "50"
                                },
                                {
                                    "kerekitettAr": "4000",
                                    "stilus": "csillagászat",
                                    "db": "40"
                                },
                                {
                                    "kerekitettAr": "5000",
                                    "stilus": "játék",
                                    "db": "210"
                                },
                                {
                                    "kerekitettAr": "5000",
                                    "stilus": "ismeretterjesztő",
                                    "db": "170"
                                },
                                {
                                    "kerekitettAr": "5000",
                                    "stilus": "nyelvtanító",
                                    "db": "140"
                                },
                                {
                                    "kerekitettAr": "5000",
                                    "stilus": "történelem",
                                    "db": "120"
                                },
                                {
                                    "kerekitettAr": "5000",
                                    "stilus": "földrajz",
                                    "db": "60"
                                },
                                {
                                    "kerekitettAr": "6000",
                                    "stilus": "játék",
                                    "db": "170"
                                },
                                {
                                    "kerekitettAr": "6000",
                                    "stilus": "nyelvtanító",
                                    "db": "110"
                                },
                                {
                                    "kerekitettAr": "6000",
                                    "stilus": "ismeretterjesztő",
                                    "db": "90"
                                },
                                {
                                    "kerekitettAr": "6000",
                                    "stilus": "történelem",
                                    "db": "88"
                                }
                            ]
                        },
                        "text/html": [
                            "<table>",
                            "<tr><th>kerekitettAr</th><th>stilus</th><th>db</th></tr>",
                            "<tr><td>3000</td><td>ismeretterjesztő</td><td>70</td></tr>",
                            "<tr><td>3000</td><td>játék</td><td>40</td></tr>",
                            "<tr><td>3000</td><td>történelem</td><td>40</td></tr>",
                            "<tr><td>4000</td><td>játék</td><td>180</td></tr>",
                            "<tr><td>4000</td><td>történelem</td><td>160</td></tr>",
                            "<tr><td>4000</td><td>nyelvtanító</td><td>140</td></tr>",
                            "<tr><td>4000</td><td>ismeretterjesztő</td><td>130</td></tr>",
                            "<tr><td>4000</td><td>irodalom</td><td>90</td></tr>",
                            "<tr><td>4000</td><td>földrajz</td><td>50</td></tr>",
                            "<tr><td>4000</td><td>csillagászat</td><td>40</td></tr>",
                            "<tr><td>5000</td><td>játék</td><td>210</td></tr>",
                            "<tr><td>5000</td><td>ismeretterjesztő</td><td>170</td></tr>",
                            "<tr><td>5000</td><td>nyelvtanító</td><td>140</td></tr>",
                            "<tr><td>5000</td><td>történelem</td><td>120</td></tr>",
                            "<tr><td>5000</td><td>földrajz</td><td>60</td></tr>",
                            "<tr><td>6000</td><td>játék</td><td>170</td></tr>",
                            "<tr><td>6000</td><td>nyelvtanító</td><td>110</td></tr>",
                            "<tr><td>6000</td><td>ismeretterjesztő</td><td>90</td></tr>",
                            "<tr><td>6000</td><td>történelem</td><td>88</td></tr>",
                            "</table>"
                        ]
                    }
                }
            ],
            "execution_count": 81
        },
        {
            "cell_type": "markdown",
            "source": [
                "6. <span style=\"font-weight: 600; color: rgb(36, 41, 47); font-family: -apple-system, BlinkMacSystemFont, &quot;Segoe UI&quot;, Helvetica, Arial, sans-serif, &quot;Apple Color Emoji&quot;, &quot;Segoe UI Emoji&quot;; font-size: 16px;\">A dvd-ket csoportosíthatjuk aszerint, hogy milyen hosszú a címük. Amelyiknél a cím hosszúsága 10 karakter alatt van, az legyen Rövid, 10-20-ig Átlagos, 20 felett Hosszú. Hány Rövid, Átlagos, illetve Hosszú dvd-van összesen raktáron?</span>\n",
                "\n",
                "1. Az oszlopok neve legyen 'Cím hosszúság' és 'Darabszám"
            ],
            "metadata": {
                "azdata_cell_guid": "5fe65c1c-2479-45ac-ad03-ec99d12eae21"
            },
            "attachments": {}
        },
        {
            "cell_type": "code",
            "source": [
                "select sum([raktár készlet]) as 'Darabszam', \r\n",
                "    case \r\n",
                "        WHEN LEN(cim)< 10 then 'Rovid'\r\n",
                "        when LEN(cim)>20 then 'Hosszu'\r\n",
                "        else 'Atlagos'\r\n",
                "    END as 'CimHosszusag'\r\n",
                "from dvd\r\n",
                "GROUP BY case \r\n",
                "        WHEN LEN(cim)< 10 then 'Rovid'\r\n",
                "        when LEN(cim)>20 then 'Hosszu'\r\n",
                "        else 'Atlagos'\r\n",
                "    END"
            ],
            "metadata": {
                "azdata_cell_guid": "924f2dde-f1c2-4def-a7f9-dbf4bace7735",
                "language": "sql"
            },
            "outputs": [
                {
                    "output_type": "display_data",
                    "data": {
                        "text/html": "(3 rows affected)"
                    },
                    "metadata": {}
                },
                {
                    "output_type": "display_data",
                    "data": {
                        "text/html": "Total execution time: 00:00:00.036"
                    },
                    "metadata": {}
                },
                {
                    "output_type": "execute_result",
                    "metadata": {},
                    "execution_count": 82,
                    "data": {
                        "application/vnd.dataresource+json": {
                            "schema": {
                                "fields": [
                                    {
                                        "name": "Darabszam"
                                    },
                                    {
                                        "name": "CimHosszusag"
                                    }
                                ]
                            },
                            "data": [
                                {
                                    "Darabszam": "940",
                                    "CimHosszusag": "Atlagos"
                                },
                                {
                                    "Darabszam": "2118",
                                    "CimHosszusag": "Hosszu"
                                },
                                {
                                    "Darabszam": "120",
                                    "CimHosszusag": "Rovid"
                                }
                            ]
                        },
                        "text/html": [
                            "<table>",
                            "<tr><th>Darabszam</th><th>CimHosszusag</th></tr>",
                            "<tr><td>940</td><td>Atlagos</td></tr>",
                            "<tr><td>2118</td><td>Hosszu</td></tr>",
                            "<tr><td>120</td><td>Rovid</td></tr>",
                            "</table>"
                        ]
                    }
                }
            ],
            "execution_count": 82
        },
        {
            "cell_type": "markdown",
            "source": [
                "7. <span style=\"color: rgb(36, 41, 47); font-family: -apple-system, BlinkMacSystemFont, &quot;Segoe UI&quot;, Helvetica, Arial, sans-serif, &quot;Apple Color Emoji&quot;, &quot;Segoe UI Emoji&quot;; font-size: 16px;\">Készítsünk listát arról, hogy melyik teremben hány óra van!</span>\n",
                "\n",
                "1. Jelenítsük meg a termek azonosítóit és a teremben tartott órák számát!\n",
                "2. Az oszlopokat nevezzük el értelemszerűen!\n",
                "3. Szűrjünk azokra a termekre, ahol az órák száma legalább 3!"
            ],
            "metadata": {
                "azdata_cell_guid": "3aeb6bf5-b111-40d5-92b2-9712ce335696"
            },
            "attachments": {}
        },
        {
            "cell_type": "code",
            "source": [
                "SELECT terem, COUNT(*)\r\n",
                "From Orak\r\n",
                "GROUP BY terem\r\n",
                "HAVING COUNT(*) >= 3"
            ],
            "metadata": {
                "azdata_cell_guid": "3e89b651-f56f-4102-af52-30eb2bbe360d",
                "language": "sql"
            },
            "outputs": [
                {
                    "output_type": "display_data",
                    "data": {
                        "text/html": "(11 rows affected)"
                    },
                    "metadata": {}
                },
                {
                    "output_type": "display_data",
                    "data": {
                        "text/html": "Total execution time: 00:00:00.015"
                    },
                    "metadata": {}
                },
                {
                    "output_type": "execute_result",
                    "execution_count": 3,
                    "data": {
                        "application/vnd.dataresource+json": {
                            "schema": {
                                "fields": [
                                    {
                                        "name": "terem"
                                    },
                                    {
                                        "name": "(No column name)"
                                    }
                                ]
                            },
                            "data": [
                                {
                                    "terem": "2",
                                    "(No column name)": "5"
                                },
                                {
                                    "terem": "3",
                                    "(No column name)": "11"
                                },
                                {
                                    "terem": "4",
                                    "(No column name)": "8"
                                },
                                {
                                    "terem": "5",
                                    "(No column name)": "5"
                                },
                                {
                                    "terem": "6",
                                    "(No column name)": "6"
                                },
                                {
                                    "terem": "7",
                                    "(No column name)": "6"
                                },
                                {
                                    "terem": "8",
                                    "(No column name)": "6"
                                },
                                {
                                    "terem": "10",
                                    "(No column name)": "3"
                                },
                                {
                                    "terem": "12",
                                    "(No column name)": "3"
                                },
                                {
                                    "terem": "13",
                                    "(No column name)": "5"
                                },
                                {
                                    "terem": "14",
                                    "(No column name)": "3"
                                }
                            ]
                        },
                        "text/html": "<table><tr><th>terem</th><th>(No column name)</th></tr><tr><td>2</td><td>5</td></tr><tr><td>3</td><td>11</td></tr><tr><td>4</td><td>8</td></tr><tr><td>5</td><td>5</td></tr><tr><td>6</td><td>6</td></tr><tr><td>7</td><td>6</td></tr><tr><td>8</td><td>6</td></tr><tr><td>10</td><td>3</td></tr><tr><td>12</td><td>3</td></tr><tr><td>13</td><td>5</td></tr><tr><td>14</td><td>3</td></tr></table>"
                    },
                    "metadata": {}
                }
            ],
            "execution_count": 3
        },
        {
            "cell_type": "markdown",
            "source": [
                "8. <span style=\"color: rgb(36, 41, 47); font-family: -apple-system, BlinkMacSystemFont, &quot;Segoe UI&quot;, Helvetica, Arial, sans-serif, &quot;Apple Color Emoji&quot;, &quot;Segoe UI Emoji&quot;; font-size: 16px;\">Készítsünk lekérdezést, amely megadja, hogy minimálian és maximálisan hány kreditet ér egy tantárgy!</span>\n",
                "\n",
                "1. Az oszlopokat nevezzük el értelemszerűen!\n",
                "2. Ne vegyük figyelembe azokat a tantárgyakat, amelyek nevében az „alapjai” szó szerepel, vagy a tantárgy neve 10 karakternél rövidebb!"
            ],
            "metadata": {
                "azdata_cell_guid": "26a504dc-ff6a-439f-94c0-4580eca3eacf"
            },
            "attachments": {}
        },
        {
            "cell_type": "code",
            "source": [
                "select min(Kredit) as 'MinKredit', max(Kredit) as 'MaxKredit'\r\n",
                "from Tantárgyak\r\n",
                "WHERE CHARINDEX('alapjai',Tantárgynév)=0  and LEN(Tantárgynév)>10\r\n",
                ""
            ],
            "metadata": {
                "azdata_cell_guid": "1cbb8aeb-78b5-4350-aa45-e3202fdab85b",
                "language": "sql"
            },
            "outputs": [
                {
                    "output_type": "display_data",
                    "data": {
                        "text/html": "(1 row affected)"
                    },
                    "metadata": {}
                },
                {
                    "output_type": "display_data",
                    "data": {
                        "text/html": "Total execution time: 00:00:00.034"
                    },
                    "metadata": {}
                },
                {
                    "output_type": "execute_result",
                    "metadata": {},
                    "execution_count": 98,
                    "data": {
                        "application/vnd.dataresource+json": {
                            "schema": {
                                "fields": [
                                    {
                                        "name": "MinKredit"
                                    },
                                    {
                                        "name": "MaxKredit"
                                    }
                                ]
                            },
                            "data": [
                                {
                                    "MinKredit": "1",
                                    "MaxKredit": "5"
                                }
                            ]
                        },
                        "text/html": [
                            "<table>",
                            "<tr><th>MinKredit</th><th>MaxKredit</th></tr>",
                            "<tr><td>1</td><td>5</td></tr>",
                            "</table>"
                        ]
                    }
                }
            ],
            "execution_count": 98
        },
        {
            "cell_type": "markdown",
            "source": [
                "9. <span style=\"color: rgb(36, 41, 47); font-family: -apple-system, BlinkMacSystemFont, &quot;Segoe UI&quot;, Helvetica, Arial, sans-serif, &quot;Apple Color Emoji&quot;, &quot;Segoe UI Emoji&quot;; font-size: 16px;\">A tapasztalat alapján a tanársegédeknek 8, az óraadóknak 10 órájuk van egy héten. A többiek annyi órát tartanak, amennyi az elvárt óraszámuk. Készítsünk lekérdezést, amely minden beosztáshoz megjeleníti, hogy hetente hány túlóra tartozik hozzá!</span>\n",
                "\n",
                "1. A lekérdezés csak a beosztások nevét és a heti túlórák számát jelenítse meg!"
            ],
            "metadata": {
                "azdata_cell_guid": "435e2860-2dd5-4877-90f4-34a43baeb53c"
            },
            "attachments": {}
        },
        {
            "cell_type": "code",
            "source": [
                "SELECT Beosztasok.beosztasnev,\r\n",
                "        CASE\r\n",
                "            WHEN beosztasnev = 'tanársegéd' THEN 8 - elvart\r\n",
                "            WHEN beosztasnev = 'óraadó' Then 10- elvart\r\n",
                "            else elvart\r\n",
                "            END as 'TÚlóra'\r\n",
                "FROM Orak JOIN Oktatok ON Orak.tanar = Oktatok.oktato_id\r\n",
                "            JOIN Beosztasok ON Oktatok.beosztás = Beosztasok.beosztas_id"
            ],
            "metadata": {
                "azdata_cell_guid": "ce846351-ddbe-4d8e-b8fb-2a92c73ac80b",
                "language": "sql"
            },
            "outputs": [
                {
                    "output_type": "display_data",
                    "data": {
                        "text/html": "(67 rows affected)"
                    },
                    "metadata": {}
                },
                {
                    "output_type": "display_data",
                    "data": {
                        "text/html": "Total execution time: 00:00:00.022"
                    },
                    "metadata": {}
                },
                {
                    "output_type": "execute_result",
                    "execution_count": 7,
                    "data": {
                        "application/vnd.dataresource+json": {
                            "schema": {
                                "fields": [
                                    {
                                        "name": "beosztasnev"
                                    },
                                    {
                                        "name": "TÚlóra"
                                    }
                                ]
                            },
                            "data": [
                                {
                                    "beosztasnev": "Egyetemi tanár",
                                    "TÚlóra": "2"
                                },
                                {
                                    "beosztasnev": "Tanársegéd",
                                    "TÚlóra": "2"
                                },
                                {
                                    "beosztasnev": "Tanársegéd",
                                    "TÚlóra": "2"
                                },
                                {
                                    "beosztasnev": "Óraadó",
                                    "TÚlóra": "4"
                                },
                                {
                                    "beosztasnev": "Docens",
                                    "TÚlóra": "4"
                                },
                                {
                                    "beosztasnev": "Tanársegéd",
                                    "TÚlóra": "2"
                                },
                                {
                                    "beosztasnev": "Docens",
                                    "TÚlóra": "4"
                                },
                                {
                                    "beosztasnev": "Docens",
                                    "TÚlóra": "4"
                                },
                                {
                                    "beosztasnev": "Adjunktus",
                                    "TÚlóra": "5"
                                },
                                {
                                    "beosztasnev": "Egyetemi tanár",
                                    "TÚlóra": "2"
                                },
                                {
                                    "beosztasnev": "Óraadó",
                                    "TÚlóra": "4"
                                },
                                {
                                    "beosztasnev": "Óraadó",
                                    "TÚlóra": "4"
                                },
                                {
                                    "beosztasnev": "Adjunktus",
                                    "TÚlóra": "5"
                                },
                                {
                                    "beosztasnev": "Tanársegéd",
                                    "TÚlóra": "2"
                                },
                                {
                                    "beosztasnev": "Óraadó",
                                    "TÚlóra": "4"
                                },
                                {
                                    "beosztasnev": "Óraadó",
                                    "TÚlóra": "4"
                                },
                                {
                                    "beosztasnev": "Adjunktus",
                                    "TÚlóra": "5"
                                },
                                {
                                    "beosztasnev": "Óraadó",
                                    "TÚlóra": "4"
                                },
                                {
                                    "beosztasnev": "Adjunktus",
                                    "TÚlóra": "5"
                                },
                                {
                                    "beosztasnev": "Tanársegéd",
                                    "TÚlóra": "2"
                                },
                                {
                                    "beosztasnev": "Adjunktus",
                                    "TÚlóra": "5"
                                },
                                {
                                    "beosztasnev": "Tanársegéd",
                                    "TÚlóra": "2"
                                },
                                {
                                    "beosztasnev": "Adjunktus",
                                    "TÚlóra": "5"
                                },
                                {
                                    "beosztasnev": "Tanársegéd",
                                    "TÚlóra": "2"
                                },
                                {
                                    "beosztasnev": "Adjunktus",
                                    "TÚlóra": "5"
                                },
                                {
                                    "beosztasnev": "Tanársegéd",
                                    "TÚlóra": "2"
                                },
                                {
                                    "beosztasnev": "Adjunktus",
                                    "TÚlóra": "5"
                                },
                                {
                                    "beosztasnev": "Óraadó",
                                    "TÚlóra": "4"
                                },
                                {
                                    "beosztasnev": "Docens",
                                    "TÚlóra": "4"
                                },
                                {
                                    "beosztasnev": "Tanársegéd",
                                    "TÚlóra": "2"
                                },
                                {
                                    "beosztasnev": "Tanársegéd",
                                    "TÚlóra": "2"
                                },
                                {
                                    "beosztasnev": "Tanársegéd",
                                    "TÚlóra": "2"
                                },
                                {
                                    "beosztasnev": "Docens",
                                    "TÚlóra": "4"
                                },
                                {
                                    "beosztasnev": "Docens",
                                    "TÚlóra": "4"
                                },
                                {
                                    "beosztasnev": "Tanársegéd",
                                    "TÚlóra": "2"
                                },
                                {
                                    "beosztasnev": "Tanársegéd",
                                    "TÚlóra": "2"
                                },
                                {
                                    "beosztasnev": "Docens",
                                    "TÚlóra": "4"
                                },
                                {
                                    "beosztasnev": "Docens",
                                    "TÚlóra": "4"
                                },
                                {
                                    "beosztasnev": "Tanársegéd",
                                    "TÚlóra": "2"
                                },
                                {
                                    "beosztasnev": "Tanársegéd",
                                    "TÚlóra": "2"
                                },
                                {
                                    "beosztasnev": "Óraadó",
                                    "TÚlóra": "4"
                                },
                                {
                                    "beosztasnev": "Óraadó",
                                    "TÚlóra": "4"
                                },
                                {
                                    "beosztasnev": "Egyetemi tanár",
                                    "TÚlóra": "2"
                                },
                                {
                                    "beosztasnev": "Egyetemi tanár",
                                    "TÚlóra": "2"
                                },
                                {
                                    "beosztasnev": "Óraadó",
                                    "TÚlóra": "4"
                                },
                                {
                                    "beosztasnev": "Tanársegéd",
                                    "TÚlóra": "2"
                                },
                                {
                                    "beosztasnev": "Egyetemi tanár",
                                    "TÚlóra": "2"
                                },
                                {
                                    "beosztasnev": "Docens",
                                    "TÚlóra": "4"
                                },
                                {
                                    "beosztasnev": "Docens",
                                    "TÚlóra": "4"
                                },
                                {
                                    "beosztasnev": "Egyetemi tanár",
                                    "TÚlóra": "2"
                                },
                                {
                                    "beosztasnev": "Egyetemi tanár",
                                    "TÚlóra": "2"
                                },
                                {
                                    "beosztasnev": "Adjunktus",
                                    "TÚlóra": "5"
                                },
                                {
                                    "beosztasnev": "Adjunktus",
                                    "TÚlóra": "5"
                                },
                                {
                                    "beosztasnev": "Tanársegéd",
                                    "TÚlóra": "2"
                                },
                                {
                                    "beosztasnev": "Tanársegéd",
                                    "TÚlóra": "2"
                                },
                                {
                                    "beosztasnev": "Tanársegéd",
                                    "TÚlóra": "2"
                                },
                                {
                                    "beosztasnev": "Tanársegéd",
                                    "TÚlóra": "2"
                                },
                                {
                                    "beosztasnev": "Adjunktus",
                                    "TÚlóra": "5"
                                },
                                {
                                    "beosztasnev": "Adjunktus",
                                    "TÚlóra": "5"
                                },
                                {
                                    "beosztasnev": "Tanársegéd",
                                    "TÚlóra": "2"
                                },
                                {
                                    "beosztasnev": "Tanársegéd",
                                    "TÚlóra": "2"
                                },
                                {
                                    "beosztasnev": "Egyetemi tanár",
                                    "TÚlóra": "2"
                                },
                                {
                                    "beosztasnev": "Egyetemi tanár",
                                    "TÚlóra": "2"
                                },
                                {
                                    "beosztasnev": "Egyetemi tanár",
                                    "TÚlóra": "2"
                                },
                                {
                                    "beosztasnev": "Egyetemi tanár",
                                    "TÚlóra": "2"
                                },
                                {
                                    "beosztasnev": "Adjunktus",
                                    "TÚlóra": "5"
                                },
                                {
                                    "beosztasnev": "Adjunktus",
                                    "TÚlóra": "5"
                                }
                            ]
                        },
                        "text/html": "<table><tr><th>beosztasnev</th><th>TÚlóra</th></tr><tr><td>Egyetemi tanár</td><td>2</td></tr><tr><td>Tanársegéd</td><td>2</td></tr><tr><td>Tanársegéd</td><td>2</td></tr><tr><td>Óraadó</td><td>4</td></tr><tr><td>Docens</td><td>4</td></tr><tr><td>Tanársegéd</td><td>2</td></tr><tr><td>Docens</td><td>4</td></tr><tr><td>Docens</td><td>4</td></tr><tr><td>Adjunktus</td><td>5</td></tr><tr><td>Egyetemi tanár</td><td>2</td></tr><tr><td>Óraadó</td><td>4</td></tr><tr><td>Óraadó</td><td>4</td></tr><tr><td>Adjunktus</td><td>5</td></tr><tr><td>Tanársegéd</td><td>2</td></tr><tr><td>Óraadó</td><td>4</td></tr><tr><td>Óraadó</td><td>4</td></tr><tr><td>Adjunktus</td><td>5</td></tr><tr><td>Óraadó</td><td>4</td></tr><tr><td>Adjunktus</td><td>5</td></tr><tr><td>Tanársegéd</td><td>2</td></tr><tr><td>Adjunktus</td><td>5</td></tr><tr><td>Tanársegéd</td><td>2</td></tr><tr><td>Adjunktus</td><td>5</td></tr><tr><td>Tanársegéd</td><td>2</td></tr><tr><td>Adjunktus</td><td>5</td></tr><tr><td>Tanársegéd</td><td>2</td></tr><tr><td>Adjunktus</td><td>5</td></tr><tr><td>Óraadó</td><td>4</td></tr><tr><td>Docens</td><td>4</td></tr><tr><td>Tanársegéd</td><td>2</td></tr><tr><td>Tanársegéd</td><td>2</td></tr><tr><td>Tanársegéd</td><td>2</td></tr><tr><td>Docens</td><td>4</td></tr><tr><td>Docens</td><td>4</td></tr><tr><td>Tanársegéd</td><td>2</td></tr><tr><td>Tanársegéd</td><td>2</td></tr><tr><td>Docens</td><td>4</td></tr><tr><td>Docens</td><td>4</td></tr><tr><td>Tanársegéd</td><td>2</td></tr><tr><td>Tanársegéd</td><td>2</td></tr><tr><td>Óraadó</td><td>4</td></tr><tr><td>Óraadó</td><td>4</td></tr><tr><td>Egyetemi tanár</td><td>2</td></tr><tr><td>Egyetemi tanár</td><td>2</td></tr><tr><td>Óraadó</td><td>4</td></tr><tr><td>Tanársegéd</td><td>2</td></tr><tr><td>Egyetemi tanár</td><td>2</td></tr><tr><td>Docens</td><td>4</td></tr><tr><td>Docens</td><td>4</td></tr><tr><td>Egyetemi tanár</td><td>2</td></tr><tr><td>Egyetemi tanár</td><td>2</td></tr><tr><td>Adjunktus</td><td>5</td></tr><tr><td>Adjunktus</td><td>5</td></tr><tr><td>Tanársegéd</td><td>2</td></tr><tr><td>Tanársegéd</td><td>2</td></tr><tr><td>Tanársegéd</td><td>2</td></tr><tr><td>Tanársegéd</td><td>2</td></tr><tr><td>Adjunktus</td><td>5</td></tr><tr><td>Adjunktus</td><td>5</td></tr><tr><td>Tanársegéd</td><td>2</td></tr><tr><td>Tanársegéd</td><td>2</td></tr><tr><td>Egyetemi tanár</td><td>2</td></tr><tr><td>Egyetemi tanár</td><td>2</td></tr><tr><td>Egyetemi tanár</td><td>2</td></tr><tr><td>Egyetemi tanár</td><td>2</td></tr><tr><td>Adjunktus</td><td>5</td></tr><tr><td>Adjunktus</td><td>5</td></tr></table>"
                    },
                    "metadata": {}
                }
            ],
            "execution_count": 7
        },
        {
            "cell_type": "markdown",
            "source": [
                "10. <span style=\"font-weight: 600; color: rgb(36, 41, 47); font-family: -apple-system, BlinkMacSystemFont, &quot;Segoe UI&quot;, Helvetica, Arial, sans-serif, &quot;Apple Color Emoji&quot;, &quot;Segoe UI Emoji&quot;; font-size: 16px;\">Melyek azok az oktatók, akiknek nincs órájuk?</span>\n",
                "\n",
                "1. Csak az oktatók neve jelenjen meg!\n",
                "2. ÖTLET: használjunk LEFT JOIN-t, és szűrjünk azokra a rekordokra, ahol NULL érték van a JOIN utáni feltétel jobb oldalán!"
            ],
            "metadata": {
                "azdata_cell_guid": "217c5772-afe2-4a7c-b913-e3a3e09d6411"
            },
            "attachments": {}
        },
        {
            "cell_type": "code",
            "source": [
                "select Oktatok.nev\r\n",
                "FROM orak RIGHT JOIN oktatok on orak.tanar = Oktatok.oktato_id\r\n",
                "WHERE ora_id is null"
            ],
            "metadata": {
                "azdata_cell_guid": "a9cc0926-3dbd-4ed8-8179-1c39d64a0762",
                "language": "sql"
            },
            "outputs": [
                {
                    "output_type": "display_data",
                    "data": {
                        "text/html": "(5 rows affected)"
                    },
                    "metadata": {}
                },
                {
                    "output_type": "display_data",
                    "data": {
                        "text/html": "Total execution time: 00:00:00.032"
                    },
                    "metadata": {}
                },
                {
                    "output_type": "execute_result",
                    "metadata": {},
                    "execution_count": 106,
                    "data": {
                        "application/vnd.dataresource+json": {
                            "schema": {
                                "fields": [
                                    {
                                        "name": "nev"
                                    }
                                ]
                            },
                            "data": [
                                {
                                    "nev": "Józsa Gábor"
                                },
                                {
                                    "nev": "Rácz András"
                                },
                                {
                                    "nev": "Kiss István"
                                },
                                {
                                    "nev": "Mészáros Kriszta"
                                },
                                {
                                    "nev": "Kovacs Istvan"
                                }
                            ]
                        },
                        "text/html": [
                            "<table>",
                            "<tr><th>nev</th></tr>",
                            "<tr><td>Józsa Gábor</td></tr>",
                            "<tr><td>Rácz András</td></tr>",
                            "<tr><td>Kiss István</td></tr>",
                            "<tr><td>Mészáros Kriszta</td></tr>",
                            "<tr><td>Kovacs Istvan</td></tr>",
                            "</table>"
                        ]
                    }
                }
            ],
            "execution_count": 106
        },
        {
            "cell_type": "markdown",
            "source": [
                "11. <span style=\"font-weight: 600; color: rgb(36, 41, 47); font-family: -apple-system, BlinkMacSystemFont, &quot;Segoe UI&quot;, Helvetica, Arial, sans-serif, &quot;Apple Color Emoji&quot;, &quot;Segoe UI Emoji&quot;; font-size: 16px;\">Készítsünk lekérdezést, amely részletesen megjeleníti az egyes órák fontosabb adatait, azaz</span>\n",
                "\n",
                "1. Az órák azonosítóit, a tanár nevét, a tantárgy nevét, a terem nevét és a kezdési időpontot!\n",
                "2. Az oszlopokat nevezzük el értelemszerűen!"
            ],
            "metadata": {
                "azdata_cell_guid": "d2340f5f-1614-473c-b937-85740d67f7c1"
            },
            "attachments": {}
        },
        {
            "cell_type": "code",
            "source": [
                "SELECT Orak.ora_id, \r\n",
                "        Oktatok.nev,\r\n",
                "        Tantárgyak.Tantárgynév,\r\n",
                "        Termek.Terem,\r\n",
                "        Savok.Időpont\r\n",
                "FROM Orak JOIN Oktatok ON Orak.tanar = Oktatok.oktato_id\r\n",
                "        JOIN Tantárgyak ON Orak.targy = Tantárgyak.Tkód\r\n",
                "        JOIN Termek ON Orak.terem = Termek.Tkód\r\n",
                "        JOIN Savok on Orak.Sav = Savok.Sav_id"
            ],
            "metadata": {
                "azdata_cell_guid": "e99c2c53-898f-4787-b0e6-182d106dc16f",
                "language": "sql"
            },
            "outputs": [
                {
                    "output_type": "display_data",
                    "data": {
                        "text/html": "(67 rows affected)"
                    },
                    "metadata": {}
                },
                {
                    "output_type": "display_data",
                    "data": {
                        "text/html": "Total execution time: 00:00:00.197"
                    },
                    "metadata": {}
                },
                {
                    "output_type": "execute_result",
                    "metadata": {},
                    "execution_count": 107,
                    "data": {
                        "application/vnd.dataresource+json": {
                            "schema": {
                                "fields": [
                                    {
                                        "name": "ora_id"
                                    },
                                    {
                                        "name": "nev"
                                    },
                                    {
                                        "name": "Tantárgynév"
                                    },
                                    {
                                        "name": "Terem"
                                    },
                                    {
                                        "name": "Időpont"
                                    }
                                ]
                            },
                            "data": [
                                {
                                    "ora_id": "159",
                                    "nev": "Ujfalussi István",
                                    "Tantárgynév": "Az ürgeöntés alapjai",
                                    "Terem": "117",
                                    "Időpont": "8.00"
                                },
                                {
                                    "ora_id": "160",
                                    "nev": "Pelikán József",
                                    "Tantárgynév": "Az ürgeöntés alapjai",
                                    "Terem": "118",
                                    "Időpont": "14.00"
                                },
                                {
                                    "ora_id": "161",
                                    "nev": "Pelikán József",
                                    "Tantárgynév": "Az ürgeöntés alapjai",
                                    "Terem": "118",
                                    "Időpont": "9.30"
                                },
                                {
                                    "ora_id": "162",
                                    "nev": "Kovács András",
                                    "Tantárgynév": "Az ürgeöntés alapjai",
                                    "Terem": "119",
                                    "Időpont": "12.30"
                                },
                                {
                                    "ora_id": "163",
                                    "nev": "Szerb László",
                                    "Tantárgynév": "Az ürgeöntés alapjai",
                                    "Terem": "120",
                                    "Időpont": "9.30"
                                },
                                {
                                    "ora_id": "164",
                                    "nev": "Kiss János",
                                    "Tantárgynév": "Az ürgeöntés alapjai",
                                    "Terem": "119",
                                    "Időpont": "11.00"
                                },
                                {
                                    "ora_id": "165",
                                    "nev": "Szerb László",
                                    "Tantárgynév": "Az ürgeöntés alapjai",
                                    "Terem": "119",
                                    "Időpont": "11.00"
                                },
                                {
                                    "ora_id": "166",
                                    "nev": "Szerb László",
                                    "Tantárgynév": "Az ürgeöntés alapjai",
                                    "Terem": "119",
                                    "Időpont": "12.30"
                                },
                                {
                                    "ora_id": "167",
                                    "nev": "Szentágotai Istvás",
                                    "Tantárgynév": "Az ürgeöntés alapjai",
                                    "Terem": "120",
                                    "Időpont": "12.30"
                                },
                                {
                                    "ora_id": "168",
                                    "nev": "Ujfalussi István",
                                    "Tantárgynév": "Az ürgeöntés alapjai",
                                    "Terem": "217",
                                    "Időpont": "11.00"
                                },
                                {
                                    "ora_id": "169",
                                    "nev": "Kovács András",
                                    "Tantárgynév": "Az ürgeöntés alapjai",
                                    "Terem": "218",
                                    "Időpont": "9.30"
                                },
                                {
                                    "ora_id": "170",
                                    "nev": "Ludas Mátyás",
                                    "Tantárgynév": "Az ürgeöntés alapjai",
                                    "Terem": "120",
                                    "Időpont": "9.30"
                                },
                                {
                                    "ora_id": "171",
                                    "nev": "Szénási ászló",
                                    "Tantárgynév": "Az ürgeöntés alapjai",
                                    "Terem": "220",
                                    "Időpont": "9.30"
                                },
                                {
                                    "ora_id": "172",
                                    "nev": "Kiss János",
                                    "Tantárgynév": "Az ürgeöntés alapjai",
                                    "Terem": "119",
                                    "Időpont": "9.30"
                                },
                                {
                                    "ora_id": "173",
                                    "nev": "Kovács András",
                                    "Tantárgynév": "Az ürgeöntés alapjai",
                                    "Terem": "119",
                                    "Időpont": "11.00"
                                },
                                {
                                    "ora_id": "174",
                                    "nev": "Ludas Mátyás",
                                    "Tantárgynév": "Az ürgeöntés alapjai",
                                    "Terem": "219",
                                    "Időpont": "11.00"
                                },
                                {
                                    "ora_id": "175",
                                    "nev": "Szénási ászló",
                                    "Tantárgynév": "Az ürgeöntés alapjai",
                                    "Terem": "120",
                                    "Időpont": "12.30"
                                },
                                {
                                    "ora_id": "176",
                                    "nev": "Kovács András",
                                    "Tantárgynév": "Az ürgeöntés alapjai",
                                    "Terem": "118",
                                    "Időpont": "12.30"
                                },
                                {
                                    "ora_id": "177",
                                    "nev": "Szentágotai Istvás",
                                    "Tantárgynév": "Az ürgeöntés alapjai",
                                    "Terem": "119",
                                    "Időpont": "14.00"
                                },
                                {
                                    "ora_id": "178",
                                    "nev": "Vitéz János",
                                    "Tantárgynév": "Az ürgeöntés alapjai",
                                    "Terem": "220",
                                    "Időpont": "14.00"
                                },
                                {
                                    "ora_id": "179",
                                    "nev": "Szentágotai Istvás",
                                    "Tantárgynév": "Az ürgeöntés alapjai",
                                    "Terem": "120",
                                    "Időpont": "15.30"
                                },
                                {
                                    "ora_id": "180",
                                    "nev": "Vitéz János",
                                    "Tantárgynév": "Az ürgeöntés alapjai",
                                    "Terem": "119",
                                    "Időpont": "15.30"
                                },
                                {
                                    "ora_id": "181",
                                    "nev": "Szentágotai Istvás",
                                    "Tantárgynév": "Az ürgeöntés alapjai",
                                    "Terem": "118",
                                    "Időpont": "8.00"
                                },
                                {
                                    "ora_id": "182",
                                    "nev": "Vitéz János",
                                    "Tantárgynév": "Az ürgeöntés alapjai",
                                    "Terem": "219",
                                    "Időpont": "8.00"
                                },
                                {
                                    "ora_id": "183",
                                    "nev": "Szentágotai Istvás",
                                    "Tantárgynév": "Az ürgeöntés alapjai",
                                    "Terem": "220",
                                    "Időpont": "9.30"
                                },
                                {
                                    "ora_id": "184",
                                    "nev": "Vitéz János",
                                    "Tantárgynév": "Az ürgeöntés alapjai",
                                    "Terem": "218",
                                    "Időpont": "9.30"
                                },
                                {
                                    "ora_id": "185",
                                    "nev": "Szentágotai Istvás",
                                    "Tantárgynév": "Az ürgeöntés alapjai",
                                    "Terem": "120",
                                    "Időpont": "11.00"
                                },
                                {
                                    "ora_id": "186",
                                    "nev": "Nógrádi Kata",
                                    "Tantárgynév": "ü-business",
                                    "Terem": "219",
                                    "Időpont": "12.30"
                                },
                                {
                                    "ora_id": "187",
                                    "nev": "Balkán András",
                                    "Tantárgynév": "Bevezetés az ürgeöntésbe",
                                    "Terem": "217",
                                    "Időpont": "9.30"
                                },
                                {
                                    "ora_id": "188",
                                    "nev": "Farkasos Piroska",
                                    "Tantárgynév": "Bevezetés az ürgeöntésbe",
                                    "Terem": "VP 203.",
                                    "Időpont": "15.30"
                                },
                                {
                                    "ora_id": "189",
                                    "nev": "Farkasos Piroska",
                                    "Tantárgynév": "Bevezetés az ürgeöntésbe",
                                    "Terem": "VP 203.",
                                    "Időpont": "9.30"
                                },
                                {
                                    "ora_id": "190",
                                    "nev": "Farkasos Piroska",
                                    "Tantárgynév": "Bevezetés az ürgeöntésbe",
                                    "Terem": "E.2.238",
                                    "Időpont": "11.00"
                                },
                                {
                                    "ora_id": "191",
                                    "nev": "Varga Kata",
                                    "Tantárgynév": "Az ürgeöntés hydrológiai alapjai II.",
                                    "Terem": "220",
                                    "Időpont": "14.00"
                                },
                                {
                                    "ora_id": "192",
                                    "nev": "Varga Kata",
                                    "Tantárgynév": "Az ürgeöntés hydrológiai alapjai II.",
                                    "Terem": "119",
                                    "Időpont": "15.30"
                                },
                                {
                                    "ora_id": "193",
                                    "nev": "Farkasos Piroska",
                                    "Tantárgynév": "Az ürgeöntés hydrológiai alapjai II.",
                                    "Terem": "217",
                                    "Időpont": "14.00"
                                },
                                {
                                    "ora_id": "194",
                                    "nev": "Farkasos Piroska",
                                    "Tantárgynév": "Az ürgeöntés hydrológiai alapjai II.",
                                    "Terem": "E.fsz.I",
                                    "Időpont": "15.30"
                                },
                                {
                                    "ora_id": "195",
                                    "nev": "Balkán András",
                                    "Tantárgynév": "Az ürgeöntés hydrológiai alapjai II.",
                                    "Terem": "116",
                                    "Időpont": "14.00"
                                },
                                {
                                    "ora_id": "196",
                                    "nev": "Balkán András",
                                    "Tantárgynév": "Az ürgeöntés hydrológiai alapjai II.",
                                    "Terem": "218",
                                    "Időpont": "15.30"
                                },
                                {
                                    "ora_id": "197",
                                    "nev": "Farkasos Piroska",
                                    "Tantárgynév": "Az ürgeöntés hydrológiai alapjai II.",
                                    "Terem": "116",
                                    "Időpont": "8.00"
                                },
                                {
                                    "ora_id": "198",
                                    "nev": "Farkasos Piroska",
                                    "Tantárgynév": "Az ürgeöntés hydrológiai alapjai II.",
                                    "Terem": "119",
                                    "Időpont": "9.30"
                                },
                                {
                                    "ora_id": "199",
                                    "nev": "Szabó Andrera",
                                    "Tantárgynév": "Az ürgeöntés hydrológiai alapjai II.",
                                    "Terem": "218",
                                    "Időpont": "8.00"
                                },
                                {
                                    "ora_id": "200",
                                    "nev": "Szabó Andrera",
                                    "Tantárgynév": "Az ürgeöntés hydrológiai alapjai II.",
                                    "Terem": "220",
                                    "Időpont": "9.30"
                                },
                                {
                                    "ora_id": "201",
                                    "nev": "Juhász András",
                                    "Tantárgynév": "Öntési gyakorlat",
                                    "Terem": "E.2.238",
                                    "Időpont": "12.30"
                                },
                                {
                                    "ora_id": "202",
                                    "nev": "Juhász András",
                                    "Tantárgynév": "Öntési gyakorlat",
                                    "Terem": "E.3.332",
                                    "Időpont": "14.00"
                                },
                                {
                                    "ora_id": "203",
                                    "nev": "Aranyi Mária",
                                    "Tantárgynév": "Az ürgeöntés hydrológiai alapjai I.",
                                    "Terem": "S.Asor.S3",
                                    "Időpont": "12.30"
                                },
                                {
                                    "ora_id": "204",
                                    "nev": "Róbert Gida",
                                    "Tantárgynév": "Az ürgeöntés hydrológiai alapjai I.",
                                    "Terem": "120",
                                    "Időpont": "14.00"
                                },
                                {
                                    "ora_id": "205",
                                    "nev": "Ujfalussi István",
                                    "Tantárgynév": "Az öntés elmélete",
                                    "Terem": "220",
                                    "Időpont": "12.30"
                                },
                                {
                                    "ora_id": "206",
                                    "nev": "Varga Kata",
                                    "Tantárgynév": "Az öntés elmélete",
                                    "Terem": "S.Asor.S3",
                                    "Időpont": "8.00"
                                },
                                {
                                    "ora_id": "207",
                                    "nev": "Varga Kata",
                                    "Tantárgynév": "Az öntés elmélete",
                                    "Terem": "219",
                                    "Időpont": "12.30"
                                },
                                {
                                    "ora_id": "208",
                                    "nev": "Jogrerős Pál",
                                    "Tantárgynév": "Ürgevitel",
                                    "Terem": "VP 203.",
                                    "Időpont": "8.00"
                                },
                                {
                                    "ora_id": "209",
                                    "nev": "Jogrerős Pál",
                                    "Tantárgynév": "Ürgevitel",
                                    "Terem": "VP 203.",
                                    "Időpont": "9.30"
                                },
                                {
                                    "ora_id": "210",
                                    "nev": "Szép llonka",
                                    "Tantárgynév": "Ürgeöntés az EU-ban",
                                    "Terem": "E.2.238",
                                    "Időpont": "15.30"
                                },
                                {
                                    "ora_id": "211",
                                    "nev": "Szép llonka",
                                    "Tantárgynév": "Ürgeöntés az EU-ban",
                                    "Terem": "217",
                                    "Időpont": "17.00"
                                },
                                {
                                    "ora_id": "212",
                                    "nev": "Kiss János",
                                    "Tantárgynév": "Ürgeöntés az EU-ban",
                                    "Terem": "120",
                                    "Időpont": "18.30"
                                },
                                {
                                    "ora_id": "213",
                                    "nev": "Kiss János",
                                    "Tantárgynév": "Ürgeöntés az EU-ban",
                                    "Terem": "218",
                                    "Időpont": "20.00"
                                },
                                {
                                    "ora_id": "214",
                                    "nev": "Pelikán József",
                                    "Tantárgynév": "Az ürge anatómiája",
                                    "Terem": "219",
                                    "Időpont": "11.00"
                                },
                                {
                                    "ora_id": "215",
                                    "nev": "Pelikán József",
                                    "Tantárgynév": "Az ürge anatómiája",
                                    "Terem": "E.fsz.IV.",
                                    "Időpont": "12.30"
                                },
                                {
                                    "ora_id": "216",
                                    "nev": "Szép llonka",
                                    "Tantárgynév": "Az ürge anatómiája",
                                    "Terem": "218",
                                    "Időpont": "11.00"
                                },
                                {
                                    "ora_id": "217",
                                    "nev": "Szép llonka",
                                    "Tantárgynév": "Az ürge anatómiája",
                                    "Terem": "217",
                                    "Időpont": "12.30"
                                },
                                {
                                    "ora_id": "218",
                                    "nev": "Pelikán József",
                                    "Tantárgynév": "Az ürge anatómiája",
                                    "Terem": "118",
                                    "Időpont": "15.30"
                                },
                                {
                                    "ora_id": "219",
                                    "nev": "Pelikán József",
                                    "Tantárgynév": "Az ürge anatómiája",
                                    "Terem": "219",
                                    "Időpont": "17.00"
                                },
                                {
                                    "ora_id": "220",
                                    "nev": "Kovács László",
                                    "Tantárgynév": "Fejezetek az ürgék jogaiból",
                                    "Terem": "119",
                                    "Időpont": "11.00"
                                },
                                {
                                    "ora_id": "221",
                                    "nev": "Kovács László",
                                    "Tantárgynév": "Fejezetek az ürgék jogaiból",
                                    "Terem": "VP 203.",
                                    "Időpont": "11.00"
                                },
                                {
                                    "ora_id": "222",
                                    "nev": "Kovács László",
                                    "Tantárgynév": "Fejezetek az ürgék jogaiból",
                                    "Terem": "116",
                                    "Időpont": "14.00"
                                },
                                {
                                    "ora_id": "223",
                                    "nev": "Kovács László",
                                    "Tantárgynév": "Fejezetek az ürgék jogaiból",
                                    "Terem": "S.Asor.S3",
                                    "Időpont": "8.00"
                                },
                                {
                                    "ora_id": "226",
                                    "nev": "Szentágotai Istvás",
                                    "Tantárgynév": "ürgefőzés",
                                    "Terem": "117",
                                    "Időpont": "11.00"
                                },
                                {
                                    "ora_id": "227",
                                    "nev": "Szentágotai Istvás",
                                    "Tantárgynév": "Az ürgeöntés hydrológiai alapjai I.",
                                    "Terem": "116",
                                    "Időpont": "14.00"
                                }
                            ]
                        },
                        "text/html": [
                            "<table>",
                            "<tr><th>ora_id</th><th>nev</th><th>Tantárgynév</th><th>Terem</th><th>Időpont</th></tr>",
                            "<tr><td>159</td><td>Ujfalussi István</td><td>Az ürgeöntés alapjai</td><td>117</td><td>8.00</td></tr>",
                            "<tr><td>160</td><td>Pelikán József</td><td>Az ürgeöntés alapjai</td><td>118</td><td>14.00</td></tr>",
                            "<tr><td>161</td><td>Pelikán József</td><td>Az ürgeöntés alapjai</td><td>118</td><td>9.30</td></tr>",
                            "<tr><td>162</td><td>Kovács András</td><td>Az ürgeöntés alapjai</td><td>119</td><td>12.30</td></tr>",
                            "<tr><td>163</td><td>Szerb László</td><td>Az ürgeöntés alapjai</td><td>120</td><td>9.30</td></tr>",
                            "<tr><td>164</td><td>Kiss János</td><td>Az ürgeöntés alapjai</td><td>119</td><td>11.00</td></tr>",
                            "<tr><td>165</td><td>Szerb László</td><td>Az ürgeöntés alapjai</td><td>119</td><td>11.00</td></tr>",
                            "<tr><td>166</td><td>Szerb László</td><td>Az ürgeöntés alapjai</td><td>119</td><td>12.30</td></tr>",
                            "<tr><td>167</td><td>Szentágotai Istvás</td><td>Az ürgeöntés alapjai</td><td>120</td><td>12.30</td></tr>",
                            "<tr><td>168</td><td>Ujfalussi István</td><td>Az ürgeöntés alapjai</td><td>217</td><td>11.00</td></tr>",
                            "<tr><td>169</td><td>Kovács András</td><td>Az ürgeöntés alapjai</td><td>218</td><td>9.30</td></tr>",
                            "<tr><td>170</td><td>Ludas Mátyás</td><td>Az ürgeöntés alapjai</td><td>120</td><td>9.30</td></tr>",
                            "<tr><td>171</td><td>Szénási ászló</td><td>Az ürgeöntés alapjai</td><td>220</td><td>9.30</td></tr>",
                            "<tr><td>172</td><td>Kiss János</td><td>Az ürgeöntés alapjai</td><td>119</td><td>9.30</td></tr>",
                            "<tr><td>173</td><td>Kovács András</td><td>Az ürgeöntés alapjai</td><td>119</td><td>11.00</td></tr>",
                            "<tr><td>174</td><td>Ludas Mátyás</td><td>Az ürgeöntés alapjai</td><td>219</td><td>11.00</td></tr>",
                            "<tr><td>175</td><td>Szénási ászló</td><td>Az ürgeöntés alapjai</td><td>120</td><td>12.30</td></tr>",
                            "<tr><td>176</td><td>Kovács András</td><td>Az ürgeöntés alapjai</td><td>118</td><td>12.30</td></tr>",
                            "<tr><td>177</td><td>Szentágotai Istvás</td><td>Az ürgeöntés alapjai</td><td>119</td><td>14.00</td></tr>",
                            "<tr><td>178</td><td>Vitéz János</td><td>Az ürgeöntés alapjai</td><td>220</td><td>14.00</td></tr>",
                            "<tr><td>179</td><td>Szentágotai Istvás</td><td>Az ürgeöntés alapjai</td><td>120</td><td>15.30</td></tr>",
                            "<tr><td>180</td><td>Vitéz János</td><td>Az ürgeöntés alapjai</td><td>119</td><td>15.30</td></tr>",
                            "<tr><td>181</td><td>Szentágotai Istvás</td><td>Az ürgeöntés alapjai</td><td>118</td><td>8.00</td></tr>",
                            "<tr><td>182</td><td>Vitéz János</td><td>Az ürgeöntés alapjai</td><td>219</td><td>8.00</td></tr>",
                            "<tr><td>183</td><td>Szentágotai Istvás</td><td>Az ürgeöntés alapjai</td><td>220</td><td>9.30</td></tr>",
                            "<tr><td>184</td><td>Vitéz János</td><td>Az ürgeöntés alapjai</td><td>218</td><td>9.30</td></tr>",
                            "<tr><td>185</td><td>Szentágotai Istvás</td><td>Az ürgeöntés alapjai</td><td>120</td><td>11.00</td></tr>",
                            "<tr><td>186</td><td>Nógrádi Kata</td><td>ü-business</td><td>219</td><td>12.30</td></tr>",
                            "<tr><td>187</td><td>Balkán András</td><td>Bevezetés az ürgeöntésbe</td><td>217</td><td>9.30</td></tr>",
                            "<tr><td>188</td><td>Farkasos Piroska</td><td>Bevezetés az ürgeöntésbe</td><td>VP 203.</td><td>15.30</td></tr>",
                            "<tr><td>189</td><td>Farkasos Piroska</td><td>Bevezetés az ürgeöntésbe</td><td>VP 203.</td><td>9.30</td></tr>",
                            "<tr><td>190</td><td>Farkasos Piroska</td><td>Bevezetés az ürgeöntésbe</td><td>E.2.238</td><td>11.00</td></tr>",
                            "<tr><td>191</td><td>Varga Kata</td><td>Az ürgeöntés hydrológiai alapjai II.</td><td>220</td><td>14.00</td></tr>",
                            "<tr><td>192</td><td>Varga Kata</td><td>Az ürgeöntés hydrológiai alapjai II.</td><td>119</td><td>15.30</td></tr>",
                            "<tr><td>193</td><td>Farkasos Piroska</td><td>Az ürgeöntés hydrológiai alapjai II.</td><td>217</td><td>14.00</td></tr>",
                            "<tr><td>194</td><td>Farkasos Piroska</td><td>Az ürgeöntés hydrológiai alapjai II.</td><td>E.fsz.I</td><td>15.30</td></tr>",
                            "<tr><td>195</td><td>Balkán András</td><td>Az ürgeöntés hydrológiai alapjai II.</td><td>116</td><td>14.00</td></tr>",
                            "<tr><td>196</td><td>Balkán András</td><td>Az ürgeöntés hydrológiai alapjai II.</td><td>218</td><td>15.30</td></tr>",
                            "<tr><td>197</td><td>Farkasos Piroska</td><td>Az ürgeöntés hydrológiai alapjai II.</td><td>116</td><td>8.00</td></tr>",
                            "<tr><td>198</td><td>Farkasos Piroska</td><td>Az ürgeöntés hydrológiai alapjai II.</td><td>119</td><td>9.30</td></tr>",
                            "<tr><td>199</td><td>Szabó Andrera</td><td>Az ürgeöntés hydrológiai alapjai II.</td><td>218</td><td>8.00</td></tr>",
                            "<tr><td>200</td><td>Szabó Andrera</td><td>Az ürgeöntés hydrológiai alapjai II.</td><td>220</td><td>9.30</td></tr>",
                            "<tr><td>201</td><td>Juhász András</td><td>Öntési gyakorlat</td><td>E.2.238</td><td>12.30</td></tr>",
                            "<tr><td>202</td><td>Juhász András</td><td>Öntési gyakorlat</td><td>E.3.332</td><td>14.00</td></tr>",
                            "<tr><td>203</td><td>Aranyi Mária</td><td>Az ürgeöntés hydrológiai alapjai I.</td><td>S.Asor.S3</td><td>12.30</td></tr>",
                            "<tr><td>204</td><td>Róbert Gida</td><td>Az ürgeöntés hydrológiai alapjai I.</td><td>120</td><td>14.00</td></tr>",
                            "<tr><td>205</td><td>Ujfalussi István</td><td>Az öntés elmélete</td><td>220</td><td>12.30</td></tr>",
                            "<tr><td>206</td><td>Varga Kata</td><td>Az öntés elmélete</td><td>S.Asor.S3</td><td>8.00</td></tr>",
                            "<tr><td>207</td><td>Varga Kata</td><td>Az öntés elmélete</td><td>219</td><td>12.30</td></tr>",
                            "<tr><td>208</td><td>Jogrerős Pál</td><td>Ürgevitel</td><td>VP 203.</td><td>8.00</td></tr>",
                            "<tr><td>209</td><td>Jogrerős Pál</td><td>Ürgevitel</td><td>VP 203.</td><td>9.30</td></tr>",
                            "<tr><td>210</td><td>Szép llonka</td><td>Ürgeöntés az EU-ban</td><td>E.2.238</td><td>15.30</td></tr>",
                            "<tr><td>211</td><td>Szép llonka</td><td>Ürgeöntés az EU-ban</td><td>217</td><td>17.00</td></tr>",
                            "<tr><td>212</td><td>Kiss János</td><td>Ürgeöntés az EU-ban</td><td>120</td><td>18.30</td></tr>",
                            "<tr><td>213</td><td>Kiss János</td><td>Ürgeöntés az EU-ban</td><td>218</td><td>20.00</td></tr>",
                            "<tr><td>214</td><td>Pelikán József</td><td>Az ürge anatómiája</td><td>219</td><td>11.00</td></tr>",
                            "<tr><td>215</td><td>Pelikán József</td><td>Az ürge anatómiája</td><td>E.fsz.IV.</td><td>12.30</td></tr>",
                            "<tr><td>216</td><td>Szép llonka</td><td>Az ürge anatómiája</td><td>218</td><td>11.00</td></tr>",
                            "<tr><td>217</td><td>Szép llonka</td><td>Az ürge anatómiája</td><td>217</td><td>12.30</td></tr>",
                            "<tr><td>218</td><td>Pelikán József</td><td>Az ürge anatómiája</td><td>118</td><td>15.30</td></tr>",
                            "<tr><td>219</td><td>Pelikán József</td><td>Az ürge anatómiája</td><td>219</td><td>17.00</td></tr>",
                            "<tr><td>220</td><td>Kovács László</td><td>Fejezetek az ürgék jogaiból</td><td>119</td><td>11.00</td></tr>",
                            "<tr><td>221</td><td>Kovács László</td><td>Fejezetek az ürgék jogaiból</td><td>VP 203.</td><td>11.00</td></tr>",
                            "<tr><td>222</td><td>Kovács László</td><td>Fejezetek az ürgék jogaiból</td><td>116</td><td>14.00</td></tr>",
                            "<tr><td>223</td><td>Kovács László</td><td>Fejezetek az ürgék jogaiból</td><td>S.Asor.S3</td><td>8.00</td></tr>",
                            "<tr><td>226</td><td>Szentágotai Istvás</td><td>ürgefőzés</td><td>117</td><td>11.00</td></tr>",
                            "<tr><td>227</td><td>Szentágotai Istvás</td><td>Az ürgeöntés hydrológiai alapjai I.</td><td>116</td><td>14.00</td></tr>",
                            "</table>"
                        ]
                    }
                }
            ],
            "execution_count": 107
        },
        {
            "cell_type": "markdown",
            "source": [
                "12. <span style=\"color: rgb(36, 41, 47); font-family: -apple-system, BlinkMacSystemFont, &quot;Segoe UI&quot;, Helvetica, Arial, sans-serif, &quot;Apple Color Emoji&quot;, &quot;Segoe UI Emoji&quot;; font-size: 16px;\">Készítsünk listát, amely tartalmazza az egyes órák azonosítóit, és az órán oktatott tantárgy felelősének nevét!</span>\n",
                "\n",
                "1. Rendezzük a listát a tantárgyfelelős neve szerint csökkenő sorrendbe!"
            ],
            "metadata": {
                "azdata_cell_guid": "a765e9d6-58b3-4171-872a-78f3118fd6e3"
            },
            "attachments": {}
        },
        {
            "cell_type": "code",
            "source": [
                "select Orak.ora_id, Oktatok.nev\r\n",
                "\r\n",
                "from Orak JOIN Tantárgyak ON orak.tanar = Tantárgyak.Tantárgyfelelős\r\n",
                "    JOIN Oktatok on Oktatok.oktato_id = Tantárgyak.Tantárgyfelelős\r\n",
                "ORDER by Oktatok.nev DESC"
            ],
            "metadata": {
                "azdata_cell_guid": "422e8127-b652-4d3a-bfd7-9b1637b5781e",
                "language": "sql"
            },
            "outputs": [
                {
                    "output_type": "display_data",
                    "data": {
                        "text/html": "(52 rows affected)"
                    },
                    "metadata": {}
                },
                {
                    "output_type": "display_data",
                    "data": {
                        "text/html": "Total execution time: 00:00:00.025"
                    },
                    "metadata": {}
                },
                {
                    "output_type": "execute_result",
                    "metadata": {},
                    "execution_count": 112,
                    "data": {
                        "application/vnd.dataresource+json": {
                            "schema": {
                                "fields": [
                                    {
                                        "name": "ora_id"
                                    },
                                    {
                                        "name": "nev"
                                    }
                                ]
                            },
                            "data": [
                                {
                                    "ora_id": "191",
                                    "nev": "Varga Kata"
                                },
                                {
                                    "ora_id": "192",
                                    "nev": "Varga Kata"
                                },
                                {
                                    "ora_id": "206",
                                    "nev": "Varga Kata"
                                },
                                {
                                    "ora_id": "207",
                                    "nev": "Varga Kata"
                                },
                                {
                                    "ora_id": "159",
                                    "nev": "Ujfalussi István"
                                },
                                {
                                    "ora_id": "168",
                                    "nev": "Ujfalussi István"
                                },
                                {
                                    "ora_id": "205",
                                    "nev": "Ujfalussi István"
                                },
                                {
                                    "ora_id": "160",
                                    "nev": "Pelikán József"
                                },
                                {
                                    "ora_id": "161",
                                    "nev": "Pelikán József"
                                },
                                {
                                    "ora_id": "214",
                                    "nev": "Pelikán József"
                                },
                                {
                                    "ora_id": "215",
                                    "nev": "Pelikán József"
                                },
                                {
                                    "ora_id": "218",
                                    "nev": "Pelikán József"
                                },
                                {
                                    "ora_id": "219",
                                    "nev": "Pelikán József"
                                },
                                {
                                    "ora_id": "160",
                                    "nev": "Pelikán József"
                                },
                                {
                                    "ora_id": "161",
                                    "nev": "Pelikán József"
                                },
                                {
                                    "ora_id": "214",
                                    "nev": "Pelikán József"
                                },
                                {
                                    "ora_id": "215",
                                    "nev": "Pelikán József"
                                },
                                {
                                    "ora_id": "218",
                                    "nev": "Pelikán József"
                                },
                                {
                                    "ora_id": "219",
                                    "nev": "Pelikán József"
                                },
                                {
                                    "ora_id": "160",
                                    "nev": "Pelikán József"
                                },
                                {
                                    "ora_id": "161",
                                    "nev": "Pelikán József"
                                },
                                {
                                    "ora_id": "214",
                                    "nev": "Pelikán József"
                                },
                                {
                                    "ora_id": "215",
                                    "nev": "Pelikán József"
                                },
                                {
                                    "ora_id": "218",
                                    "nev": "Pelikán József"
                                },
                                {
                                    "ora_id": "219",
                                    "nev": "Pelikán József"
                                },
                                {
                                    "ora_id": "220",
                                    "nev": "Kovács László"
                                },
                                {
                                    "ora_id": "221",
                                    "nev": "Kovács László"
                                },
                                {
                                    "ora_id": "222",
                                    "nev": "Kovács László"
                                },
                                {
                                    "ora_id": "223",
                                    "nev": "Kovács László"
                                },
                                {
                                    "ora_id": "220",
                                    "nev": "Kovács László"
                                },
                                {
                                    "ora_id": "221",
                                    "nev": "Kovács László"
                                },
                                {
                                    "ora_id": "222",
                                    "nev": "Kovács László"
                                },
                                {
                                    "ora_id": "223",
                                    "nev": "Kovács László"
                                },
                                {
                                    "ora_id": "220",
                                    "nev": "Kovács László"
                                },
                                {
                                    "ora_id": "221",
                                    "nev": "Kovács László"
                                },
                                {
                                    "ora_id": "222",
                                    "nev": "Kovács László"
                                },
                                {
                                    "ora_id": "223",
                                    "nev": "Kovács László"
                                },
                                {
                                    "ora_id": "220",
                                    "nev": "Kovács László"
                                },
                                {
                                    "ora_id": "221",
                                    "nev": "Kovács László"
                                },
                                {
                                    "ora_id": "222",
                                    "nev": "Kovács László"
                                },
                                {
                                    "ora_id": "223",
                                    "nev": "Kovács László"
                                },
                                {
                                    "ora_id": "208",
                                    "nev": "Jogrerős Pál"
                                },
                                {
                                    "ora_id": "209",
                                    "nev": "Jogrerős Pál"
                                },
                                {
                                    "ora_id": "187",
                                    "nev": "Balkán András"
                                },
                                {
                                    "ora_id": "195",
                                    "nev": "Balkán András"
                                },
                                {
                                    "ora_id": "196",
                                    "nev": "Balkán András"
                                },
                                {
                                    "ora_id": "187",
                                    "nev": "Balkán András"
                                },
                                {
                                    "ora_id": "195",
                                    "nev": "Balkán András"
                                },
                                {
                                    "ora_id": "196",
                                    "nev": "Balkán András"
                                },
                                {
                                    "ora_id": "187",
                                    "nev": "Balkán András"
                                },
                                {
                                    "ora_id": "195",
                                    "nev": "Balkán András"
                                },
                                {
                                    "ora_id": "196",
                                    "nev": "Balkán András"
                                }
                            ]
                        },
                        "text/html": [
                            "<table>",
                            "<tr><th>ora_id</th><th>nev</th></tr>",
                            "<tr><td>191</td><td>Varga Kata</td></tr>",
                            "<tr><td>192</td><td>Varga Kata</td></tr>",
                            "<tr><td>206</td><td>Varga Kata</td></tr>",
                            "<tr><td>207</td><td>Varga Kata</td></tr>",
                            "<tr><td>159</td><td>Ujfalussi István</td></tr>",
                            "<tr><td>168</td><td>Ujfalussi István</td></tr>",
                            "<tr><td>205</td><td>Ujfalussi István</td></tr>",
                            "<tr><td>160</td><td>Pelikán József</td></tr>",
                            "<tr><td>161</td><td>Pelikán József</td></tr>",
                            "<tr><td>214</td><td>Pelikán József</td></tr>",
                            "<tr><td>215</td><td>Pelikán József</td></tr>",
                            "<tr><td>218</td><td>Pelikán József</td></tr>",
                            "<tr><td>219</td><td>Pelikán József</td></tr>",
                            "<tr><td>160</td><td>Pelikán József</td></tr>",
                            "<tr><td>161</td><td>Pelikán József</td></tr>",
                            "<tr><td>214</td><td>Pelikán József</td></tr>",
                            "<tr><td>215</td><td>Pelikán József</td></tr>",
                            "<tr><td>218</td><td>Pelikán József</td></tr>",
                            "<tr><td>219</td><td>Pelikán József</td></tr>",
                            "<tr><td>160</td><td>Pelikán József</td></tr>",
                            "<tr><td>161</td><td>Pelikán József</td></tr>",
                            "<tr><td>214</td><td>Pelikán József</td></tr>",
                            "<tr><td>215</td><td>Pelikán József</td></tr>",
                            "<tr><td>218</td><td>Pelikán József</td></tr>",
                            "<tr><td>219</td><td>Pelikán József</td></tr>",
                            "<tr><td>220</td><td>Kovács László</td></tr>",
                            "<tr><td>221</td><td>Kovács László</td></tr>",
                            "<tr><td>222</td><td>Kovács László</td></tr>",
                            "<tr><td>223</td><td>Kovács László</td></tr>",
                            "<tr><td>220</td><td>Kovács László</td></tr>",
                            "<tr><td>221</td><td>Kovács László</td></tr>",
                            "<tr><td>222</td><td>Kovács László</td></tr>",
                            "<tr><td>223</td><td>Kovács László</td></tr>",
                            "<tr><td>220</td><td>Kovács László</td></tr>",
                            "<tr><td>221</td><td>Kovács László</td></tr>",
                            "<tr><td>222</td><td>Kovács László</td></tr>",
                            "<tr><td>223</td><td>Kovács László</td></tr>",
                            "<tr><td>220</td><td>Kovács László</td></tr>",
                            "<tr><td>221</td><td>Kovács László</td></tr>",
                            "<tr><td>222</td><td>Kovács László</td></tr>",
                            "<tr><td>223</td><td>Kovács László</td></tr>",
                            "<tr><td>208</td><td>Jogrerős Pál</td></tr>",
                            "<tr><td>209</td><td>Jogrerős Pál</td></tr>",
                            "<tr><td>187</td><td>Balkán András</td></tr>",
                            "<tr><td>195</td><td>Balkán András</td></tr>",
                            "<tr><td>196</td><td>Balkán András</td></tr>",
                            "<tr><td>187</td><td>Balkán András</td></tr>",
                            "<tr><td>195</td><td>Balkán András</td></tr>",
                            "<tr><td>196</td><td>Balkán András</td></tr>",
                            "<tr><td>187</td><td>Balkán András</td></tr>",
                            "<tr><td>195</td><td>Balkán András</td></tr>",
                            "<tr><td>196</td><td>Balkán András</td></tr>",
                            "</table>"
                        ]
                    }
                }
            ],
            "execution_count": 112
        },
        {
            "cell_type": "markdown",
            "source": [
                "13. <span style=\"color: rgb(36, 41, 47); font-family: -apple-system, BlinkMacSystemFont, &quot;Segoe UI&quot;, Helvetica, Arial, sans-serif, &quot;Apple Color Emoji&quot;, &quot;Segoe UI Emoji&quot;; font-size: 16px;\">Készítsünk listát, amely megjeleníti, hogy az Orak táblában lévő órák közül hányat tart Dr., illetve nem Dr. titulusú tanár!</span>\n",
                "\n",
                "1. Az oszlopokat nevezzük el értelemszerűen!"
            ],
            "metadata": {
                "azdata_cell_guid": "3f9237ae-f109-401c-acb9-31d75e73331b"
            },
            "attachments": {}
        },
        {
            "cell_type": "code",
            "source": [
                "SELECT COUNT(*) as 'Dr.'\r\n",
                "from Orak JOIN Oktatok on Oktatok.oktato_id = Orak.tanar\r\n",
                "GROUP BY Oktatok.titulus\r\n",
                "HAVING Oktatok.titulus = 'Dr.'"
            ],
            "metadata": {
                "azdata_cell_guid": "4b31bb89-cfbc-46b1-8639-85c462877786",
                "language": "sql"
            },
            "outputs": [
                {
                    "output_type": "display_data",
                    "data": {
                        "text/html": "(1 row affected)"
                    },
                    "metadata": {}
                },
                {
                    "output_type": "display_data",
                    "data": {
                        "text/html": "Total execution time: 00:00:00.024"
                    },
                    "metadata": {}
                },
                {
                    "output_type": "execute_result",
                    "metadata": {},
                    "execution_count": 120,
                    "data": {
                        "application/vnd.dataresource+json": {
                            "schema": {
                                "fields": [
                                    {
                                        "name": "Dr."
                                    }
                                ]
                            },
                            "data": [
                                {
                                    "Dr.": "25"
                                }
                            ]
                        },
                        "text/html": [
                            "<table>",
                            "<tr><th>Dr.</th></tr>",
                            "<tr><td>25</td></tr>",
                            "</table>"
                        ]
                    }
                }
            ],
            "execution_count": 120
        },
        {
            "cell_type": "markdown",
            "source": [
                "14. <span style=\"color: rgb(36, 41, 47); font-family: -apple-system, BlinkMacSystemFont, &quot;Segoe UI&quot;, Helvetica, Arial, sans-serif, &quot;Apple Color Emoji&quot;, &quot;Segoe UI Emoji&quot;; font-size: 16px;\">Készítsünk listát arról, hogy beosztásonként hány óra szerepel az Orak táblában!</span>\n",
                "\n",
                "1. Jelenítsük meg a beosztások nevét és az órák számát!\n",
                "2. A listát szűrjük azokra a beosztásokra, ahol ez az óraszám 10 feletti!"
            ],
            "metadata": {
                "azdata_cell_guid": "f634e09a-85ef-4e70-8ec6-ef355dfddaa7"
            },
            "attachments": {}
        },
        {
            "cell_type": "code",
            "source": [
                "SELECT Beosztasok.beosztasnev, COUNT(*) as 'orakSzama'\r\n",
                "FROM Beosztasok JOIN Orak on Beosztasok.beosztas_id = Orak.Sav\r\n",
                "GROUP BY Beosztasok.beosztasnev\r\n",
                "HAVING COUNT(*) > 10"
            ],
            "metadata": {
                "azdata_cell_guid": "88abc55b-2c78-495b-a72f-3f8f4eb5fe70",
                "language": "sql"
            },
            "outputs": [
                {
                    "output_type": "display_data",
                    "data": {
                        "text/html": "(3 rows affected)"
                    },
                    "metadata": {}
                },
                {
                    "output_type": "display_data",
                    "data": {
                        "text/html": "Total execution time: 00:00:00.018"
                    },
                    "metadata": {}
                },
                {
                    "output_type": "execute_result",
                    "metadata": {},
                    "execution_count": 129,
                    "data": {
                        "application/vnd.dataresource+json": {
                            "schema": {
                                "fields": [
                                    {
                                        "name": "beosztasnev"
                                    },
                                    {
                                        "name": "orakSzama"
                                    }
                                ]
                            },
                            "data": [
                                {
                                    "beosztasnev": "Adjunktus",
                                    "orakSzama": "12"
                                },
                                {
                                    "beosztasnev": "Docens",
                                    "orakSzama": "12"
                                },
                                {
                                    "beosztasnev": "Tanársegéd",
                                    "orakSzama": "13"
                                }
                            ]
                        },
                        "text/html": [
                            "<table>",
                            "<tr><th>beosztasnev</th><th>orakSzama</th></tr>",
                            "<tr><td>Adjunktus</td><td>12</td></tr>",
                            "<tr><td>Docens</td><td>12</td></tr>",
                            "<tr><td>Tanársegéd</td><td>13</td></tr>",
                            "</table>"
                        ]
                    }
                }
            ],
            "execution_count": 129
        },
        {
            "cell_type": "markdown",
            "source": [
                "15. <span style=\"color: rgb(36, 41, 47); font-family: -apple-system, BlinkMacSystemFont, &quot;Segoe UI&quot;, Helvetica, Arial, sans-serif, &quot;Apple Color Emoji&quot;, &quot;Segoe UI Emoji&quot;; font-size: 16px;\">Melyek azok az órák, amelyek kezdési időpontja olyan sávba esik, amely a mostani időpont (óra:perc) után van?</span>\n",
                "\n",
                "1. Listázzuk az órák azonosítóit, valamint az órakezdés napját és időpontját!\n",
                "2. A listát rendezzük az időpont szerint növekvő sorrendbe!"
            ],
            "metadata": {
                "azdata_cell_guid": "4cbf2f0d-a65d-480a-8186-ccdb24498443"
            },
            "attachments": {}
        },
        {
            "cell_type": "code",
            "source": [
                "SELECT Orak.ora_id ,Orak.nap, Savok.Időpont\r\n",
                "FROM Savok JOIN Orak ON Savok.Sav_id = Orak.Sav\r\n",
                "WHERE Savok.Időpont> '12:00'\r\n",
                "ORDER BY Időpont"
            ],
            "metadata": {
                "azdata_cell_guid": "c148aee8-bc85-40bf-b80a-a4898a6c05cb",
                "language": "sql"
            },
            "outputs": [
                {
                    "output_type": "display_data",
                    "data": {
                        "text/html": "(43 rows affected)"
                    },
                    "metadata": {}
                },
                {
                    "output_type": "display_data",
                    "data": {
                        "text/html": "Total execution time: 00:00:00.045"
                    },
                    "metadata": {}
                },
                {
                    "output_type": "execute_result",
                    "metadata": {},
                    "execution_count": 137,
                    "data": {
                        "application/vnd.dataresource+json": {
                            "schema": {
                                "fields": [
                                    {
                                        "name": "ora_id"
                                    },
                                    {
                                        "name": "nap"
                                    },
                                    {
                                        "name": "Időpont"
                                    }
                                ]
                            },
                            "data": [
                                {
                                    "ora_id": "160",
                                    "nap": "2",
                                    "Időpont": "14.00"
                                },
                                {
                                    "ora_id": "177",
                                    "nap": "4",
                                    "Időpont": "14.00"
                                },
                                {
                                    "ora_id": "178",
                                    "nap": "4",
                                    "Időpont": "14.00"
                                },
                                {
                                    "ora_id": "191",
                                    "nap": "1",
                                    "Időpont": "14.00"
                                },
                                {
                                    "ora_id": "193",
                                    "nap": "1",
                                    "Időpont": "14.00"
                                },
                                {
                                    "ora_id": "195",
                                    "nap": "1",
                                    "Időpont": "14.00"
                                },
                                {
                                    "ora_id": "202",
                                    "nap": "4",
                                    "Időpont": "14.00"
                                },
                                {
                                    "ora_id": "204",
                                    "nap": "2",
                                    "Időpont": "14.00"
                                },
                                {
                                    "ora_id": "222",
                                    "nap": "4",
                                    "Időpont": "14.00"
                                },
                                {
                                    "ora_id": "227",
                                    "nap": "2",
                                    "Időpont": "14.00"
                                },
                                {
                                    "ora_id": "179",
                                    "nap": "4",
                                    "Időpont": "15.30"
                                },
                                {
                                    "ora_id": "180",
                                    "nap": "4",
                                    "Időpont": "15.30"
                                },
                                {
                                    "ora_id": "188",
                                    "nap": "4",
                                    "Időpont": "15.30"
                                },
                                {
                                    "ora_id": "192",
                                    "nap": "1",
                                    "Időpont": "15.30"
                                },
                                {
                                    "ora_id": "194",
                                    "nap": "1",
                                    "Időpont": "15.30"
                                },
                                {
                                    "ora_id": "196",
                                    "nap": "1",
                                    "Időpont": "15.30"
                                },
                                {
                                    "ora_id": "210",
                                    "nap": "1",
                                    "Időpont": "15.30"
                                },
                                {
                                    "ora_id": "218",
                                    "nap": "2",
                                    "Időpont": "15.30"
                                },
                                {
                                    "ora_id": "211",
                                    "nap": "1",
                                    "Időpont": "17.00"
                                },
                                {
                                    "ora_id": "219",
                                    "nap": "2",
                                    "Időpont": "17.00"
                                },
                                {
                                    "ora_id": "212",
                                    "nap": "1",
                                    "Időpont": "18.30"
                                },
                                {
                                    "ora_id": "213",
                                    "nap": "1",
                                    "Időpont": "20.00"
                                },
                                {
                                    "ora_id": "159",
                                    "nap": "3",
                                    "Időpont": "8.00"
                                },
                                {
                                    "ora_id": "181",
                                    "nap": "5",
                                    "Időpont": "8.00"
                                },
                                {
                                    "ora_id": "182",
                                    "nap": "5",
                                    "Időpont": "8.00"
                                },
                                {
                                    "ora_id": "197",
                                    "nap": "4",
                                    "Időpont": "8.00"
                                },
                                {
                                    "ora_id": "199",
                                    "nap": "4",
                                    "Időpont": "8.00"
                                },
                                {
                                    "ora_id": "206",
                                    "nap": "2",
                                    "Időpont": "8.00"
                                },
                                {
                                    "ora_id": "208",
                                    "nap": "1",
                                    "Időpont": "8.00"
                                },
                                {
                                    "ora_id": "223",
                                    "nap": "5",
                                    "Időpont": "8.00"
                                },
                                {
                                    "ora_id": "161",
                                    "nap": "1",
                                    "Időpont": "9.30"
                                },
                                {
                                    "ora_id": "163",
                                    "nap": "3",
                                    "Időpont": "9.30"
                                },
                                {
                                    "ora_id": "169",
                                    "nap": "1",
                                    "Időpont": "9.30"
                                },
                                {
                                    "ora_id": "170",
                                    "nap": "1",
                                    "Időpont": "9.30"
                                },
                                {
                                    "ora_id": "171",
                                    "nap": "2",
                                    "Időpont": "9.30"
                                },
                                {
                                    "ora_id": "172",
                                    "nap": "2",
                                    "Időpont": "9.30"
                                },
                                {
                                    "ora_id": "183",
                                    "nap": "5",
                                    "Időpont": "9.30"
                                },
                                {
                                    "ora_id": "184",
                                    "nap": "5",
                                    "Időpont": "9.30"
                                },
                                {
                                    "ora_id": "187",
                                    "nap": "3",
                                    "Időpont": "9.30"
                                },
                                {
                                    "ora_id": "189",
                                    "nap": "4",
                                    "Időpont": "9.30"
                                },
                                {
                                    "ora_id": "198",
                                    "nap": "3",
                                    "Időpont": "9.30"
                                },
                                {
                                    "ora_id": "200",
                                    "nap": "4",
                                    "Időpont": "9.30"
                                },
                                {
                                    "ora_id": "209",
                                    "nap": "1",
                                    "Időpont": "9.30"
                                }
                            ]
                        },
                        "text/html": [
                            "<table>",
                            "<tr><th>ora_id</th><th>nap</th><th>Időpont</th></tr>",
                            "<tr><td>160</td><td>2</td><td>14.00</td></tr>",
                            "<tr><td>177</td><td>4</td><td>14.00</td></tr>",
                            "<tr><td>178</td><td>4</td><td>14.00</td></tr>",
                            "<tr><td>191</td><td>1</td><td>14.00</td></tr>",
                            "<tr><td>193</td><td>1</td><td>14.00</td></tr>",
                            "<tr><td>195</td><td>1</td><td>14.00</td></tr>",
                            "<tr><td>202</td><td>4</td><td>14.00</td></tr>",
                            "<tr><td>204</td><td>2</td><td>14.00</td></tr>",
                            "<tr><td>222</td><td>4</td><td>14.00</td></tr>",
                            "<tr><td>227</td><td>2</td><td>14.00</td></tr>",
                            "<tr><td>179</td><td>4</td><td>15.30</td></tr>",
                            "<tr><td>180</td><td>4</td><td>15.30</td></tr>",
                            "<tr><td>188</td><td>4</td><td>15.30</td></tr>",
                            "<tr><td>192</td><td>1</td><td>15.30</td></tr>",
                            "<tr><td>194</td><td>1</td><td>15.30</td></tr>",
                            "<tr><td>196</td><td>1</td><td>15.30</td></tr>",
                            "<tr><td>210</td><td>1</td><td>15.30</td></tr>",
                            "<tr><td>218</td><td>2</td><td>15.30</td></tr>",
                            "<tr><td>211</td><td>1</td><td>17.00</td></tr>",
                            "<tr><td>219</td><td>2</td><td>17.00</td></tr>",
                            "<tr><td>212</td><td>1</td><td>18.30</td></tr>",
                            "<tr><td>213</td><td>1</td><td>20.00</td></tr>",
                            "<tr><td>159</td><td>3</td><td>8.00</td></tr>",
                            "<tr><td>181</td><td>5</td><td>8.00</td></tr>",
                            "<tr><td>182</td><td>5</td><td>8.00</td></tr>",
                            "<tr><td>197</td><td>4</td><td>8.00</td></tr>",
                            "<tr><td>199</td><td>4</td><td>8.00</td></tr>",
                            "<tr><td>206</td><td>2</td><td>8.00</td></tr>",
                            "<tr><td>208</td><td>1</td><td>8.00</td></tr>",
                            "<tr><td>223</td><td>5</td><td>8.00</td></tr>",
                            "<tr><td>161</td><td>1</td><td>9.30</td></tr>",
                            "<tr><td>163</td><td>3</td><td>9.30</td></tr>",
                            "<tr><td>169</td><td>1</td><td>9.30</td></tr>",
                            "<tr><td>170</td><td>1</td><td>9.30</td></tr>",
                            "<tr><td>171</td><td>2</td><td>9.30</td></tr>",
                            "<tr><td>172</td><td>2</td><td>9.30</td></tr>",
                            "<tr><td>183</td><td>5</td><td>9.30</td></tr>",
                            "<tr><td>184</td><td>5</td><td>9.30</td></tr>",
                            "<tr><td>187</td><td>3</td><td>9.30</td></tr>",
                            "<tr><td>189</td><td>4</td><td>9.30</td></tr>",
                            "<tr><td>198</td><td>3</td><td>9.30</td></tr>",
                            "<tr><td>200</td><td>4</td><td>9.30</td></tr>",
                            "<tr><td>209</td><td>1</td><td>9.30</td></tr>",
                            "</table>"
                        ]
                    }
                }
            ],
            "execution_count": 137
        }
    ]
}