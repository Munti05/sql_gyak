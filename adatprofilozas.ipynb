{
    "metadata": {
        "kernelspec": {
            "name": "SQL",
            "display_name": "SQL",
            "language": "sql"
        },
        "language_info": {
            "name": "sql",
            "version": ""
        }
    },
    "nbformat_minor": 2,
    "nbformat": 4,
    "cells": [
        {
            "cell_type": "code",
            "source": [
                "SELECT MIN(FELNOTT_SZAM) AS 'min_felnott', \r\n",
                "       MAX(FELNOTT_SZAM) AS 'max_felnott', \r\n",
                "       AVG(FELNOTT_SZAM) AS 'atlagos_felnott', \r\n",
                "       STDEV(FELNOTT_SZAM) AS 'felnottek_szorasa',\r\n",
                "\r\n",
                "        MIN(GYERMEK_SZAM) AS 'min_gyerek', \r\n",
                "        MAX(GYERMEK_SZAM) AS 'max_gyerek', \r\n",
                "        AVG(GYERMEK_SZAM) AS 'atlagos_gyerek', \r\n",
                "        STDEV(GYERMEK_SZAM) AS 'gyerekek_szorasa'\r\n",
                "FROM Foglalas\r\n",
                "\r\n",
                "\r\n",
                "SELECT  MIN(DATEDIFF(DAY,METTOL,MEDDIG)) as 'szobafoglalasok_idotartalma(nap)_min',\r\n",
                "        Max(DATEDIFF(DAY,METTOL,MEDDIG)) as 'szobafoglalasok_idotartalma(nap)_max',\r\n",
                "        AVG(DATEDIFF(DAY,METTOL,MEDDIG)) as 'szobafoglalasok_idotartalma(nap)_atlag',\r\n",
                "        STDEV(DATEDIFF(DAY,METTOL,MEDDIG)) as 'szobafoglalasok_idotartalma(nap)_szoras'\r\n",
                "FROM Foglalas\r\n",
                "\r\n",
                "\r\n",
                "SELECT top(10)  SZOBA_FK, COUNT(*) AS 'legnepszerubb_szobak'\r\n",
                "FROM Foglalas\r\n",
                "GROUP BY SZOBA_FK\r\n",
                "ORDER BY 'legnepszerubb_szobak' DESC\r\n",
                "\r\n",
                "SELECT top(10) UGYFEL_FK ,COUNT(*) AS 'leghusegesebb_ugyfelek(foglalas_szamok_alapjan)'\r\n",
                "FROM Foglalas\r\n",
                "GROUP BY UGYFEL_FK\r\n",
                "ORDER BY 2 desc\r\n",
                ""
            ],
            "metadata": {
                "azdata_cell_guid": "b7748928-7d49-441a-8494-463dfdb1996e",
                "language": "sql",
                "tags": []
            },
            "outputs": [
                {
                    "output_type": "display_data",
                    "data": {
                        "text/html": "(1 row affected)"
                    },
                    "metadata": {}
                },
                {
                    "output_type": "display_data",
                    "data": {
                        "text/html": "(1 row affected)"
                    },
                    "metadata": {}
                },
                {
                    "output_type": "display_data",
                    "data": {
                        "text/html": "(10 rows affected)"
                    },
                    "metadata": {}
                },
                {
                    "output_type": "display_data",
                    "data": {
                        "text/html": "(10 rows affected)"
                    },
                    "metadata": {}
                },
                {
                    "output_type": "display_data",
                    "data": {
                        "text/html": "Total execution time: 00:00:00.045"
                    },
                    "metadata": {}
                },
                {
                    "output_type": "execute_result",
                    "metadata": {},
                    "execution_count": 47,
                    "data": {
                        "application/vnd.dataresource+json": {
                            "schema": {
                                "fields": [
                                    {
                                        "name": "min_felnott"
                                    },
                                    {
                                        "name": "max_felnott"
                                    },
                                    {
                                        "name": "atlagos_felnott"
                                    },
                                    {
                                        "name": "felnottek_szorasa"
                                    },
                                    {
                                        "name": "min_gyerek"
                                    },
                                    {
                                        "name": "max_gyerek"
                                    },
                                    {
                                        "name": "atlagos_gyerek"
                                    },
                                    {
                                        "name": "gyerekek_szorasa"
                                    }
                                ]
                            },
                            "data": [
                                {
                                    "min_felnott": "1",
                                    "max_felnott": "4",
                                    "atlagos_felnott": "1",
                                    "felnottek_szorasa": "0,7115960746033938",
                                    "min_gyerek": "0",
                                    "max_gyerek": "4",
                                    "atlagos_gyerek": "0",
                                    "gyerekek_szorasa": "0,8402811998848698"
                                }
                            ]
                        },
                        "text/html": [
                            "<table>",
                            "<tr><th>min_felnott</th><th>max_felnott</th><th>atlagos_felnott</th><th>felnottek_szorasa</th><th>min_gyerek</th><th>max_gyerek</th><th>atlagos_gyerek</th><th>gyerekek_szorasa</th></tr>",
                            "<tr><td>1</td><td>4</td><td>1</td><td>0,7115960746033938</td><td>0</td><td>4</td><td>0</td><td>0,8402811998848698</td></tr>",
                            "</table>"
                        ]
                    }
                },
                {
                    "output_type": "execute_result",
                    "metadata": {},
                    "execution_count": 47,
                    "data": {
                        "application/vnd.dataresource+json": {
                            "schema": {
                                "fields": [
                                    {
                                        "name": "szobafoglalasok_idotartalma(nap)_min"
                                    },
                                    {
                                        "name": "szobafoglalasok_idotartalma(nap)_max"
                                    },
                                    {
                                        "name": "szobafoglalasok_idotartalma(nap)_atlag"
                                    },
                                    {
                                        "name": "szobafoglalasok_idotartalma(nap)_szoras"
                                    }
                                ]
                            },
                            "data": [
                                {
                                    "szobafoglalasok_idotartalma(nap)_min": "1",
                                    "szobafoglalasok_idotartalma(nap)_max": "37",
                                    "szobafoglalasok_idotartalma(nap)_atlag": "4",
                                    "szobafoglalasok_idotartalma(nap)_szoras": "2,251272111686568"
                                }
                            ]
                        },
                        "text/html": [
                            "<table>",
                            "<tr><th>szobafoglalasok_idotartalma(nap)_min</th><th>szobafoglalasok_idotartalma(nap)_max</th><th>szobafoglalasok_idotartalma(nap)_atlag</th><th>szobafoglalasok_idotartalma(nap)_szoras</th></tr>",
                            "<tr><td>1</td><td>37</td><td>4</td><td>2,251272111686568</td></tr>",
                            "</table>"
                        ]
                    }
                },
                {
                    "output_type": "execute_result",
                    "metadata": {},
                    "execution_count": 47,
                    "data": {
                        "application/vnd.dataresource+json": {
                            "schema": {
                                "fields": [
                                    {
                                        "name": "SZOBA_FK"
                                    },
                                    {
                                        "name": "legnepszerubb_szobak"
                                    }
                                ]
                            },
                            "data": [
                                {
                                    "SZOBA_FK": "58",
                                    "legnepszerubb_szobak": "13"
                                },
                                {
                                    "SZOBA_FK": "185",
                                    "legnepszerubb_szobak": "12"
                                },
                                {
                                    "SZOBA_FK": "182",
                                    "legnepszerubb_szobak": "12"
                                },
                                {
                                    "SZOBA_FK": "70",
                                    "legnepszerubb_szobak": "11"
                                },
                                {
                                    "SZOBA_FK": "94",
                                    "legnepszerubb_szobak": "10"
                                },
                                {
                                    "SZOBA_FK": "172",
                                    "legnepszerubb_szobak": "9"
                                },
                                {
                                    "SZOBA_FK": "12",
                                    "legnepszerubb_szobak": "9"
                                },
                                {
                                    "SZOBA_FK": "35",
                                    "legnepszerubb_szobak": "9"
                                },
                                {
                                    "SZOBA_FK": "122",
                                    "legnepszerubb_szobak": "9"
                                },
                                {
                                    "SZOBA_FK": "48",
                                    "legnepszerubb_szobak": "9"
                                }
                            ]
                        },
                        "text/html": [
                            "<table>",
                            "<tr><th>SZOBA_FK</th><th>legnepszerubb_szobak</th></tr>",
                            "<tr><td>58</td><td>13</td></tr>",
                            "<tr><td>185</td><td>12</td></tr>",
                            "<tr><td>182</td><td>12</td></tr>",
                            "<tr><td>70</td><td>11</td></tr>",
                            "<tr><td>94</td><td>10</td></tr>",
                            "<tr><td>172</td><td>9</td></tr>",
                            "<tr><td>12</td><td>9</td></tr>",
                            "<tr><td>35</td><td>9</td></tr>",
                            "<tr><td>122</td><td>9</td></tr>",
                            "<tr><td>48</td><td>9</td></tr>",
                            "</table>"
                        ]
                    }
                },
                {
                    "output_type": "execute_result",
                    "metadata": {},
                    "execution_count": 47,
                    "data": {
                        "application/vnd.dataresource+json": {
                            "schema": {
                                "fields": [
                                    {
                                        "name": "UGYFEL_FK"
                                    },
                                    {
                                        "name": "leghusegesebb_ugyfelek(foglalas_szamok_alapjan)"
                                    }
                                ]
                            },
                            "data": [
                                {
                                    "UGYFEL_FK": "andras41",
                                    "leghusegesebb_ugyfelek(foglalas_szamok_alapjan)": "13"
                                },
                                {
                                    "UGYFEL_FK": "ARONK",
                                    "leghusegesebb_ugyfelek(foglalas_szamok_alapjan)": "13"
                                },
                                {
                                    "UGYFEL_FK": "krisztian4",
                                    "leghusegesebb_ugyfelek(foglalas_szamok_alapjan)": "12"
                                },
                                {
                                    "UGYFEL_FK": "peter4",
                                    "leghusegesebb_ugyfelek(foglalas_szamok_alapjan)": "12"
                                },
                                {
                                    "UGYFEL_FK": "sara",
                                    "leghusegesebb_ugyfelek(foglalas_szamok_alapjan)": "12"
                                },
                                {
                                    "UGYFEL_FK": "zoltan4",
                                    "leghusegesebb_ugyfelek(foglalas_szamok_alapjan)": "12"
                                },
                                {
                                    "UGYFEL_FK": "akos",
                                    "leghusegesebb_ugyfelek(foglalas_szamok_alapjan)": "10"
                                },
                                {
                                    "UGYFEL_FK": "balazs2",
                                    "leghusegesebb_ugyfelek(foglalas_szamok_alapjan)": "10"
                                },
                                {
                                    "UGYFEL_FK": "balint1",
                                    "leghusegesebb_ugyfelek(foglalas_szamok_alapjan)": "10"
                                },
                                {
                                    "UGYFEL_FK": "eszter2",
                                    "leghusegesebb_ugyfelek(foglalas_szamok_alapjan)": "10"
                                }
                            ]
                        },
                        "text/html": [
                            "<table>",
                            "<tr><th>UGYFEL_FK</th><th>leghusegesebb_ugyfelek(foglalas_szamok_alapjan)</th></tr>",
                            "<tr><td>andras41</td><td>13</td></tr>",
                            "<tr><td>ARONK</td><td>13</td></tr>",
                            "<tr><td>krisztian4</td><td>12</td></tr>",
                            "<tr><td>peter4</td><td>12</td></tr>",
                            "<tr><td>sara</td><td>12</td></tr>",
                            "<tr><td>zoltan4</td><td>12</td></tr>",
                            "<tr><td>akos</td><td>10</td></tr>",
                            "<tr><td>balazs2</td><td>10</td></tr>",
                            "<tr><td>balint1</td><td>10</td></tr>",
                            "<tr><td>eszter2</td><td>10</td></tr>",
                            "</table>"
                        ]
                    }
                }
            ],
            "execution_count": 47
        }
    ]
}